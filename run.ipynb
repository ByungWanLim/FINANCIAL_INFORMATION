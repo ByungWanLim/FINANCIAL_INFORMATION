{
 "cells": [
  {
   "cell_type": "code",
   "execution_count": 1,
   "metadata": {},
   "outputs": [
    {
     "name": "stderr",
     "output_type": "stream",
     "text": [
      "c:\\ProgramData\\anaconda3\\envs\\llm_project\\Lib\\site-packages\\tqdm\\auto.py:21: TqdmWarning: IProgress not found. Please update jupyter and ipywidgets. See https://ipywidgets.readthedocs.io/en/stable/user_install.html\n",
      "  from .autonotebook import tqdm as notebook_tqdm\n"
     ]
    }
   ],
   "source": [
    "# Model\n",
    "from transformers import AutoTokenizer, AutoModelForCausalLM, pipeline, BitsAndBytesConfig\n",
    "from langchain_huggingface import HuggingFacePipeline\n",
    "import torch\n",
    "from langchain_core.output_parsers import StrOutputParser\n",
    "from langchain_core.runnables import RunnablePassthrough\n",
    "from langchain.prompts import PromptTemplate\n",
    "# Vector stores\n",
    "from langchain_community.vectorstores import FAISS\n",
    "from langchain_huggingface import HuggingFaceEmbeddings\n",
    "from langchain_community.document_loaders import PyPDFLoader\n",
    "from langchain.text_splitter import RecursiveCharacterTextSplitter\n",
    "from langchain_community.retrievers import BM25Retriever, KNNRetriever\n",
    "from langchain.retrievers import EnsembleRetriever\n",
    "# etc\n",
    "import os\n",
    "import pandas as pd\n",
    "from tqdm import tqdm\n",
    "import unicodedata"
   ]
  },
  {
   "cell_type": "code",
   "execution_count": 2,
   "metadata": {},
   "outputs": [],
   "source": [
    "train_df = pd.read_csv('train.csv')\n",
    "test_df = pd.read_csv('test.csv')\n",
    "\n",
    "def get_embedding():\n",
    "    embeddings = HuggingFaceEmbeddings(\n",
    "        model_name='intfloat/multilingual-e5-small',\n",
    "        model_kwargs={'device': 'cuda'},\n",
    "        encode_kwargs={'normalize_embeddings': True})\n",
    "    return embeddings\n",
    "\n",
    "def normalize_string(s):\n",
    "    return unicodedata.normalize('NFC', s)\n",
    "\n",
    "def format_docs(docs):\n",
    "    \"\"\"검색된 문서들을 하나의 문자열로 포맷팅\"\"\"\n",
    "    context = \"\"\n",
    "    for i, doc in enumerate(docs):\n",
    "        #context += f\"Document {i+1}\\n\"\n",
    "        context += doc.page_content\n",
    "        context += '\\n\\n'\n",
    "    return context"
   ]
  },
  {
   "cell_type": "code",
   "execution_count": 3,
   "metadata": {},
   "outputs": [],
   "source": [
    "\n",
    "def fewshot_db(df):\n",
    "    df = df.drop('SAMPLE_ID', axis=1)\n",
    "    df = df.drop('Source_path', axis=1)\n",
    "    df = df.to_dict(orient='records')\n",
    "    print(\"Loaded Fewshot Set:\", df[:1])\n",
    "    to_vectorize = [\"\\n\\n\".join(normalize_string(value) for value in example.values()) for example in df]\n",
    "    \n",
    "    faiss = FAISS.from_texts(to_vectorize, embedding=get_embedding())\n",
    "    bm = BM25Retriever.from_texts(to_vectorize)\n",
    "    knn = KNNRetriever.from_texts(to_vectorize, embeddings=get_embedding())\n",
    "    return faiss, bm, knn\n",
    "    \n",
    "def make_db(df):\n",
    "    # Create a new FAISS database\n",
    "    # pdf reader\n",
    "    documents = []\n",
    "    pdf_files = df['Source_path'].unique()\n",
    "    for pdf_file in pdf_files:\n",
    "        pdf_loader = PyPDFLoader(pdf_file)\n",
    "        pdf_documents = pdf_loader.load()\n",
    "        for pdf_document in pdf_documents:\n",
    "            pdf_document.page_content = pdf_document.page_content.replace(\"\\x07\",\"\")\n",
    "        documents.extend(pdf_documents)\n",
    "    # 정규화\n",
    "    # for doc in documents:\n",
    "    #     doc.page_content = normalize_string(doc.page_content)\n",
    "    chunk_splitter = RecursiveCharacterTextSplitter(chunk_size=300, chunk_overlap=60)\n",
    "    chunks = chunk_splitter.split_documents(documents)\n",
    "    print(f\"Total number of chunks: {len(chunks)}\")\n",
    "    # FAISS DB 만들기\n",
    "    faiss = FAISS.from_documents(chunks, embedding=get_embedding())\n",
    "    bm =  BM25Retriever.from_documents(chunks)\n",
    "    knn = KNNRetriever.from_documents(chunks, embeddings=get_embedding())\n",
    "    return faiss, bm, knn\n"
   ]
  },
  {
   "cell_type": "code",
   "execution_count": 4,
   "metadata": {},
   "outputs": [
    {
     "name": "stdout",
     "output_type": "stream",
     "text": [
      "Total number of chunks: 4113\n"
     ]
    },
    {
     "name": "stderr",
     "output_type": "stream",
     "text": [
      "c:\\ProgramData\\anaconda3\\envs\\llm_project\\Lib\\site-packages\\transformers\\models\\bert\\modeling_bert.py:439: UserWarning: 1Torch was not compiled with flash attention. (Triggered internally at ..\\aten\\src\\ATen\\native\\transformers\\cuda\\sdp_utils.cpp:455.)\n",
      "  attn_output = torch.nn.functional.scaled_dot_product_attention(\n"
     ]
    },
    {
     "name": "stdout",
     "output_type": "stream",
     "text": [
      "Total number of chunks: 456\n"
     ]
    }
   ],
   "source": [
    "\n",
    "train_faiss_db, train_bm_retrievier, knn_retriever = make_db(train_df) \n",
    "test_faiss_db, test_bm_retrievier, test_knn_retriever = make_db(test_df)\n"
   ]
  },
  {
   "cell_type": "code",
   "execution_count": 5,
   "metadata": {},
   "outputs": [
    {
     "name": "stdout",
     "output_type": "stream",
     "text": [
      "Loaded Fewshot Set: [{'Source': '1-1 2024 주요 재정통계 1권', 'Question': '2024년 중앙정부 재정체계는 어떻게 구성되어 있나요?', 'Answer': '2024년 중앙정부 재정체계는 예산(일반·특별회계)과 기금으로 구분되며, 2024년 기준으로 일반회계 1개, 특별회계 21개, 기금 68개로 구성되어 있습니다.'}]\n"
     ]
    }
   ],
   "source": [
    "\n",
    "fewshot_faiss_db, fewshot_bm_retrievier, fewshot_knn_retriever = fewshot_db(train_df)\n"
   ]
  },
  {
   "cell_type": "code",
   "execution_count": 6,
   "metadata": {},
   "outputs": [],
   "source": [
    "train_k = 1\n",
    "train_bm_retrievier.k = train_k\n",
    "knn_retriever.k = train_k\n",
    "faiss_retriever = train_faiss_db.as_retriever(search_kwargs={'k':train_k} )\n",
    "train_ensemble_retriever = EnsembleRetriever(\n",
    "    retrievers=[train_bm_retrievier,knn_retriever, faiss_retriever], weights=[0.25,0.25, 0.5]\n",
    ")\n",
    "\n",
    "test_k = 3\n",
    "test_bm_retrievier.k = test_k\n",
    "test_knn_retriever.k = test_k\n",
    "test_faiss_retriever = test_faiss_db.as_retriever(search_kwargs={'k':test_k} )\n",
    "test_ensemble_retriever = EnsembleRetriever(\n",
    "    retrievers=[test_bm_retrievier,test_knn_retriever, test_faiss_retriever], weights=[0.25,0.25, 0.5]\n",
    ")\n",
    "\n",
    "fewshot_k = 3\n",
    "fewshot_bm_retrievier.k = fewshot_k\n",
    "fewshot_knn_retriever.k = fewshot_k\n",
    "fewshot_faiss_retriever = fewshot_faiss_db.as_retriever(search_kwargs={'k':fewshot_k} )\n",
    "fewshot_ensemble_retriever = EnsembleRetriever(\n",
    "    retrievers=[fewshot_bm_retrievier,fewshot_knn_retriever, fewshot_faiss_retriever], weights=[0.25,0.25, 0.5]\n",
    ")\n"
   ]
  },
  {
   "cell_type": "code",
   "execution_count": 7,
   "metadata": {},
   "outputs": [
    {
     "name": "stderr",
     "output_type": "stream",
     "text": [
      "Loading checkpoint shards: 100%|██████████| 4/4 [00:12<00:00,  3.05s/it]\n"
     ]
    }
   ],
   "source": [
    "def setup_llm_pipeline(model_id = \"meta-llama/Meta-Llama-3.1-8B-Instruct\"):\n",
    "    # 토크나이저 로드 및 설정\n",
    "        # 양자화 설정 적용\n",
    "    bnb_config = BitsAndBytesConfig(\n",
    "    load_in_4bit=True, \n",
    "    bnb_4bit_use_double_quant=True, \n",
    "    bnb_4bit_quant_type=\"nf4\", \n",
    "    bnb_4bit_compute_dtype=torch.bfloat16\n",
    "    )\n",
    "    model = AutoModelForCausalLM.from_pretrained(model_id, quantization_config=bnb_config,low_cpu_mem_usage=True)\n",
    "    tokenizer = AutoTokenizer.from_pretrained(model_id)\n",
    "    terminators = [\n",
    "    tokenizer.eos_token_id,\n",
    "    tokenizer.convert_tokens_to_ids(\"<|eot_id|>\")\n",
    "    ]\n",
    "\n",
    "    text_generation_pipeline = pipeline(\n",
    "        model=model,\n",
    "        tokenizer=tokenizer,\n",
    "        task=\"text-generation\",\n",
    "        temperature=0.4,\n",
    "        do_sample=True,\n",
    "        top_p = 0.6,\n",
    "        repetition_penalty=1.1,\n",
    "        return_full_text=False,\n",
    "        max_new_tokens=512,\n",
    "        eos_token_id = terminators,\n",
    "        pad_token_id = tokenizer.eos_token_id\n",
    "    )\n",
    "\n",
    "    llm = HuggingFacePipeline(pipeline=text_generation_pipeline)\n",
    "\n",
    "    return llm\n",
    "llm = setup_llm_pipeline()"
   ]
  },
  {
   "cell_type": "code",
   "execution_count": 8,
   "metadata": {},
   "outputs": [],
   "source": [
    "def extract_answer(response):\n",
    "    # AI: 로 시작하는 줄을 찾아 그 이후의 텍스트만 추출\n",
    "    lines = response.split('\\n')\n",
    "    for line in lines:\n",
    "        line = line.replace('**', '')\n",
    "        if line.startswith('Answer:'):\n",
    "            return line.replace('Answer:', '').strip()\n",
    "        if line.startswith('assistant:'):\n",
    "            return line.replace('assistant:', '').strip()\n",
    "    return response.strip()  # AI: 를 찾지 못한 경우 전체 응답을 정리해서 반환\n",
    "\n",
    "def fewshot_ex(fewshot_retriever, train_retriever, query):\n",
    "    fewshot_results = fewshot_retriever.invoke(query) #Document(page_content='중소벤처기업부_창업사업화지원\\n\\n창업사업화지원의 사업목적은 무엇인가?\\n\\n창업사업화지원의 사업목적은 창업기업의 성장단계별, 초격차 분야별, 글로벌화 지원체계를 구축‧운영하여 혁신 기술창업을 활성화하고 창업기업 성장 및 생존율 제고하는 것이다.')\n",
    "    fewshot_str = \"\"\n",
    "    for result in fewshot_results:\n",
    "        result = result.page_content.split('\\n\\n')\n",
    "        buff_str = \"<|start_header_id|>user<|end_header_id|>\\n\"\n",
    "        question = result[1]\n",
    "        buff_str += f\"Question\\n{question}\\n\\n\"\n",
    "        if train_retriever is not None:\n",
    "            buff_str += f\"Context\\n\"\n",
    "            docs = train_retriever.invoke(question)\n",
    "            \n",
    "            print(len(docs),end='|')\n",
    "            \n",
    "            buff_str += format_docs(docs)\n",
    "            buff_str += \"<eot_id>\"\n",
    "        buff_str += f\"<|start_header_id|>assistant<|end_header_id>\\n{result[2]}<|eot_id|>\"\n",
    "        fewshot_str += buff_str\n",
    "    return fewshot_str\n",
    "\n",
    "def run (train,test,fewshot,dataset,llm,verbose=False):\n",
    "    results = []\n",
    "    for i, row in tqdm(dataset.iterrows()):\n",
    "        full_template = \"<|begin_of_text|>\"\n",
    "        full_template += \"\"\"<|start_header_id|>system<|end_header_id|>\n",
    "You are the financial expert who helps me with my financial information Q&As.\n",
    "You earn 10 points when you answer me and follow the rules and lose 7 points when you don't.\n",
    "Here are some rules you should follow.\n",
    "- Please use contexts to answer the question.\n",
    "- Please your answers should be concise.\n",
    "- Please answers must be written in Korean.\n",
    "- Please answer the question in 1-3 sentences.\n",
    "\n",
    "- Use the three examples below to learn how to follow the rules and reference information in context.<|eot_id|>\n",
    "\"\"\"\n",
    "        question = row['Question']\n",
    "        fewshot_str = fewshot_ex(fewshot, train, question)\n",
    "        full_template += fewshot_str\n",
    "        full_template += \"\\n\\n\"\n",
    "        contexts = test.invoke(question)\n",
    "        contexts = format_docs(contexts)\n",
    "        full_template += \"\"\"<|start_header_id|>user<|end_header_id|>\\nQuestion\\n{input}\\n\\n\"\"\"\n",
    "        full_template += f\"\"\"Context\\n{contexts}<|eot_id|>\"\"\"\n",
    "        full_template += \"\"\"<|start_header_id|>assistant<|end_header_id>\\n\"\"\"\n",
    "        \n",
    "        prompt = PromptTemplate.from_template(full_template)\n",
    "        qa_chain = (\n",
    "        {\n",
    "            \"input\": RunnablePassthrough(),\n",
    "        }\n",
    "        | prompt\n",
    "        | llm\n",
    "        | StrOutputParser()\n",
    "        )\n",
    "        if verbose:\n",
    "            print(\"Question: \", question)\n",
    "        answer = qa_chain.invoke(input=question)\n",
    "        answer = extract_answer(answer)\n",
    "        results.append({\n",
    "            \"Question\": question,\n",
    "            \"Answer\": answer,\n",
    "            \"Source\": row['Source']\n",
    "        })\n",
    "        if verbose:\n",
    "            print(\"Answer: \", results[-1]['Answer'])\n",
    "    return results"
   ]
  },
  {
   "cell_type": "code",
   "execution_count": 9,
   "metadata": {},
   "outputs": [],
   "source": [
    "from collections import Counter\n",
    "def calculate_f1_score(true_sentence, predicted_sentence, sum_mode=True):\n",
    "\n",
    "    #공백 제거\n",
    "    true_sentence = ''.join(true_sentence.split())\n",
    "    predicted_sentence = ''.join(predicted_sentence.split())\n",
    "    \n",
    "    true_counter = Counter(true_sentence)\n",
    "    predicted_counter = Counter(predicted_sentence)\n",
    "\n",
    "    #문자가 등장한 개수도 고려\n",
    "    if sum_mode:\n",
    "        true_positive = sum((true_counter & predicted_counter).values())\n",
    "        predicted_positive = sum(predicted_counter.values())\n",
    "        actual_positive = sum(true_counter.values())\n",
    "\n",
    "    #문자 자체가 있는 것에 focus를 맞춤\n",
    "    else:\n",
    "        true_positive = len((true_counter & predicted_counter).values())\n",
    "        predicted_positive = len(predicted_counter.values())\n",
    "        actual_positive = len(true_counter.values())\n",
    "\n",
    "    #f1 score 계산\n",
    "    precision = true_positive / predicted_positive if predicted_positive > 0 else 0\n",
    "    recall = true_positive / actual_positive if actual_positive > 0 else 0\n",
    "    f1_score = 2 * (precision * recall) / (precision + recall) if (precision + recall) > 0 else 0\n",
    "    \n",
    "    return precision, recall, f1_score\n",
    "\n",
    "def calculate_average_f1_score(true_sentences, predicted_sentences):\n",
    "    \n",
    "    total_precision = 0\n",
    "    total_recall = 0\n",
    "    total_f1_score = 0\n",
    "    \n",
    "    for true_sentence, predicted_sentence in zip(true_sentences, predicted_sentences):\n",
    "        precision, recall, f1_score = calculate_f1_score(true_sentence, predicted_sentence)\n",
    "        total_precision += precision\n",
    "        total_recall += recall\n",
    "        total_f1_score += f1_score\n",
    "    \n",
    "    avg_precision = total_precision / len(true_sentences)\n",
    "    avg_recall = total_recall / len(true_sentences)\n",
    "    avg_f1_score = total_f1_score / len(true_sentences)\n",
    "    \n",
    "    return {\n",
    "        'average_precision': avg_precision,\n",
    "        'average_recall': avg_recall,\n",
    "        'average_f1_score': avg_f1_score\n",
    "    }"
   ]
  },
  {
   "cell_type": "code",
   "execution_count": 10,
   "metadata": {},
   "outputs": [
    {
     "name": "stdout",
     "output_type": "stream",
     "text": [
      "Loaded Fewshot Set: [{'Source': '1-1 2024 주요 재정통계 1권', 'Question': '2024년 중앙정부 재정체계는 어떻게 구성되어 있나요?', 'Answer': '2024년 중앙정부 재정체계는 예산(일반·특별회계)과 기금으로 구분되며, 2024년 기준으로 일반회계 1개, 특별회계 21개, 기금 68개로 구성되어 있습니다.'}]\n"
     ]
    },
    {
     "name": "stderr",
     "output_type": "stream",
     "text": [
      "0it [00:00, ?it/s]"
     ]
    },
    {
     "name": "stdout",
     "output_type": "stream",
     "text": [
      "1|1|2|"
     ]
    },
    {
     "name": "stderr",
     "output_type": "stream",
     "text": [
      "1it [00:27, 27.53s/it]"
     ]
    },
    {
     "name": "stdout",
     "output_type": "stream",
     "text": [
      "1|2|2|2|"
     ]
    },
    {
     "name": "stderr",
     "output_type": "stream",
     "text": [
      "2it [01:00, 30.50s/it]"
     ]
    },
    {
     "name": "stdout",
     "output_type": "stream",
     "text": [
      "1|1|2|2|"
     ]
    },
    {
     "name": "stderr",
     "output_type": "stream",
     "text": [
      "3it [01:28, 29.61s/it]"
     ]
    },
    {
     "name": "stdout",
     "output_type": "stream",
     "text": [
      "1|2|2|2|"
     ]
    },
    {
     "name": "stderr",
     "output_type": "stream",
     "text": [
      "4it [02:03, 31.86s/it]"
     ]
    },
    {
     "name": "stdout",
     "output_type": "stream",
     "text": [
      "2|2|2|"
     ]
    },
    {
     "name": "stderr",
     "output_type": "stream",
     "text": [
      "5it [02:25, 28.10s/it]"
     ]
    },
    {
     "name": "stdout",
     "output_type": "stream",
     "text": [
      "2|2|2|2|"
     ]
    },
    {
     "name": "stderr",
     "output_type": "stream",
     "text": [
      "6it [02:51, 27.33s/it]"
     ]
    },
    {
     "name": "stdout",
     "output_type": "stream",
     "text": [
      "1|2|2|1|"
     ]
    },
    {
     "name": "stderr",
     "output_type": "stream",
     "text": [
      "7it [03:20, 27.96s/it]"
     ]
    },
    {
     "name": "stdout",
     "output_type": "stream",
     "text": [
      "2|1|2|1|"
     ]
    },
    {
     "name": "stderr",
     "output_type": "stream",
     "text": [
      "8it [03:46, 27.47s/it]"
     ]
    },
    {
     "name": "stdout",
     "output_type": "stream",
     "text": [
      "2|1|1|1|"
     ]
    },
    {
     "name": "stderr",
     "output_type": "stream",
     "text": [
      "9it [04:14, 27.56s/it]"
     ]
    },
    {
     "name": "stdout",
     "output_type": "stream",
     "text": [
      "2|2|2|"
     ]
    },
    {
     "name": "stderr",
     "output_type": "stream",
     "text": [
      "10it [04:50, 30.09s/it]"
     ]
    },
    {
     "name": "stdout",
     "output_type": "stream",
     "text": [
      "1|1|2|"
     ]
    },
    {
     "name": "stderr",
     "output_type": "stream",
     "text": [
      "You seem to be using the pipelines sequentially on GPU. In order to maximize efficiency please use a dataset\n"
     ]
    },
    {
     "name": "stdout",
     "output_type": "stream",
     "text": [
      "2|"
     ]
    },
    {
     "name": "stderr",
     "output_type": "stream",
     "text": [
      "11it [05:12, 27.68s/it]"
     ]
    },
    {
     "name": "stdout",
     "output_type": "stream",
     "text": [
      "1|1|2|"
     ]
    },
    {
     "name": "stderr",
     "output_type": "stream",
     "text": [
      "12it [05:36, 26.43s/it]"
     ]
    },
    {
     "name": "stdout",
     "output_type": "stream",
     "text": [
      "1|2|2|2|"
     ]
    },
    {
     "name": "stderr",
     "output_type": "stream",
     "text": [
      "13it [06:20, 31.97s/it]"
     ]
    },
    {
     "name": "stdout",
     "output_type": "stream",
     "text": [
      "2|2|1|1|"
     ]
    },
    {
     "name": "stderr",
     "output_type": "stream",
     "text": [
      "14it [06:45, 29.83s/it]"
     ]
    },
    {
     "name": "stdout",
     "output_type": "stream",
     "text": [
      "2|2|2|1|"
     ]
    },
    {
     "name": "stderr",
     "output_type": "stream",
     "text": [
      "15it [07:10, 28.27s/it]"
     ]
    },
    {
     "name": "stdout",
     "output_type": "stream",
     "text": [
      "2|2|2|1|"
     ]
    },
    {
     "name": "stderr",
     "output_type": "stream",
     "text": [
      "16it [07:44, 30.13s/it]"
     ]
    },
    {
     "name": "stdout",
     "output_type": "stream",
     "text": [
      "1|2|2|"
     ]
    },
    {
     "name": "stderr",
     "output_type": "stream",
     "text": [
      "17it [08:13, 29.63s/it]"
     ]
    },
    {
     "name": "stdout",
     "output_type": "stream",
     "text": [
      "2|1|1|1|"
     ]
    },
    {
     "name": "stderr",
     "output_type": "stream",
     "text": [
      "18it [08:46, 30.69s/it]"
     ]
    },
    {
     "name": "stdout",
     "output_type": "stream",
     "text": [
      "2|1|2|1|"
     ]
    },
    {
     "name": "stderr",
     "output_type": "stream",
     "text": [
      "19it [09:13, 29.60s/it]"
     ]
    },
    {
     "name": "stdout",
     "output_type": "stream",
     "text": [
      "2|2|2|2|"
     ]
    },
    {
     "name": "stderr",
     "output_type": "stream",
     "text": [
      "20it [09:44, 30.02s/it]"
     ]
    },
    {
     "name": "stdout",
     "output_type": "stream",
     "text": [
      "1|2|2|"
     ]
    },
    {
     "name": "stderr",
     "output_type": "stream",
     "text": [
      "21it [10:08, 28.18s/it]"
     ]
    },
    {
     "name": "stdout",
     "output_type": "stream",
     "text": [
      "2|2|2|2|"
     ]
    },
    {
     "name": "stderr",
     "output_type": "stream",
     "text": [
      "22it [10:57, 34.38s/it]"
     ]
    },
    {
     "name": "stdout",
     "output_type": "stream",
     "text": [
      "2|1|2|2|"
     ]
    },
    {
     "name": "stderr",
     "output_type": "stream",
     "text": [
      "23it [11:32, 34.51s/it]"
     ]
    },
    {
     "name": "stdout",
     "output_type": "stream",
     "text": [
      "2|1|2|2|"
     ]
    },
    {
     "name": "stderr",
     "output_type": "stream",
     "text": [
      "24it [12:13, 36.45s/it]"
     ]
    },
    {
     "name": "stdout",
     "output_type": "stream",
     "text": [
      "2|2|2|2|"
     ]
    },
    {
     "name": "stderr",
     "output_type": "stream",
     "text": [
      "25it [12:42, 34.44s/it]"
     ]
    },
    {
     "name": "stdout",
     "output_type": "stream",
     "text": [
      "2|2|2|2|"
     ]
    },
    {
     "name": "stderr",
     "output_type": "stream",
     "text": [
      "26it [13:07, 31.39s/it]"
     ]
    },
    {
     "name": "stdout",
     "output_type": "stream",
     "text": [
      "2|2|2|"
     ]
    },
    {
     "name": "stderr",
     "output_type": "stream",
     "text": [
      "27it [13:33, 29.88s/it]"
     ]
    },
    {
     "name": "stdout",
     "output_type": "stream",
     "text": [
      "2|1|2|"
     ]
    },
    {
     "name": "stderr",
     "output_type": "stream",
     "text": [
      "28it [13:55, 27.40s/it]"
     ]
    },
    {
     "name": "stdout",
     "output_type": "stream",
     "text": [
      "1|2|2|"
     ]
    },
    {
     "name": "stderr",
     "output_type": "stream",
     "text": [
      "29it [14:15, 25.22s/it]"
     ]
    },
    {
     "name": "stdout",
     "output_type": "stream",
     "text": [
      "2|1|2|"
     ]
    },
    {
     "name": "stderr",
     "output_type": "stream",
     "text": [
      "30it [14:40, 25.14s/it]"
     ]
    },
    {
     "name": "stdout",
     "output_type": "stream",
     "text": [
      "1|2|"
     ]
    },
    {
     "name": "stderr",
     "output_type": "stream",
     "text": [
      "31it [14:58, 23.09s/it]"
     ]
    },
    {
     "name": "stdout",
     "output_type": "stream",
     "text": [
      "2|1|2|1|"
     ]
    },
    {
     "name": "stderr",
     "output_type": "stream",
     "text": [
      "32it [15:26, 24.47s/it]"
     ]
    },
    {
     "name": "stdout",
     "output_type": "stream",
     "text": [
      "2|2|"
     ]
    },
    {
     "name": "stderr",
     "output_type": "stream",
     "text": [
      "33it [15:44, 22.70s/it]"
     ]
    },
    {
     "name": "stdout",
     "output_type": "stream",
     "text": [
      "2|1|2|2|"
     ]
    },
    {
     "name": "stderr",
     "output_type": "stream",
     "text": [
      "34it [16:13, 24.49s/it]"
     ]
    },
    {
     "name": "stdout",
     "output_type": "stream",
     "text": [
      "2|2|2|2|"
     ]
    },
    {
     "name": "stderr",
     "output_type": "stream",
     "text": [
      "35it [16:51, 28.66s/it]"
     ]
    },
    {
     "name": "stdout",
     "output_type": "stream",
     "text": [
      "2|2|2|2|"
     ]
    },
    {
     "name": "stderr",
     "output_type": "stream",
     "text": [
      "36it [17:28, 30.99s/it]"
     ]
    },
    {
     "name": "stdout",
     "output_type": "stream",
     "text": [
      "2|2|2|"
     ]
    },
    {
     "name": "stderr",
     "output_type": "stream",
     "text": [
      "37it [17:59, 30.98s/it]"
     ]
    },
    {
     "name": "stdout",
     "output_type": "stream",
     "text": [
      "2|2|2|2|"
     ]
    },
    {
     "name": "stderr",
     "output_type": "stream",
     "text": [
      "38it [18:51, 37.51s/it]"
     ]
    },
    {
     "name": "stdout",
     "output_type": "stream",
     "text": [
      "2|2|2|"
     ]
    },
    {
     "name": "stderr",
     "output_type": "stream",
     "text": [
      "39it [19:15, 33.29s/it]"
     ]
    },
    {
     "name": "stdout",
     "output_type": "stream",
     "text": [
      "2|2|2|1|"
     ]
    },
    {
     "name": "stderr",
     "output_type": "stream",
     "text": [
      "40it [19:47, 32.95s/it]"
     ]
    },
    {
     "name": "stdout",
     "output_type": "stream",
     "text": [
      "2|2|2|"
     ]
    },
    {
     "name": "stderr",
     "output_type": "stream",
     "text": [
      "41it [20:15, 31.44s/it]"
     ]
    },
    {
     "name": "stdout",
     "output_type": "stream",
     "text": [
      "2|2|1|2|"
     ]
    },
    {
     "name": "stderr",
     "output_type": "stream",
     "text": [
      "42it [20:43, 30.37s/it]"
     ]
    },
    {
     "name": "stdout",
     "output_type": "stream",
     "text": [
      "2|2|2|2|"
     ]
    },
    {
     "name": "stderr",
     "output_type": "stream",
     "text": [
      "43it [21:16, 31.28s/it]"
     ]
    },
    {
     "name": "stdout",
     "output_type": "stream",
     "text": [
      "2|2|1|2|"
     ]
    },
    {
     "name": "stderr",
     "output_type": "stream",
     "text": [
      "44it [21:47, 31.13s/it]"
     ]
    },
    {
     "name": "stdout",
     "output_type": "stream",
     "text": [
      "2|2|2|2|"
     ]
    },
    {
     "name": "stderr",
     "output_type": "stream",
     "text": [
      "45it [22:17, 30.67s/it]"
     ]
    },
    {
     "name": "stdout",
     "output_type": "stream",
     "text": [
      "1|2|2|"
     ]
    },
    {
     "name": "stderr",
     "output_type": "stream",
     "text": [
      "46it [22:48, 30.74s/it]"
     ]
    },
    {
     "name": "stdout",
     "output_type": "stream",
     "text": [
      "2|1|2|2|"
     ]
    },
    {
     "name": "stderr",
     "output_type": "stream",
     "text": [
      "47it [23:19, 30.86s/it]"
     ]
    },
    {
     "name": "stdout",
     "output_type": "stream",
     "text": [
      "2|2|2|2|"
     ]
    },
    {
     "name": "stderr",
     "output_type": "stream",
     "text": [
      "48it [23:51, 31.42s/it]"
     ]
    },
    {
     "name": "stdout",
     "output_type": "stream",
     "text": [
      "2|2|2|2|"
     ]
    },
    {
     "name": "stderr",
     "output_type": "stream",
     "text": [
      "49it [24:23, 31.53s/it]"
     ]
    },
    {
     "name": "stdout",
     "output_type": "stream",
     "text": [
      "2|2|2|2|"
     ]
    },
    {
     "name": "stderr",
     "output_type": "stream",
     "text": [
      "50it [24:51, 30.39s/it]"
     ]
    },
    {
     "name": "stdout",
     "output_type": "stream",
     "text": [
      "2|1|2|"
     ]
    },
    {
     "name": "stderr",
     "output_type": "stream",
     "text": [
      "51it [25:21, 30.15s/it]"
     ]
    },
    {
     "name": "stdout",
     "output_type": "stream",
     "text": [
      "2|2|2|"
     ]
    },
    {
     "name": "stderr",
     "output_type": "stream",
     "text": [
      "52it [25:47, 29.17s/it]"
     ]
    },
    {
     "name": "stdout",
     "output_type": "stream",
     "text": [
      "2|2|"
     ]
    },
    {
     "name": "stderr",
     "output_type": "stream",
     "text": [
      "53it [26:16, 28.96s/it]"
     ]
    },
    {
     "name": "stdout",
     "output_type": "stream",
     "text": [
      "2|1|2|"
     ]
    },
    {
     "name": "stderr",
     "output_type": "stream",
     "text": [
      "54it [26:40, 27.47s/it]"
     ]
    },
    {
     "name": "stdout",
     "output_type": "stream",
     "text": [
      "2|2|2|"
     ]
    },
    {
     "name": "stderr",
     "output_type": "stream",
     "text": [
      "55it [27:14, 29.39s/it]"
     ]
    },
    {
     "name": "stdout",
     "output_type": "stream",
     "text": [
      "2|2|"
     ]
    },
    {
     "name": "stderr",
     "output_type": "stream",
     "text": [
      "56it [27:36, 27.38s/it]"
     ]
    },
    {
     "name": "stdout",
     "output_type": "stream",
     "text": [
      "2|1|2|"
     ]
    },
    {
     "name": "stderr",
     "output_type": "stream",
     "text": [
      "57it [28:11, 29.65s/it]"
     ]
    },
    {
     "name": "stdout",
     "output_type": "stream",
     "text": [
      "2|2|1|"
     ]
    },
    {
     "name": "stderr",
     "output_type": "stream",
     "text": [
      "58it [28:35, 27.88s/it]"
     ]
    },
    {
     "name": "stdout",
     "output_type": "stream",
     "text": [
      "2|1|2|2|"
     ]
    },
    {
     "name": "stderr",
     "output_type": "stream",
     "text": [
      "59it [29:10, 30.02s/it]"
     ]
    },
    {
     "name": "stdout",
     "output_type": "stream",
     "text": [
      "1|2|2|1|"
     ]
    },
    {
     "name": "stderr",
     "output_type": "stream",
     "text": [
      "60it [30:01, 36.31s/it]"
     ]
    },
    {
     "name": "stdout",
     "output_type": "stream",
     "text": [
      "1|2|2|"
     ]
    },
    {
     "name": "stderr",
     "output_type": "stream",
     "text": [
      "61it [30:38, 36.44s/it]"
     ]
    },
    {
     "name": "stdout",
     "output_type": "stream",
     "text": [
      "2|2|2|2|"
     ]
    },
    {
     "name": "stderr",
     "output_type": "stream",
     "text": [
      "62it [31:19, 37.97s/it]"
     ]
    },
    {
     "name": "stdout",
     "output_type": "stream",
     "text": [
      "1|2|1|"
     ]
    },
    {
     "name": "stderr",
     "output_type": "stream",
     "text": [
      "63it [31:42, 33.35s/it]"
     ]
    },
    {
     "name": "stdout",
     "output_type": "stream",
     "text": [
      "2|2|"
     ]
    },
    {
     "name": "stderr",
     "output_type": "stream",
     "text": [
      "64it [32:12, 32.37s/it]"
     ]
    },
    {
     "name": "stdout",
     "output_type": "stream",
     "text": [
      "2|1|2|2|"
     ]
    },
    {
     "name": "stderr",
     "output_type": "stream",
     "text": [
      "65it [32:44, 32.37s/it]"
     ]
    },
    {
     "name": "stdout",
     "output_type": "stream",
     "text": [
      "2|2|1|2|"
     ]
    },
    {
     "name": "stderr",
     "output_type": "stream",
     "text": [
      "66it [33:17, 32.47s/it]"
     ]
    },
    {
     "name": "stdout",
     "output_type": "stream",
     "text": [
      "2|2|2|2|"
     ]
    },
    {
     "name": "stderr",
     "output_type": "stream",
     "text": [
      "67it [33:48, 32.00s/it]"
     ]
    },
    {
     "name": "stdout",
     "output_type": "stream",
     "text": [
      "2|2|2|2|"
     ]
    },
    {
     "name": "stderr",
     "output_type": "stream",
     "text": [
      "68it [34:39, 37.82s/it]"
     ]
    },
    {
     "name": "stdout",
     "output_type": "stream",
     "text": [
      "2|2|2|1|"
     ]
    },
    {
     "name": "stderr",
     "output_type": "stream",
     "text": [
      "69it [35:10, 35.61s/it]"
     ]
    },
    {
     "name": "stdout",
     "output_type": "stream",
     "text": [
      "2|2|2|2|"
     ]
    },
    {
     "name": "stderr",
     "output_type": "stream",
     "text": [
      "70it [35:54, 38.05s/it]"
     ]
    },
    {
     "name": "stdout",
     "output_type": "stream",
     "text": [
      "2|1|2|1|"
     ]
    },
    {
     "name": "stderr",
     "output_type": "stream",
     "text": [
      "71it [36:25, 35.98s/it]"
     ]
    },
    {
     "name": "stdout",
     "output_type": "stream",
     "text": [
      "2|2|2|2|"
     ]
    },
    {
     "name": "stderr",
     "output_type": "stream",
     "text": [
      "72it [36:56, 34.62s/it]"
     ]
    },
    {
     "name": "stdout",
     "output_type": "stream",
     "text": [
      "1|2|2|"
     ]
    },
    {
     "name": "stderr",
     "output_type": "stream",
     "text": [
      "73it [37:11, 28.80s/it]"
     ]
    },
    {
     "name": "stdout",
     "output_type": "stream",
     "text": [
      "2|2|"
     ]
    },
    {
     "name": "stderr",
     "output_type": "stream",
     "text": [
      "74it [37:27, 24.82s/it]"
     ]
    },
    {
     "name": "stdout",
     "output_type": "stream",
     "text": [
      "2|2|"
     ]
    },
    {
     "name": "stderr",
     "output_type": "stream",
     "text": [
      "75it [37:53, 25.26s/it]"
     ]
    },
    {
     "name": "stdout",
     "output_type": "stream",
     "text": [
      "2|2|2|"
     ]
    },
    {
     "name": "stderr",
     "output_type": "stream",
     "text": [
      "76it [38:27, 27.81s/it]"
     ]
    },
    {
     "name": "stdout",
     "output_type": "stream",
     "text": [
      "2|1|2|2|"
     ]
    },
    {
     "name": "stderr",
     "output_type": "stream",
     "text": [
      "77it [38:55, 27.71s/it]"
     ]
    },
    {
     "name": "stdout",
     "output_type": "stream",
     "text": [
      "1|2|2|2|"
     ]
    },
    {
     "name": "stderr",
     "output_type": "stream",
     "text": [
      "78it [39:38, 32.43s/it]"
     ]
    },
    {
     "name": "stdout",
     "output_type": "stream",
     "text": [
      "2|2|1|1|"
     ]
    },
    {
     "name": "stderr",
     "output_type": "stream",
     "text": [
      "79it [40:03, 30.17s/it]"
     ]
    },
    {
     "name": "stdout",
     "output_type": "stream",
     "text": [
      "2|2|2|2|"
     ]
    },
    {
     "name": "stderr",
     "output_type": "stream",
     "text": [
      "80it [40:45, 33.75s/it]"
     ]
    },
    {
     "name": "stdout",
     "output_type": "stream",
     "text": [
      "1|2|2|2|"
     ]
    },
    {
     "name": "stderr",
     "output_type": "stream",
     "text": [
      "81it [41:11, 31.58s/it]"
     ]
    },
    {
     "name": "stdout",
     "output_type": "stream",
     "text": [
      "2|2|2|"
     ]
    },
    {
     "name": "stderr",
     "output_type": "stream",
     "text": [
      "82it [41:39, 30.46s/it]"
     ]
    },
    {
     "name": "stdout",
     "output_type": "stream",
     "text": [
      "2|2|2|2|"
     ]
    },
    {
     "name": "stderr",
     "output_type": "stream",
     "text": [
      "83it [42:18, 33.05s/it]"
     ]
    },
    {
     "name": "stdout",
     "output_type": "stream",
     "text": [
      "2|2|2|"
     ]
    },
    {
     "name": "stderr",
     "output_type": "stream",
     "text": [
      "84it [42:43, 30.40s/it]"
     ]
    },
    {
     "name": "stdout",
     "output_type": "stream",
     "text": [
      "2|2|2|"
     ]
    },
    {
     "name": "stderr",
     "output_type": "stream",
     "text": [
      "85it [43:07, 28.72s/it]"
     ]
    },
    {
     "name": "stdout",
     "output_type": "stream",
     "text": [
      "2|1|"
     ]
    },
    {
     "name": "stderr",
     "output_type": "stream",
     "text": [
      "86it [43:26, 25.77s/it]"
     ]
    },
    {
     "name": "stdout",
     "output_type": "stream",
     "text": [
      "1|2|1|"
     ]
    },
    {
     "name": "stderr",
     "output_type": "stream",
     "text": [
      "87it [43:43, 23.04s/it]"
     ]
    },
    {
     "name": "stdout",
     "output_type": "stream",
     "text": [
      "2|2|2|"
     ]
    },
    {
     "name": "stderr",
     "output_type": "stream",
     "text": [
      "88it [44:03, 22.20s/it]"
     ]
    },
    {
     "name": "stdout",
     "output_type": "stream",
     "text": [
      "2|1|1|"
     ]
    },
    {
     "name": "stderr",
     "output_type": "stream",
     "text": [
      "89it [44:17, 19.72s/it]"
     ]
    },
    {
     "name": "stdout",
     "output_type": "stream",
     "text": [
      "2|2|"
     ]
    },
    {
     "name": "stderr",
     "output_type": "stream",
     "text": [
      "90it [44:38, 19.92s/it]"
     ]
    },
    {
     "name": "stdout",
     "output_type": "stream",
     "text": [
      "2|1|2|"
     ]
    },
    {
     "name": "stderr",
     "output_type": "stream",
     "text": [
      "91it [44:59, 20.50s/it]"
     ]
    },
    {
     "name": "stdout",
     "output_type": "stream",
     "text": [
      "1|2|2|"
     ]
    },
    {
     "name": "stderr",
     "output_type": "stream",
     "text": [
      "92it [45:18, 19.86s/it]"
     ]
    },
    {
     "name": "stdout",
     "output_type": "stream",
     "text": [
      "2|2|2|"
     ]
    },
    {
     "name": "stderr",
     "output_type": "stream",
     "text": [
      "93it [45:43, 21.45s/it]"
     ]
    },
    {
     "name": "stdout",
     "output_type": "stream",
     "text": [
      "2|2|2|2|"
     ]
    },
    {
     "name": "stderr",
     "output_type": "stream",
     "text": [
      "94it [46:05, 21.54s/it]"
     ]
    },
    {
     "name": "stdout",
     "output_type": "stream",
     "text": [
      "2|2|2|"
     ]
    },
    {
     "name": "stderr",
     "output_type": "stream",
     "text": [
      "95it [47:04, 32.76s/it]"
     ]
    },
    {
     "name": "stdout",
     "output_type": "stream",
     "text": [
      "2|2|2|"
     ]
    },
    {
     "name": "stderr",
     "output_type": "stream",
     "text": [
      "96it [47:38, 33.13s/it]"
     ]
    },
    {
     "name": "stdout",
     "output_type": "stream",
     "text": [
      "2|2|"
     ]
    },
    {
     "name": "stderr",
     "output_type": "stream",
     "text": [
      "97it [47:58, 29.39s/it]"
     ]
    },
    {
     "name": "stdout",
     "output_type": "stream",
     "text": [
      "2|2|2|"
     ]
    },
    {
     "name": "stderr",
     "output_type": "stream",
     "text": [
      "98it [48:25, 28.57s/it]"
     ]
    },
    {
     "name": "stdout",
     "output_type": "stream",
     "text": [
      "1|2|2|1|"
     ]
    },
    {
     "name": "stderr",
     "output_type": "stream",
     "text": [
      "99it [48:57, 29.68s/it]"
     ]
    },
    {
     "name": "stdout",
     "output_type": "stream",
     "text": [
      "2|1|1|2|"
     ]
    },
    {
     "name": "stderr",
     "output_type": "stream",
     "text": [
      "100it [49:26, 29.38s/it]"
     ]
    },
    {
     "name": "stdout",
     "output_type": "stream",
     "text": [
      "1|1|2|"
     ]
    },
    {
     "name": "stderr",
     "output_type": "stream",
     "text": [
      "101it [49:51, 28.15s/it]"
     ]
    },
    {
     "name": "stdout",
     "output_type": "stream",
     "text": [
      "1|2|2|"
     ]
    },
    {
     "name": "stderr",
     "output_type": "stream",
     "text": [
      "102it [50:18, 27.78s/it]"
     ]
    },
    {
     "name": "stdout",
     "output_type": "stream",
     "text": [
      "2|1|1|"
     ]
    },
    {
     "name": "stderr",
     "output_type": "stream",
     "text": [
      "103it [50:44, 27.31s/it]"
     ]
    },
    {
     "name": "stdout",
     "output_type": "stream",
     "text": [
      "2|1|2|"
     ]
    },
    {
     "name": "stderr",
     "output_type": "stream",
     "text": [
      "104it [51:13, 27.71s/it]"
     ]
    },
    {
     "name": "stdout",
     "output_type": "stream",
     "text": [
      "2|2|2|"
     ]
    },
    {
     "name": "stderr",
     "output_type": "stream",
     "text": [
      "105it [51:54, 31.84s/it]"
     ]
    },
    {
     "name": "stdout",
     "output_type": "stream",
     "text": [
      "2|2|2|"
     ]
    },
    {
     "name": "stderr",
     "output_type": "stream",
     "text": [
      "106it [52:53, 39.96s/it]"
     ]
    },
    {
     "name": "stdout",
     "output_type": "stream",
     "text": [
      "2|2|2|"
     ]
    },
    {
     "name": "stderr",
     "output_type": "stream",
     "text": [
      "107it [53:23, 36.99s/it]"
     ]
    },
    {
     "name": "stdout",
     "output_type": "stream",
     "text": [
      "2|2|2|"
     ]
    },
    {
     "name": "stderr",
     "output_type": "stream",
     "text": [
      "108it [54:03, 37.92s/it]"
     ]
    },
    {
     "name": "stdout",
     "output_type": "stream",
     "text": [
      "2|2|1|"
     ]
    },
    {
     "name": "stderr",
     "output_type": "stream",
     "text": [
      "109it [54:33, 35.53s/it]"
     ]
    },
    {
     "name": "stdout",
     "output_type": "stream",
     "text": [
      "2|2|1|"
     ]
    },
    {
     "name": "stderr",
     "output_type": "stream",
     "text": [
      "110it [55:04, 33.96s/it]"
     ]
    },
    {
     "name": "stdout",
     "output_type": "stream",
     "text": [
      "2|2|1|"
     ]
    },
    {
     "name": "stderr",
     "output_type": "stream",
     "text": [
      "111it [55:31, 31.91s/it]"
     ]
    },
    {
     "name": "stdout",
     "output_type": "stream",
     "text": [
      "2|2|2|"
     ]
    },
    {
     "name": "stderr",
     "output_type": "stream",
     "text": [
      "112it [56:03, 31.92s/it]"
     ]
    },
    {
     "name": "stdout",
     "output_type": "stream",
     "text": [
      "2|1|2|2|"
     ]
    },
    {
     "name": "stderr",
     "output_type": "stream",
     "text": [
      "113it [56:30, 30.45s/it]"
     ]
    },
    {
     "name": "stdout",
     "output_type": "stream",
     "text": [
      "1|2|"
     ]
    },
    {
     "name": "stderr",
     "output_type": "stream",
     "text": [
      "114it [56:59, 29.94s/it]"
     ]
    },
    {
     "name": "stdout",
     "output_type": "stream",
     "text": [
      "2|2|2|"
     ]
    },
    {
     "name": "stderr",
     "output_type": "stream",
     "text": [
      "115it [57:31, 30.68s/it]"
     ]
    },
    {
     "name": "stdout",
     "output_type": "stream",
     "text": [
      "2|2|2|"
     ]
    },
    {
     "name": "stderr",
     "output_type": "stream",
     "text": [
      "116it [57:56, 28.98s/it]"
     ]
    },
    {
     "name": "stdout",
     "output_type": "stream",
     "text": [
      "2|2|1|2|"
     ]
    },
    {
     "name": "stderr",
     "output_type": "stream",
     "text": [
      "117it [58:45, 34.86s/it]"
     ]
    },
    {
     "name": "stdout",
     "output_type": "stream",
     "text": [
      "2|2|2|2|"
     ]
    },
    {
     "name": "stderr",
     "output_type": "stream",
     "text": [
      "118it [59:57, 46.02s/it]"
     ]
    },
    {
     "name": "stdout",
     "output_type": "stream",
     "text": [
      "1|1|2|2|"
     ]
    },
    {
     "name": "stderr",
     "output_type": "stream",
     "text": [
      "119it [1:00:37, 44.37s/it]"
     ]
    },
    {
     "name": "stdout",
     "output_type": "stream",
     "text": [
      "2|1|2|"
     ]
    },
    {
     "name": "stderr",
     "output_type": "stream",
     "text": [
      "120it [1:01:03, 38.67s/it]"
     ]
    },
    {
     "name": "stdout",
     "output_type": "stream",
     "text": [
      "1|2|2|2|"
     ]
    },
    {
     "name": "stderr",
     "output_type": "stream",
     "text": [
      "121it [1:01:33, 36.22s/it]"
     ]
    },
    {
     "name": "stdout",
     "output_type": "stream",
     "text": [
      "2|2|2|2|"
     ]
    },
    {
     "name": "stderr",
     "output_type": "stream",
     "text": [
      "122it [1:02:12, 36.97s/it]"
     ]
    },
    {
     "name": "stdout",
     "output_type": "stream",
     "text": [
      "2|2|2|"
     ]
    },
    {
     "name": "stderr",
     "output_type": "stream",
     "text": [
      "123it [1:02:44, 35.60s/it]"
     ]
    },
    {
     "name": "stdout",
     "output_type": "stream",
     "text": [
      "2|2|2|1|"
     ]
    },
    {
     "name": "stderr",
     "output_type": "stream",
     "text": [
      "124it [1:03:15, 30.61s/it]"
     ]
    },
    {
     "name": "stdout",
     "output_type": "stream",
     "text": [
      "{'average_precision': 0.703990846559331, 'average_recall': 0.7249136718946358, 'average_f1_score': 0.6817151338765062}\n"
     ]
    },
    {
     "name": "stderr",
     "output_type": "stream",
     "text": [
      "\n"
     ]
    }
   ],
   "source": [
    "from sklearn.model_selection import KFold\n",
    "k_folds = 4\n",
    "fold_results = []\n",
    "kf = KFold(n_splits=k_folds, shuffle=True, random_state=52)\n",
    "for fold, (train_index, val_index) in enumerate(kf.split(train_df)):\n",
    "    fold_result = []\n",
    "    train_set = train_df.iloc[train_index]\n",
    "    val_set = train_df.iloc[val_index]\n",
    "    \n",
    "    \n",
    "    fewshot_faiss_db, fewshot_bm_retrievier, fewshot_knn_retriever = fewshot_db(train_set)\n",
    "\n",
    "    fewshot_k = 2\n",
    "    fewshot_bm_retrievier.k = fewshot_k\n",
    "    fewshot_knn_retriever.k = fewshot_k\n",
    "    fewshot_faiss_retriever = fewshot_faiss_db.as_retriever(search_kwargs={'k':fewshot_k} )\n",
    "    fewshot_ensemble_retriever = EnsembleRetriever(\n",
    "        retrievers=[fewshot_bm_retrievier,fewshot_knn_retriever, fewshot_faiss_retriever], weights=[0.25,0.25, 0.5]\n",
    "    )\n",
    "    pred = run(train_ensemble_retriever, train_ensemble_retriever, fewshot_ensemble_retriever, val_set, llm, verbose=False)\n",
    "    result = pd.DataFrame()\n",
    "    result['pred'] = [result['Answer'] for result in pred]\n",
    "    val_set.index = range(len(val_set))\n",
    "    result['gt'] = val_set['Answer']\n",
    "        \n",
    "    result = calculate_average_f1_score(result['gt'], result['pred'])\n",
    "    print(result)\n",
    "    fold_results.append(result)\n",
    "    break"
   ]
  },
  {
   "cell_type": "code",
   "execution_count": 11,
   "metadata": {},
   "outputs": [
    {
     "name": "stdout",
     "output_type": "stream",
     "text": [
      "Loaded Fewshot Set: [{'Source': '1-1 2024 주요 재정통계 1권', 'Question': '2024년 중앙정부 재정체계는 어떻게 구성되어 있나요?', 'Answer': '2024년 중앙정부 재정체계는 예산(일반·특별회계)과 기금으로 구분되며, 2024년 기준으로 일반회계 1개, 특별회계 21개, 기금 68개로 구성되어 있습니다.'}]\n"
     ]
    },
    {
     "name": "stderr",
     "output_type": "stream",
     "text": [
      "0it [00:00, ?it/s]"
     ]
    },
    {
     "name": "stdout",
     "output_type": "stream",
     "text": [
      "2|2|2|1|Question:  2022년 혁신창업사업화자금(융자)의 예산은 얼마인가요?\n"
     ]
    },
    {
     "name": "stderr",
     "output_type": "stream",
     "text": [
      "1it [00:45, 45.39s/it]"
     ]
    },
    {
     "name": "stdout",
     "output_type": "stream",
     "text": [
      "Answer:  2022년 혁신창업사업화자금(융자의) 예산은 2,300,000백만원입니다.\n",
      "2|1|2|Question:  중소벤처기업부의 혁신창업사업화자금(융자) 사업목적은 무엇인가요?\n"
     ]
    },
    {
     "name": "stderr",
     "output_type": "stream",
     "text": [
      "2it [01:35, 48.12s/it]"
     ]
    },
    {
     "name": "stdout",
     "output_type": "stream",
     "text": [
      "Answer:  혁신창업사업화자금(융자)의 사업목적은 다음과 같습니다.\n",
      "\n",
      "1. 창업기반 지원: 기술력과 사업성이 우수하고 미래 성장 가능성이 높은 중소벤처기업의 창업을 활성화하고 고용 창출을 도모합니다.\n",
      "2. 개발기술 사업화: 중소기업이 보유한 우수 기술을 보호하고 개발 기술의 사업화를 지원합니다.\n",
      "1|1|2|2|Question:  중소벤처기업부의 혁신창업사업화자금(융자) 사업근거는 어떤 법률에 근거하고 있나요?\n"
     ]
    },
    {
     "name": "stderr",
     "output_type": "stream",
     "text": [
      "3it [02:13, 43.34s/it]"
     ]
    },
    {
     "name": "stdout",
     "output_type": "stream",
     "text": [
      "Answer:  중소기업진흥에 관한 법률 제66조, 제66조, 제67조, 제74조에 근거합니다.\n",
      "1|1|2|2|Question:  2010년에 신규 지원된 혁신창업사업화자금은 무엇인가요?\n"
     ]
    },
    {
     "name": "stderr",
     "output_type": "stream",
     "text": [
      "4it [02:50, 40.95s/it]"
     ]
    },
    {
     "name": "stdout",
     "output_type": "stream",
     "text": [
      "Answer:  2010년에 신규 지원된 혁신창업사업화자금은 청년전용창업자금이었습니다.\n",
      "1|2|2|2|Question:  혁신창업사업화자금 중 2020년에 신규 지원된 자금은 무엇인가요?\n"
     ]
    },
    {
     "name": "stderr",
     "output_type": "stream",
     "text": [
      "5it [03:26, 39.14s/it]"
     ]
    },
    {
     "name": "stdout",
     "output_type": "stream",
     "text": [
      "Answer:  2020년에 신규 지원된 혁신창업사업화자금은 62억 100만 원입니다.\n",
      "2|1|2|Question:  재창업자금이 재도약지원자금으로 이관된 연도는 언제인가요?\n"
     ]
    },
    {
     "name": "stderr",
     "output_type": "stream",
     "text": [
      "6it [03:55, 35.79s/it]"
     ]
    },
    {
     "name": "stdout",
     "output_type": "stream",
     "text": [
      "Answer:  2015년입니다.\n",
      "1|1|2|2|Question:  창업기반지원과 신청 대상이 중복인 자금이 어떤 것이며, 이 자금이 폐지된 연도는 언제인가요?\n"
     ]
    },
    {
     "name": "stderr",
     "output_type": "stream",
     "text": [
      "7it [04:33, 36.53s/it]"
     ]
    },
    {
     "name": "stdout",
     "output_type": "stream",
     "text": [
      "Answer:  일자리창출촉진자금입니다. 이 자금은 2023년 1월에 폐지되었습니다.\n",
      "2|2|2|2|Question:  혁신창업사업화자금(융자) 사업을 시행하는 주체는 누구인가요?\n"
     ]
    },
    {
     "name": "stderr",
     "output_type": "stream",
     "text": [
      "8it [05:14, 38.05s/it]"
     ]
    },
    {
     "name": "stdout",
     "output_type": "stream",
     "text": [
      "Answer:  혁신창업사업화자금(융자) 사업을 시행하는 주체는 중소벤처기업진흥공단입니다.\n",
      "1|2|2|2|Question:  혁신창업사업화자금(융자) 사업 집행절차는 어떻게 되나요?\n"
     ]
    },
    {
     "name": "stderr",
     "output_type": "stream",
     "text": [
      "9it [06:17, 45.78s/it]"
     ]
    },
    {
     "name": "stdout",
     "output_type": "stream",
     "text": [
      "Answer:  혁신창업사업화자금(융자)의 집행절차는 다음과 같습니다.\n",
      "\n",
      "1. 사업 계획 수립 및 공고\n",
      "2. 사전 상담 및 신청/접수\n",
      "3. 서류 및 현장 실사\n",
      "4. 융자 실행\n",
      "5. 지원 결정 통보\n",
      "6. 평가 및 승인\n",
      "\n",
      "이러한 절차를 거쳐 융자를 받으실 수 있습니다.\n",
      "2|2|2|Question:  부모급여 지원 사업의 목적은 무엇인가요?\n"
     ]
    },
    {
     "name": "stderr",
     "output_type": "stream",
     "text": [
      "10it [06:59, 44.53s/it]"
     ]
    },
    {
     "name": "stdout",
     "output_type": "stream",
     "text": [
      "Answer:  부모급여 지원 사업의 목적은 출산 및 양육으로 손실되는 소득을 보전하고 주 양육자의 직접 돌봄이 중요한 아동 발달의 특성에 따라 영아기 돌봄을 듬뿍하게 지원하기 위해 부모급여 지급입니다.\n",
      "1|2|2|Question:  부모급여(영아수당)의 2024년 확정된 예산은 몇백만원인가요?\n"
     ]
    },
    {
     "name": "stderr",
     "output_type": "stream",
     "text": [
      "11it [07:24, 38.71s/it]"
     ]
    },
    {
     "name": "stdout",
     "output_type": "stream",
     "text": [
      "Answer:  2,888,694백만원입니다.\n",
      "1|2|2|2|Question:  부모급여 지원 사업은 어떤 법령상 근거를 갖고 추진되고 있나요?\n"
     ]
    },
    {
     "name": "stderr",
     "output_type": "stream",
     "text": [
      "12it [08:10, 40.79s/it]"
     ]
    },
    {
     "name": "stdout",
     "output_type": "stream",
     "text": [
      "Answer:  부모급여 지원 사업은 노인장기요양보험법 제4조, 제11조, 제35조의 2, 제58조 및 같은 법 시행령 제28조, 국민건강보험법 제76조에 근거하고 있습니다.\n",
      "2|2|2|2|Question:  영아수당 도입에 대한 추진경위는 어떻게 되나요?\n"
     ]
    },
    {
     "name": "stderr",
     "output_type": "stream",
     "text": [
      "13it [09:45, 57.27s/it]"
     ]
    },
    {
     "name": "stdout",
     "output_type": "stream",
     "text": [
      "Answer:  영아수당 도입에 대한 추진경위는 다음과 같다.\n",
      "\n",
      "1. 2020년 12월, \"제4차 저출산‧고령사회 기본계획\"에서 영아수당 도입을 5대 핵심과제로 선정했다.\n",
      "2. 2021년 8월, 예비타당성 조사 통과\n",
      "3. 2021년 12월, 근거법을 마련\n",
      "4. 2022년 1월부터 영아수당 지원사업을 시작\n",
      "5. 2022년 5월, 대통령 공약사항 및 국정과제에 포함\n",
      "6. 2023년부터 0∼11개월 아동에게 월 70만원, 2024년부터 0∼11개월 아동에게 월 100만원 부모급여 지급\n",
      "2|1|2|Question:  부모급여 지원사업은 언제부터 시행되었나요?\n"
     ]
    },
    {
     "name": "stderr",
     "output_type": "stream",
     "text": [
      "14it [10:15, 48.85s/it]"
     ]
    },
    {
     "name": "stdout",
     "output_type": "stream",
     "text": [
      "Answer:  부모급여 지원사업은 2023년 1월부터 시행되기 시작했습니다.\n",
      "2|2|2|2|Question:  보건복지부의 부모급여(영아수당) 지원 사업시행방법은 무엇이며, 사업 수혜자는 누구인가?\n"
     ]
    },
    {
     "name": "stderr",
     "output_type": "stream",
     "text": [
      "15it [11:02, 48.41s/it]"
     ]
    },
    {
     "name": "stdout",
     "output_type": "stream",
     "text": [
      "Answer:  보건복지부의 부모급여(영아수당) 지원 사업시행방법은 지자체 보조이고, 사업 수혜자는 만 0~1세 아동입니다.\n",
      "2|2|2|2|Question:  노인장기요양보험 사업 운영에 대한 목적은 무엇인가요?\n"
     ]
    },
    {
     "name": "stderr",
     "output_type": "stream",
     "text": [
      "16it [12:20, 57.41s/it]"
     ]
    },
    {
     "name": "stdout",
     "output_type": "stream",
     "text": [
      "Answer:  노인장기요양보험 사업운영의 목적은 고령이나 노인성 질병으로 일상생활을 혼자서 수행하기 어려운 노인 등에게 신체 또는 가사 활동 등을 제공하는 노인장기요양보험에 국고 지원을 함으로써 노인들의 삶의 질을 향상시키는 것입니다.\n",
      "2|2|2|2|Question:  노인장기요양보험 운영지원에 대한 사업 내용을 설명해줘.\n"
     ]
    },
    {
     "name": "stderr",
     "output_type": "stream",
     "text": [
      "17it [13:34, 62.41s/it]"
     ]
    },
    {
     "name": "stdout",
     "output_type": "stream",
     "text": [
      "Answer:  노인장기요양보험 운영지원 사업은 노인장기요양보험에 국고지원을 제공하여 고령이나 노인성 질병으로 일상생활을 혼자서 수행하기 어려운 노인에게 신체 또는 가사 활동 등을 제공하는 것입니다.\n",
      "2|2|2|2|Question:  국고지원을 받는 기타 의료급여수급권자는 누구인가요?\n"
     ]
    },
    {
     "name": "stderr",
     "output_type": "stream",
     "text": [
      "18it [14:50, 66.52s/it]"
     ]
    },
    {
     "name": "stdout",
     "output_type": "stream",
     "text": [
      "Answer:  기타 의료급여수급권자는 다음과 같습니다.\n",
      "\n",
      "* 이재민\n",
      "* 의사상자\n",
      "* 국가유공자\n",
      "* 입양아동\n",
      "* 국가무형문화재보유자\n",
      "* 북한이탈주민 등\n",
      "2|2|1|2|Question:  장기요양보험가입자 및 피부양자의 자격취득과 관련하여 어떤 법률을 준용해야 하는가?\n"
     ]
    },
    {
     "name": "stderr",
     "output_type": "stream",
     "text": [
      "19it [15:35, 59.80s/it]"
     ]
    },
    {
     "name": "stdout",
     "output_type": "stream",
     "text": [
      "Answer:  노인장기요양보험법\n",
      "2|2|1|Question:  노인장기요양보험법이 언제 제정되고 공포되었나?\n"
     ]
    }
   ],
   "source": [
    "from save_module import save\n",
    "\n",
    "\n",
    "fewshot_faiss_db, fewshot_bm_retrievier, fewshot_knn_retriever = fewshot_db(train_set)\n",
    "fewshot_k = 2\n",
    "fewshot_bm_retrievier.k = fewshot_k\n",
    "fewshot_knn_retriever.k = fewshot_k\n",
    "fewshot_faiss_retriever = fewshot_faiss_db.as_retriever(search_kwargs={'k':fewshot_k} )\n",
    "fewshot_ensemble_retriever = EnsembleRetriever(\n",
    "        retrievers=[fewshot_bm_retrievier,fewshot_knn_retriever, fewshot_faiss_retriever], weights=[0.25,0.25, 0.5]\n",
    "    )\n",
    "\n",
    "results = run(train_ensemble_retriever, test_ensemble_retriever, fewshot_ensemble_retriever, test_df, llm, verbose=True)\n",
    "save(results)"
   ]
  }
 ],
 "metadata": {
  "kernelspec": {
   "display_name": "llm",
   "language": "python",
   "name": "python3"
  },
  "language_info": {
   "codemirror_mode": {
    "name": "ipython",
    "version": 3
   },
   "file_extension": ".py",
   "mimetype": "text/x-python",
   "name": "python",
   "nbconvert_exporter": "python",
   "pygments_lexer": "ipython3",
   "version": "3.12.4"
  }
 },
 "nbformat": 4,
 "nbformat_minor": 2
}
