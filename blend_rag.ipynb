{
 "cells": [
  {
   "cell_type": "code",
   "execution_count": 6,
   "metadata": {},
   "outputs": [
    {
     "name": "stdout",
     "output_type": "stream",
     "text": [
      "Loading FAISS DB from: ./serm_best_field_train_db\n",
      "FAISS DB and documents loaded from ./serm_best_field_train_db\n",
      "Loading FAISS DB from: ./serm_best_field_test_db\n",
      "FAISS DB and documents loaded from ./serm_best_field_test_db\n",
      "FAISS DB and documents saved to ./fewshot_db\n"
     ]
    }
   ],
   "source": [
    "from vectordb_module import FAISSDatabaseManager\n",
    "import pandas as pd\n",
    "train_df = pd.read_csv('train.csv')\n",
    "# SERM + Best Field를 사용하는 일반 DB 생성 및 검색 예시\n",
    "train_db_manager = FAISSDatabaseManager(chunk_strategy=\"serm\", search_strategy=\"serm_best_field\")\n",
    "# PDF 파일을 기반으로 DB 생성\n",
    "train_db_manager.make_db(train_df, './serm_best_field_train_db')\n",
    "test_df = pd.read_csv('test.csv')\n",
    "\n",
    "test_db_manager = FAISSDatabaseManager(chunk_strategy=\"serm\", search_strategy=\"serm_best_field\")\n",
    "test_db_manager.make_db(test_df, './serm_best_field_test_db')\n",
    "\n",
    "# Fewshot DB 생성\n",
    "fewshot_manager = FAISSDatabaseManager(search_strategy=\"serm_best_field\")\n",
    "fewshot_manager.make_db(train_df, './fewshot_db',fewshot=True)"
   ]
  },
  {
   "cell_type": "code",
   "execution_count": 9,
   "metadata": {},
   "outputs": [
    {
     "name": "stdout",
     "output_type": "stream",
     "text": [
      "Test 1\n",
      "Query: 중소벤처기업부의 혁신창업사업화자금(융자) 사업목적은 무엇인가요?\n",
      "FAISS DB and documents loaded from ./serm_best_field_test_db\n",
      "Result 1: (혁신창업사업화자금 ) < 국정과제 > <국정목표 2.민간이 끌고 정부가 미는 역동적 경제 > 6.중소 ·벤처기업이 경제의 중심에 서는 나라 ◾(31번)중소기업 정책을 민간주도 혁신성장의 관점에서 재설계 (중기부 ) -(금융 ·수출 ·판로 패키지 )중소기업 정책자금 확대 ,수출 물류비 지원 강화 및 중소기업 전용 물류센터 구축 ,공공분야의 혁신제품 구매 자...\n",
      "Result 2: 사 업 명 혁신창업사업화자금 (융자 )(5152-301) 1.사업 코드 정보 구분 기금 소관 실국 (기관 )계정 분야 부문 코드중소벤처기업 창업 및 진흥기금중소벤처기업부 중소기업정책실110 118 명칭산업 ·중소기업 및 에너지창업 및 벤처 구분 프로그램 단위사업 세부사업 코드 5100 5152 301 명칭 창업환경조성 창업기업지원융자 (기금 )혁신창업사업화...\n",
      "Result 3: ㅇ 사업시행주체 :중소벤처기업진흥공단 ㅇ 사업 수혜자 :중소기업 ㅇ 보조 ,융자 ,출연 ,출자 등의 경우 보조 ·융자 등 지원 비율 및 법적근거 내역사업명 구분피보조․피출연 등 기관명지원 금액 (2024계획안 )지원 비율 (%)보조율 법적근거 (해당 조항 ) 창업기반지원 융자 중소기업 1조 7,958억원정책자금기준금리 △0.3%p중소기업진흥에 관한 법률 제...\n"
     ]
    }
   ],
   "source": [
    "print('Test 1')\n",
    "print('Query:', test_df.iloc[1]['Question'])\n",
    "# 쿼리를 기반으로 검색 수행\n",
    "results = test_db_manager.search_documents('./serm_best_field_test_db', test_df.iloc[1]['Question'], top_k=3)\n",
    "print('Results:', results)"
   ]
  },
  {
   "cell_type": "code",
   "execution_count": 8,
   "metadata": {},
   "outputs": [
    {
     "name": "stdout",
     "output_type": "stream",
     "text": [
      "FAISS DB and documents loaded from ./fewshot_db\n",
      "Result 1: {'Source': '중소벤처기업부_창업사업화지원', 'Source_path': './train_source/중소벤처기업부_창업사업화지원.pdf', 'Question': '창업사업화지원의 사업목적은 무엇인가?', 'Answer': '창업사업화지원의 사업목적은 창업기업의 성장단계별, 초격차 분야별, 글로벌화 지원체계를 구축‧운영하여 혁신 기술창업을 활성화하고 창업기업 성장 및 생존율 제고하는 것이다.'}...\n",
      "Result 2: {'Source': '중소벤처기업부_창업사업화지원', 'Source_path': './train_source/중소벤처기업부_창업사업화지원.pdf', 'Question': \"언제 청년 일자리 대책의 일환으로 기술혁신 기반 예비창업자의 사업화를 지원하는 '기술혁신형 창업기업 지원사업'이 신설되었나요?\", 'Answer': \"기술혁신형 창업기업 지원사업(현, 예비창업패키지)'은 '18년에 신설되었습니다.\"}...\n",
      "Result 3: {'Source': '중소벤처기업부_창업사업화지원', 'Source_path': './train_source/중소벤처기업부_창업사업화지원.pdf', 'Question': '2024년 중소벤처기업부의 창업사업화지원 사업에서 어떤 기관들이 사업시행주체로 참여하는가?', 'Answer': '중소벤처기업부, 창업진흥원이 사업시행주체이다.'}...\n",
      "Result 4: {'Source': '중소벤처기업부_창업사업화지원', 'Source_path': './train_source/중소벤처기업부_창업사업화지원.pdf', 'Question': '2024년 중소벤처기업부의 창업사업화 지원사업규모는 얼마이며, 몇 개의 창업기업이 지원받는가?', 'Answer': '377,656백만원이며, 창업기업 3,500개사가 지원받는다.'}...\n",
      "Result 5: {'Source': '중소벤처기업부_창업사업화지원', 'Source_path': './train_source/중소벤처기업부_창업사업화지원.pdf', 'Question': '중소벤처기업부의 창업사업화지원 사업 집행절차에서 예비창업자ㆍ창업ㆍ벤처기업과 주관기관이 관여하는 부분은 무엇인가?', 'Answer': '예비창업자ㆍ창업ㆍ벤처기업과 주관기관은 창업 및 사업화 부분에 관여한다.'}...\n"
     ]
    }
   ],
   "source": [
    "results = fewshot_manager.search_documents('./fewshot_db', test_df.iloc[1]['Question'], top_k=5)\n",
    "print('Fewshot Results:', results)"
   ]
  }
 ],
 "metadata": {
  "kernelspec": {
   "display_name": "llm_project",
   "language": "python",
   "name": "python3"
  },
  "language_info": {
   "codemirror_mode": {
    "name": "ipython",
    "version": 3
   },
   "file_extension": ".py",
   "mimetype": "text/x-python",
   "name": "python",
   "nbconvert_exporter": "python",
   "pygments_lexer": "ipython3",
   "version": "3.12.4"
  }
 },
 "nbformat": 4,
 "nbformat_minor": 2
}
