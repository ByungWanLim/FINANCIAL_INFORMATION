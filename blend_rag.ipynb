{
 "cells": [
  {
   "cell_type": "code",
   "execution_count": 6,
   "metadata": {},
   "outputs": [],
   "source": [
    "from vectordb_module import FAISSDatabaseManager\n",
    "import pandas as pd\n",
    "train_df = pd.read_csv('train.csv')\n",
    "# DB 생성 및 검색 예시\n",
    "train_db_manager = FAISSDatabaseManager(\n",
    "    db_path='./knn_train',  # DB를 저장할 경로\n",
    "    chunk_strategy='recursive',  # 텍스트를 청크로 나누는 전략\n",
    "    search_strategy='knn_best_field',  # 검색 전략\n",
    "    embedding_model_name=\"intfloat/multilingual-e5-large\"\n",
    ")\n",
    "train_db_manager.make_db(train_df)\n",
    "print(\"DB 생성 완료\")\n",
    "\n",
    "test_df = pd.read_csv('test.csv')\n",
    "test_db_manager = FAISSDatabaseManager(\n",
    "    db_path='./knn_test',  # DB를 저장할 경로\n",
    "    chunk_strategy='recursive',  # 텍스트를 청크로 나누는 전략\n",
    "    search_strategy='knn_best_field',  # 검색 전략\n",
    "    embedding_model_name=\"intfloat/multilingual-e5-large\"\n",
    ")\n",
    "test_db_manager.make_db(train_df)\n",
    "print(\"DB 생성 완료\")\n",
    "\n",
    "# Fewshot DB 생성\n",
    "fewshot_manager = FAISSDatabaseManager(db_path='./knn_fewshot',\n",
    "                                       chunk_strategy='paragraph',\n",
    "                                       search_strategy=\"knn_best_field\",  # 검색 전략\n",
    "                                       embedding_model_name=\"intfloat/multilingual-e5-large\")\n",
    "fewshot_manager.make_db(train_df,fewshot=True)\n",
    "print(\"DB 생성 완료\")"
   ]
  },
  {
   "cell_type": "code",
   "execution_count": null,
   "metadata": {},
   "outputs": [
    {
     "name": "stdout",
     "output_type": "stream",
     "text": [
      "Test 1\n",
      "Query: 외국인 배우자 수급권 부여는 언제부터 시행되었는가?\n",
      "Result 1: {'source': './train_source/재정통계해설.pdf', 'page': 50}...\n",
      "Result 1: 2018 2019\n",
      "01. 통합재정수지 15.1조원 흑자 6.5조원 흑자\n",
      "02. 관리재정수지 31.4조원 적자 37.6조원 적자\n",
      "Result 2: {'source': './train_source/재정통계해설.pdf', 'page': 107}...\n",
      "Result 2: II. 재정통계\n",
      "재정지출\n",
      "Result 3: {'source': './train_source/2024 나라살림 예산개요.pdf', 'page': 306}...\n",
      "Result 3: | 별첨 |\n",
      "작성자 및\n",
      "편집자 명단\n",
      "Result 4: {'source': './train_source/재정통계해설.pdf', 'page': 77}...\n",
      "Result 4: 재정수입II. 재정통계\n",
      "Result 5: {'source': './train_source/재정통계해설.pdf', 'page': 49}...\n",
      "Result 5: 재정수지II. 재정통계\n"
     ]
    }
   ],
   "source": [
    "print('Test 1')\n",
    "query = train_df.iloc[309]['Question']\n",
    "print('Query:', query)\n",
    "# 쿼리를 기반으로 검색 수행\n",
    "results = test_db_manager.search_documents(query, top_k=5)\n",
    "# 결과 출력\n",
    "for i, result in enumerate(results):\n",
    "    print(f\"Result {i+1}: {result.metadata}...\")\n",
    "    print(f\"Result {i+1}: {result.page_content}\")"
   ]
  },
  {
   "cell_type": "code",
   "execution_count": null,
   "metadata": {},
   "outputs": [
    {
     "name": "stdout",
     "output_type": "stream",
     "text": [
      "Test 1\n",
      "Query: 하절기바우처와 동절기바우처의 2024년 예산 규모는 각각 얼마인가요?\n",
      "Result 1: {'source': './train_source/2024 나라살림 예산개요.pdf', 'page': 4}...\n",
      "Result 1: 제1장\n",
      "2024년도 예산안 및  \n",
      "기금운용계획안\n",
      "대통령 시정연설\n",
      "제2장\n",
      "2024년도 예산안 및  \n",
      "기금운용계획안 등에 대한\n",
      "기획재정부 장관의 제안설명제 1 부\n",
      "2024년도  \n",
      "예산안 시정연설 \n",
      "및 제안설명\n",
      "Result 2: {'source': './train_source/2024 나라살림 예산개요.pdf', 'page': 26}...\n",
      "Result 2: 제 2  장\n",
      "2024년도 예산안 및  \n",
      "기금운용계획안 등에 대한\n",
      "기획재정부 장관의\n",
      "제안설명\n",
      "Result 3: {'source': './train_source/월간 나라재정 2023년 12월호.pdf', 'page': 65}...\n",
      "Result 3: 재정정보화를 통해\n",
      "국가 재정 업무 발전에 \n",
      "기여합니다\n",
      "데이터 기반 재정 혁신을 선도하는 \n",
      "재정 전문기관이 되겠습니다.\n"
     ]
    }
   ],
   "source": [
    "print('Test 1')\n",
    "query =  test_df.iloc[26]['Question']\n",
    "print('Query:', query)\n",
    "# 쿼리를 기반으로 검색 수행\n",
    "results = test_db_manager.search_documents(query, top_k=3)\n",
    "# 결과 출력\n",
    "for i, result in enumerate(results):\n",
    "    print(f\"Result {i+1}: {result.metadata}...\")\n",
    "    print(f\"Result {i+1}: {result.page_content}\")\n",
    "    "
   ]
  },
  {
   "cell_type": "code",
   "execution_count": null,
   "metadata": {},
   "outputs": [
    {
     "name": "stdout",
     "output_type": "stream",
     "text": [
      "Test 2\n",
      "Query: 하절기바우처와 동절기바우처의 2024년 예산 규모는 각각 얼마인가요?\n",
      "Result 1: {'Source': '2024년도 성과계획서(총괄편)', 'Source_path': './train_source/2024년도 성과계획서(총괄편).pdf', 'Question': '2024년에 예산이 증가하는 부처와 감소하는 부처의 차이는 무엇인가?', 'Answer': '2024년에는 국세청과 관세청 등의 부처에서 예산이 증가하는 반면, 외교부와 통일부 등에서는 예산이 감소할 것으로 예상된다.'}...\n",
      "Result 2: {'Source': '2024년도 성과계획서(총괄편)', 'Source_path': './train_source/2024년도 성과계획서(총괄편).pdf', 'Question': '국가재정법에 따라 성과계획서를 작성해야 하는 대상기관은 누구인가요?', 'Answer': '국가재정법에 따라 성과계획서를 작성해야 하는 대상기관은 국가재정법(제4장의2)에 따라 예산요구서를 제출하는 모든 중앙관서의 장과 기금관리주체입니다.'}...\n",
      "Result 3: {'Source': '2024년도 성과계획서(총괄편)', 'Source_path': './train_source/2024년도 성과계획서(총괄편).pdf', 'Question': '국가재정법에 따라 성과계획서를 작성해야 하는 대상기관은 누구인가요?', 'Answer': '국가재정법에 따라 성과계획서를 작성해야 하는 대상기관은 국가재정법(제4장의2)에 따라 예산요구서를 제출하는 모든 중앙관서의 장과 기금관리주체입니다.'}...\n"
     ]
    }
   ],
   "source": [
    "query = test_df.iloc[26]['Question']\n",
    "results = fewshot_manager.search_documents(query, top_k=3)\n",
    "\n",
    "print('Test 2')\n",
    "\n",
    "print('Query:', query)\n",
    "# 결과 출력\n",
    "for i, result in enumerate(results):\n",
    "    if isinstance(result, dict):  # Few-shot 방식의 결과\n",
    "        print(f\"Result {i+1}: {result}...\")\n",
    "    else:  # 일반 문서 검색 결과\n",
    "        print(f\"Result {i+1}: {result.page_content[:200]}...\")"
   ]
  }
 ],
 "metadata": {
  "kernelspec": {
   "display_name": "llm_project",
   "language": "python",
   "name": "python3"
  },
  "language_info": {
   "codemirror_mode": {
    "name": "ipython",
    "version": 3
   },
   "file_extension": ".py",
   "mimetype": "text/x-python",
   "name": "python",
   "nbconvert_exporter": "python",
   "pygments_lexer": "ipython3",
   "version": "3.12.4"
  }
 },
 "nbformat": 4,
 "nbformat_minor": 2
}
