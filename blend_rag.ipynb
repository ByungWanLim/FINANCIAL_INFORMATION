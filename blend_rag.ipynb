{
 "cells": [
  {
   "cell_type": "code",
   "execution_count": null,
   "metadata": {},
   "outputs": [],
   "source": [
    "import os\n",
    "import PyPDF2\n",
    "from transformers import BertTokenizer, BertModel\n",
    "import torch\n",
    "import faiss\n",
    "import numpy as np\n",
    "\n",
    "def extract_text_from_pdfs_in_folder(folder_path):\n",
    "    pdf_texts = {}\n",
    "    for filename in os.listdir(folder_path):\n",
    "        if filename.endswith(\".pdf\"):\n",
    "            pdf_path = os.path.join(folder_path, filename)\n",
    "            with open(pdf_path, 'rb') as file:\n",
    "                reader = PyPDF2.PdfReader(file)\n",
    "                text = \"\"\n",
    "                for page_num in range(len(reader.pages)):\n",
    "                    text += reader.pages[page_num].extract_text()\n",
    "                pdf_texts[filename] = text\n",
    "    return pdf_texts\n",
    "\n",
    "def get_text_embeddings(text, model, tokenizer):\n",
    "    inputs = tokenizer(text, return_tensors=\"pt\", truncation=True, padding=True)\n",
    "    with torch.no_grad():\n",
    "        outputs = model(**inputs)\n",
    "    return outputs.last_hidden_state.mean(dim=1).numpy()\n",
    "\n",
    "# Load BERT model and tokenizer\n",
    "tokenizer = BertTokenizer.from_pretrained('bert-base-uncased')\n",
    "model = BertModel.from_pretrained('bert-base-uncased')\n",
    "\n",
    "# Extract and vectorize PDF texts\n",
    "folder_path = \"test_source\"\n",
    "pdf_texts = extract_text_from_pdfs_in_folder(folder_path)\n",
    "pdf_embeddings = {filename: get_text_embeddings(text, model, tokenizer) for filename, text in pdf_texts.items()}\n",
    "\n",
    "# Create FAISS index\n",
    "dimension = next(iter(pdf_embeddings.values())).shape[1]\n",
    "index = faiss.IndexFlatL2(dimension)\n",
    "for embedding in pdf_embeddings.values():\n",
    "    faiss.normalize_L2(embedding)\n",
    "    index.add(embedding)\n",
    "\n",
    "# Query vectorization and search\n",
    "query_text = \"your query text\"\n",
    "query_vector = get_text_embeddings(query_text, model, tokenizer)\n",
    "faiss.normalize_L2(query_vector)\n",
    "distances, indices = index.search(query_vector, k=5)  # Top 5 results\n",
    "\n",
    "# Print the results\n",
    "print(indices)\n"
   ]
  }
 ],
 "metadata": {
  "kernelspec": {
   "display_name": "llm",
   "language": "python",
   "name": "python3"
  },
  "language_info": {
   "codemirror_mode": {
    "name": "ipython",
    "version": 3
   },
   "file_extension": ".py",
   "mimetype": "text/x-python",
   "name": "python",
   "nbconvert_exporter": "python",
   "pygments_lexer": "ipython3",
   "version": "3.12.4"
  }
 },
 "nbformat": 4,
 "nbformat_minor": 2
}
