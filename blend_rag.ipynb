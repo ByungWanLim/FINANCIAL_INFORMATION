{
 "cells": [
  {
   "cell_type": "code",
   "execution_count": 1,
   "metadata": {},
   "outputs": [
    {
     "name": "stderr",
     "output_type": "stream",
     "text": [
      "c:\\ProgramData\\anaconda3\\envs\\llm_project\\Lib\\site-packages\\sentence_transformers\\cross_encoder\\CrossEncoder.py:11: TqdmWarning: IProgress not found. Please update jupyter and ipywidgets. See https://ipywidgets.readthedocs.io/en/stable/user_install.html\n",
      "  from tqdm.autonotebook import tqdm, trange\n"
     ]
    }
   ],
   "source": [
    "from vectordb_module import FAISSDatabaseManager\n",
    "import pandas as pd\n",
    "train_df = pd.read_csv('train.csv')\n",
    "# DB 생성 및 검색 예시\n",
    "train_db_manager = FAISSDatabaseManager(db_path='./serm_best_field_train_db', chunk_strategy=\"serm\", search_strategy=\"serm_best_field\")\n",
    "train_db_manager.make_db(train_df)\n",
    "\n",
    "test_df = pd.read_csv('test.csv')\n",
    "test_db_manager = FAISSDatabaseManager(db_path='./serm_best_field_test_db', chunk_strategy=\"serm\", search_strategy=\"serm_best_field\")\n",
    "test_db_manager.make_db(train_df)\n",
    "\n",
    "# Fewshot DB 생성\n",
    "fewshot_manager = FAISSDatabaseManager(db_path='./fewshot_db',search_strategy=\"knn_best_field\")\n",
    "fewshot_manager.make_db(train_df,fewshot=True)"
   ]
  },
  {
   "cell_type": "code",
   "execution_count": 2,
   "metadata": {},
   "outputs": [
    {
     "name": "stdout",
     "output_type": "stream",
     "text": [
      "Test 1\n",
      "Query: 외국인 배우자 수급권 부여는 언제부터 시행되었는가?\n",
      "Result 1: - 2 -5.사업근거 및 추진경위 ①법령상 근거 및 조항 적시 :아동수당법 제4조제 5항 ◈아동수당법제4조(’23.9.14.시행) 제4조(아동수당의지급대상및지급액)①아동수당은8세미만의아동에게매월10만원을지급한다. ⑤제1항에도불구하고만2세미만아동에게매월50만원이상으로서대통령령으로정 하는금액을추가로지급한다. 부칙제6조(아동수당추가지급금액에관한특례)제4조제5항의...\n",
      "Result 2: - 2 --(기타 의료급여수급권자 급여비용 국가부담금 )「국민기초생활 보장법」에 의한 의료 급여수급권자를 제외한 기타 *의료급여수급권자의 장기요양급여 이용에 따른 급여 비용 및 관리운영비 국고지원 (서울 50%,기타지역 80%) *이재민,의사상자,국가유공자,입양아동,국가무형문화재보유자,북한이탈주민등 -(노인장기요양보험 사업관리 )노인장기요양보험 사업추진에 ...\n",
      "Result 3: 09 최소운영수입보장(BTO 등) ‣ 최소운영수입보장 제도란 주로 BTO 민간투자사업 중 실시협약서 상 추정 수입보다 실제 수입이 미치지 못하는 경우 정부가 최소운영수입을 보장해 주는 제도를 말함16) - 국토교통부, 해양수산부의 민간투자사업 중 협약 상 최소운영수입을 보장하는 사업은 2020회계연도 말 기준 16건 존재하며, 협약 내용은 <표9>와 같음 ...\n"
     ]
    },
    {
     "name": "stderr",
     "output_type": "stream",
     "text": [
      "c:\\ProgramData\\anaconda3\\envs\\llm_project\\Lib\\site-packages\\transformers\\models\\bert\\modeling_bert.py:439: UserWarning: 1Torch was not compiled with flash attention. (Triggered internally at ..\\aten\\src\\ATen\\native\\transformers\\cuda\\sdp_utils.cpp:455.)\n",
      "  attn_output = torch.nn.functional.scaled_dot_product_attention(\n"
     ]
    }
   ],
   "source": [
    "print('Test 1')\n",
    "query = train_df.iloc[309]['Question']\n",
    "print('Query:', query)\n",
    "# 쿼리를 기반으로 검색 수행\n",
    "results = test_db_manager.search_documents(query, top_k=3)\n",
    "# 결과 출력\n",
    "for i, result in enumerate(results):\n",
    "    print(f\"Result {i+1}: {result.page_content[:200]}...\")"
   ]
  },
  {
   "cell_type": "code",
   "execution_count": 5,
   "metadata": {},
   "outputs": [
    {
     "name": "stdout",
     "output_type": "stream",
     "text": [
      "Test 1\n",
      "Query: 하절기바우처와 동절기바우처의 2024년 예산 규모는 각각 얼마인가요?\n",
      "Result 1: {'source': './test_source/산업통상자원부_에너지바우처.pdf', 'page': 2}...\n",
      "Result 1: * 에너지바우처는 동·하절기 (당해연도 7월~익년도 4월) 에너지비용을 지원하는 사업으로 , ’23년 예산은 바우처 사용(~’24.4 월) 등 지원 완료 후 최종 정산 예정 나.사업설명자료 1)사업목적·내용 :경제적 부담 등으로 에너지 이용에 어려움을 겪는 에너지 소외 계층에게 전기·가스·지역난방 등 에너지 이용에 필요한 비용을 지원하는 제도 -(하절기바우...\n",
      "Result 2: {'source': './test_source/산업통상자원부_에너지바우처.pdf', 'page': 5}...\n",
      "Result 2: (‘23) 1,349백만원 → (’24) 1,872백만원 (+523 백만원 ) * 대상자 확대 등에 따른 홍보, 시스템 고도화 , 콜센터 운영 비용 증액 - (산출) 에너지복지 홍보(448백만원 ), 시스템 고도화 (705백만원 ), 콜센터 운영(502.7 백만원 ), 패널조사 (131.7 백만원 ), 전달체계 구축(34.6백만원 ), 주택관리공단 운영지원...\n",
      "Result 3: {'source': './test_source/산업통상자원부_에너지바우처.pdf', 'page': 1}...\n",
      "Result 3: 가.예산안 총괄표 (단위 :백만원 ,%) 사업명2022년 결산2023년 예산 본예산 (A)2024년 증감 (B-A) 정부안 확정 (B) (B-A)/ A 에너지바우처 230,556 190,963 685,606 685,606 494,643 259.0 □기능별 (내역사업별 ),목별 예산안 내역 (단위 :백만원 ) 2022 2023 (’23.12월말 ) 2024 ...\n"
     ]
    }
   ],
   "source": [
    "print('Test 1')\n",
    "query =  test_df.iloc[26]['Question']\n",
    "print('Query:', query)\n",
    "# 쿼리를 기반으로 검색 수행\n",
    "results = test_db_manager.search_documents(query, top_k=3)\n",
    "# 결과 출력\n",
    "for i, result in enumerate(results):\n",
    "    print(f\"Result {i+1}: {result.metadata}...\")\n",
    "    print(f\"Result {i+1}: {result.page_content}\")\n",
    "    "
   ]
  },
  {
   "cell_type": "code",
   "execution_count": 4,
   "metadata": {},
   "outputs": [
    {
     "name": "stdout",
     "output_type": "stream",
     "text": [
      "Test 2\n",
      "Query: 하절기바우처와 동절기바우처의 2024년 예산 규모는 각각 얼마인가요?\n",
      "Result 1: {'Source': '2024년도 성과계획서(총괄편)', 'Source_path': './train_source/2024년도 성과계획서(총괄편).pdf', 'Question': '대법원의 2024년 예산은 얼마인가?', 'Answer': '247,169백만원'}...\n",
      "Result 2: {'Source': '2024년도 성과계획서(총괄편)', 'Source_path': './train_source/2024년도 성과계획서(총괄편).pdf', 'Question': \"성과지표 중 '과거사 문제 해결을 위해 적극적으로 진실을 규명' 하기 위해  2024년 예산안에 얼마의 예산이 할당되었나요?\", 'Answer': '3429백만원'}...\n",
      "Result 3: {'Source': '2024년도 성과계획서(총괄편)', 'Source_path': './train_source/2024년도 성과계획서(총괄편).pdf', 'Question': \"관세청의 '24년 예산안은 얼마인가?\", 'Answer': '183,608백만원'}...\n"
     ]
    }
   ],
   "source": [
    "query = test_df.iloc[26]['Question']\n",
    "results = fewshot_manager.search_documents(query, top_k=3)\n",
    "\n",
    "print('Test 2')\n",
    "\n",
    "print('Query:', query)\n",
    "# 결과 출력\n",
    "for i, result in enumerate(results):\n",
    "    if isinstance(result, dict):  # Few-shot 방식의 결과\n",
    "        print(f\"Result {i+1}: {result}...\")\n",
    "    else:  # 일반 문서 검색 결과\n",
    "        print(f\"Result {i+1}: {result.page_content[:200]}...\")"
   ]
  }
 ],
 "metadata": {
  "kernelspec": {
   "display_name": "llm_project",
   "language": "python",
   "name": "python3"
  },
  "language_info": {
   "codemirror_mode": {
    "name": "ipython",
    "version": 3
   },
   "file_extension": ".py",
   "mimetype": "text/x-python",
   "name": "python",
   "nbconvert_exporter": "python",
   "pygments_lexer": "ipython3",
   "version": "3.12.4"
  }
 },
 "nbformat": 4,
 "nbformat_minor": 2
}
