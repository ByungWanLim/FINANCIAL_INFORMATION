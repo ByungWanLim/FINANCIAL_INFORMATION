{
 "cells": [
  {
   "cell_type": "code",
   "execution_count": 35,
   "metadata": {},
   "outputs": [],
   "source": [
    "from langchain_community.document_loaders import CSVLoader\n",
    "from langchain_community.vectorstores import FAISS\n",
    "from langchain_text_splitters import CharacterTextSplitter\n",
    "import os\n",
    "from glob import glob\n",
    "from langchain_community.document_loaders import PyPDFLoader\n",
    "from langchain.text_splitter import RecursiveCharacterTextSplitter\n",
    "from langchain.chains import RetrievalQA\n",
    "from langchain.schema import Document\n",
    "import torch\n",
    "from tqdm import tqdm\n",
    "from transformers import AutoTokenizer, AutoModelForCausalLM\n",
    "from langchain.llms import HuggingFacePipeline\n",
    "from langchain_huggingface import HuggingFaceEmbeddings\n",
    "from langchain import LLMChain\n",
    "from langchain.prompts import PromptTemplate\n",
    "import pandas as pd\n",
    "from langchain_core.prompts import (\n",
    "    FewShotPromptTemplate\n",
    ")\n",
    "from langchain_core.example_selectors import SemanticSimilarityExampleSelector\n",
    "\n",
    "model_id = 'MLP-KTLim/llama-3-Korean-Bllossom-8B'\n",
    "def get_embedding():\n",
    "    model_kwargs = {'device': 'cuda'}\n",
    "    encode_kwargs = {'normalize_embeddings': True}\n",
    "    embeddings = HuggingFaceEmbeddings(\n",
    "        model_name='intfloat/multilingual-e5-small',\n",
    "        model_kwargs={'device': 'cuda'},\n",
    "        encode_kwargs={'normalize_embeddings': True}\n",
    "        )\n",
    "    return embeddings"
   ]
  },
  {
   "cell_type": "code",
   "execution_count": null,
   "metadata": {},
   "outputs": [],
   "source": [
    "#Fewshot을 위한 csv 파일을 불러옵니다.\n",
    "train_df = pd.read_csv('train.csv')\n",
    "train_df.drop('SAMPLE_ID', axis=1, inplace=True)\n",
    "trainset = train_df.to_dict(orient='records')\n",
    "print(trainset[:3])\n",
    "\n",
    "example_prompt = PromptTemplate.from_template(\"Question: {Question}\\nAnswer: {Answer}\\nSource: {Source}\")\n",
    "print(example_prompt.invoke(trainset[1]).to_string())\n",
    "\n",
    "to_vectorize = [\"\\n\\n\".join(example.values()) for example in trainset]\n",
    "\n",
    "fewshow_vectors = FAISS.from_texts(to_vectorize, get_embedding(), metadatas=trainset)\n",
    "\n",
    "example_selector = SemanticSimilarityExampleSelector(\n",
    "    vectorstore=fewshow_vectors,\n",
    "    k=3,\n",
    ")\n",
    "example_prompt = FewShotPromptTemplate(\n",
    "    example_selector=example_selector,\n",
    "    example_prompt=example_prompt,\n",
    "    suffix=\"Question: {input}\",\n",
    "    input_variables=[\"input\"],\n",
    ")\n"
   ]
  },
  {
   "cell_type": "code",
   "execution_count": 33,
   "metadata": {},
   "outputs": [
    {
     "data": {
      "text/plain": [
       "{'Source': '중소벤처기업부_혁신창업사업화자금(융자)',\n",
       " 'Source_path': './test_source/중소벤처기업부_혁신창업사업화자금(융자).pdf',\n",
       " 'Question': '중소벤처기업부의 혁신창업사업화자금(융자) 사업목적은 무엇인가요?'}"
      ]
     },
     "execution_count": 33,
     "metadata": {},
     "output_type": "execute_result"
    }
   ],
   "source": [
    "test_df = pd.read_csv('test.csv')\n",
    "test_df.drop('SAMPLE_ID', axis=1, inplace=True)\n",
    "testset = test_df.to_dict(orient='records')\n",
    "testset[1]"
   ]
  },
  {
   "cell_type": "code",
   "execution_count": 32,
   "metadata": {},
   "outputs": [
    {
     "data": {
      "text/plain": [
       "\"Question: 창업사업화지원의 사업목적은 무엇인가?\\nAnswer: 창업사업화지원의 사업목적은 창업기업의 성장단계별, 초격차 분야별, 글로벌화 지원체계를 구축‧운영하여 혁신 기술창업을 활성화하고 창업기업 성장 및 생존율 제고하는 것이다.\\nSource: 중소벤처기업부_창업사업화지원\\n\\nQuestion: 언제 청년 일자리 대책의 일환으로 기술혁신 기반 예비창업자의 사업화를 지원하는 '기술혁신형 창업기업 지원사업'이 신설되었나요?\\nAnswer: 기술혁신형 창업기업 지원사업(현, 예비창업패키지)'은 '18년에 신설되었습니다.\\nSource: 중소벤처기업부_창업사업화지원\\n\\nQuestion: 2024년 중소벤처기업부의 창업사업화지원 사업에서 어떤 기관들이 사업시행주체로 참여하는가?\\nAnswer: 중소벤처기업부, 창업진흥원이 사업시행주체이다.\\nSource: 중소벤처기업부_창업사업화지원\\n\\nQuestion: 중소벤처기업부의 혁신창업사업화자금(융자) 사업목적은 무엇인가요?\""
      ]
     },
     "execution_count": 32,
     "metadata": {},
     "output_type": "execute_result"
    }
   ],
   "source": [
    "ex_qa = example_prompt.invoke({\"input\": testset[1]['Question']}).to_string()\n",
    "ex_qa"
   ]
  },
  {
   "cell_type": "code",
   "execution_count": 56,
   "metadata": {},
   "outputs": [
    {
     "name": "stdout",
     "output_type": "stream",
     "text": [
      "Loading PDF files from: ./train_source\n",
      "Done. 1451 chunks\n",
      "Creating FAISS DB\n"
     ]
    },
    {
     "name": "stderr",
     "output_type": "stream",
     "text": [
      "c:\\ProgramData\\anaconda3\\envs\\llm_project\\Lib\\site-packages\\huggingface_hub\\file_download.py:1150: FutureWarning: `resume_download` is deprecated and will be removed in version 1.0.0. Downloads always resume when possible. If you want to force a new download, use `force_download=True`.\n",
      "  warnings.warn(\n"
     ]
    },
    {
     "name": "stdout",
     "output_type": "stream",
     "text": [
      "Done.\n"
     ]
    }
   ],
   "source": [
    "pdf_directory = './train_source'\n",
    "# PDF 파일들을 로드하여 분할한 뒤 텍스트를 벡터로 변환하여 DB에 저장\n",
    "def load_chunks_make_docdb(pdf_directory):\n",
    "    print(\"Loading PDF files from:\", pdf_directory)\n",
    "    documents = []\n",
    "\n",
    "    # PDF 파일들을 로드하여 분할\n",
    "    pdf_files = glob(os.path.join(pdf_directory, '*.pdf').replace('\\\\', '/'))\n",
    "    for pdf_file in pdf_files:\n",
    "        loader = PyPDFLoader(pdf_file)\n",
    "        pdf_documents = loader.load()\n",
    "        documents.extend(pdf_documents)\n",
    "    \n",
    "\n",
    "    # 분할된 텍스트를 벡터로 변환하여 ChromaDB에 저장\n",
    "    chunk_splitter = RecursiveCharacterTextSplitter(chunk_size=1000, chunk_overlap=200)\n",
    "    chunks = chunk_splitter.split_documents(documents)\n",
    "    print(\"Done.\", len(chunks), \"chunks\")\n",
    "    \n",
    "    print(\"Creating FAISS DB\")\n",
    "    \"\"\"FAISS DB 생성\"\"\"\n",
    "    # FAISS DB 생성 및 반환\n",
    "    db = FAISS.from_documents(chunks, embedding=get_embedding())\n",
    "    print(\"Done.\")\n",
    "    \n",
    "    return db\n",
    "\n",
    "# Load and index documents from both PDF and text files\n",
    "train_vectordb =load_chunks_make_docdb(pdf_directory)\n",
    "\n"
   ]
  },
  {
   "cell_type": "code",
   "execution_count": 63,
   "metadata": {},
   "outputs": [
    {
     "name": "stdout",
     "output_type": "stream",
     "text": [
      "{'Source': '1-1 2024 주요 재정통계 1권', 'Source_path': './train_source/1-1 2024 주요 재정통계 1권.pdf', 'Question': '2024년 중앙정부의 예산 지출은 어떻게 구성되어 있나요?', 'Answer': '2024년 중앙정부의 예산 지출은 일반회계 356.5조원, 21개 특별회계 81.7조원으로 구성되어 있습니다.'}\n",
      "3\n"
     ]
    },
    {
     "data": {
      "text/plain": [
       "'정책지원성과향상(기금)중소벤처기업\\n창업및진흥기\\n금\\n1200-1253 9,578\\n성장안정자금(기금)중소벤처기업\\n창업및진흥기\\n금\\n1200-1261 2,017,644\\n신용보증기관출연 일반회계\\n1200-1231 100,000\\n    프로그램목표 Ⅱ-2. 중소기업의 글로벌 진출과 해외 판로 확보를 통해 성장을 \\n도모한다.\\n259,143\\n중소기업수출\\n촉진지원\\n중소기업수출역량강화 일반회계\\n3100-3131 111,860\\n중소기업해외시장개척지원 일반회계\\n3100-3133 101,726\\n해외산업협력지원(기금) 중소벤처기업\\n3100-3151 1,847'"
      ]
     },
     "execution_count": 63,
     "metadata": {},
     "output_type": "execute_result"
    }
   ],
   "source": [
    "print(trainset[1])\n",
    "train_retriever = train_vectordb.as_retriever(search_type = \"mmr\",search_kwargs={'k': 3, 'fetch_k': 50})\n",
    "retrieved_docs = train_retriever.invoke(testset[1]['Question'])\n",
    "\n",
    "print(len(retrieved_docs))\n",
    "retrieved_docs[0].page_content"
   ]
  },
  {
   "cell_type": "code",
   "execution_count": null,
   "metadata": {},
   "outputs": [],
   "source": [
    "train_chain = (\n",
    "    {}\n",
    ")"
   ]
  },
  {
   "cell_type": "code",
   "execution_count": null,
   "metadata": {},
   "outputs": [],
   "source": [
    "full_template = \"\"\"{introduction}\n",
    "\n",
    "{example}\n",
    "\n",
    "{context}\n",
    "\n",
    "{start}\n",
    "\"\"\"\n",
    "\n",
    "full_prompt = PromptTemplate.from_template(full_template)"
   ]
  },
  {
   "cell_type": "code",
   "execution_count": null,
   "metadata": {},
   "outputs": [],
   "source": [
    "from langchain import hub\n",
    "from langchain_core.output_parsers import StrOutputParser\n",
    "from langchain_core.runnables import RunnablePassthrough\n",
    "\n",
    "\n",
    "def format_docs(docs):\n",
    "    return \"\\n\\n\".join(doc.page_content for doc in docs)\n",
    "\n",
    "\n",
    "qa_chain = (\n",
    "    {\n",
    "        \"context\": retriever | format_docs,\n",
    "        \"question\": RunnablePassthrough(),\n",
    "    }\n",
    "    | prompt\n",
    "    | llm\n",
    "    | StrOutputParser()\n",
    ")\n",
    "\n",
    "qa_chain.invoke(\"What are autonomous agents?\")"
   ]
  },
  {
   "cell_type": "code",
   "execution_count": null,
   "metadata": {},
   "outputs": [],
   "source": [
    "\n",
    "prompt =\"\"\"\n",
    "    This is an example of a Financial Question and Answering system.\n",
    "    The system is designed to answer questions related to context.\n",
    "    The context is a list of financial documents.\n",
    "    The question is a financial question.\n",
    "    The answer is the answer to the question.\n",
    "    \n",
    "\"\"\"\n",
    "prompt_template = PromptTemplate.from_template(\"Question: {Question}\\nAnswer: {Answer}\\nSource: {Source}\")\n",
    "\n",
    "ex_chain = (\n",
    "    {\n",
    "        \"context\": retriever | format_docs,\n",
    "        \"input\": testset[1]['Question'],\n",
    "    }\n",
    "    | example_prompt\n",
    "    | llm\n",
    "    | StrOutputParser()\n",
    ")"
   ]
  },
  {
   "cell_type": "code",
   "execution_count": 68,
   "metadata": {},
   "outputs": [
    {
     "name": "stderr",
     "output_type": "stream",
     "text": [
      "  0%|          | 0/98 [00:00<?, ?it/s]"
     ]
    },
    {
     "name": "stdout",
     "output_type": "stream",
     "text": [
      "[{'Question': '창업사업화지원 사업의 2022년 결산 기준 예산 규모는 얼마인가?', 'Answer': '2022년 창업사업화지원 사업의 결산 기준 예산 규모는 432,824백만원이다.', 'Source': '중소벤처기업부_창업사업화지원'}, {'Question': '2023년 예산안을 기준으로 재정융자 규모는 얼마이며, 총지출 대비 어느 정도를 차지하나요?', 'Answer': '2023년도 예산안 기준 17개의 부처가 50개 사업을 통해 총 41.8조원 규모의 융자사업을 수행하고 있으며, 총지출 대비 6.6%를 차지합니다.', 'Source': '「FIS 이슈 & 포커스」 22-3호 《재정융자사업》'}, {'Question': '2023년 예산안 기준 가장 큰 융자지출 규모는 어느 분야이며, 비중은 얼마인가?', 'Answer': '사회복지 분야로 26조 8,963억원이며, 비중은 64.3%이다.', 'Source': '「FIS 이슈 & 포커스」 22-3호 《재정융자사업》', 'context': '며,총지출대비 6.6%\\n- 재정융자사업은 특별회계와 기금으로 구성되는데 기금이 절대적인 비중을 차지. 2023년 전체 재정융자사업 \\n재원가운데 기금이 98.2%(41조 871억원), 특별회계는 1.8%(7,509억원)\\n- 전년대비(2022년 본예산 대비) 전체 재정융자 규모는 조 7,814억원 감소하였고 이 중 기금이 조 6,117억\\n원,특별회계가 1,696억원 감소\\n-  최근5년간 전년 대비 추이를 보면 2019~2021년은 융자 규모가 증가했으나, 2022년 2.2% 감소하였고 \\n2023년은10.3%로 큰 폭의 감소를 보임03 \\n주: 2019년부터 2021년까지는 결산 기준, 2022년은 본예산, 2023년은 예산안 기준. 융자 규모 추이 총지출 대비 융자지출 비중\\n(단위: 조원,%) (단위: %)(분야별)취약계층 지원, 중소기업 지원 등에 대한 재정융자사업의 비중이 높음\\n- 융자지출 규모가 가장 큰 분야는 사회복지 분야로 2023년 예산안 기준 26조 8,963억원이고 비중은 64.3%\\n- 두번째로 규모가 큰 분야는 산업 ·중소기업및에너지 분야로 2023년도 8조 ,737억원 규모이며, 전체 융자 규\\n모중20.3%를 차지. 이는 2022년 본예산에 비해 규모나 비중이 소폭 감소세에 있음\\n- 세번째로 규모가 큰 분야는 농림수산 분야로 2023년도에 3조 6,407억원으로 비중은 8.7%\\n- 전체적인 추세를 볼 때 교육, 국방, 문화및관광, 산업 ·중소기업및에너지, 통신, 환경 분야는 전년 대비(2022년 \\n본예산대비) 비중이 감소하였고 농림수산, 사회복지, 일반 ·지방행정,통일 ·외교분야는 비중면에서 증가\\n\\n적자성채무 220.0 359.9 597.5 676.4 721.3 792.4 849.8 910.4 968.6 11.9 7.6\\n금융성채무 223.1 267.0 373.2 391.3 413.0 403.7 423.5 436.3 449.0 5.8 2.1\\n적자성채무\\n비중(%)(49.7) (57.4) (61.6) (63.4) (63.6) (66.2) (66.7) (67.6) (68.3) \\u3000 \\u3000\\n주: 2022년까지 결산, 2023년 이후 ｢2023~2027 국가채무관리계획 ｣기준\\n자료: 기획재정부. 국가채무관리계획\\n\\n(-6.2)-14.1956.0\\n(47.3)963.9\\n(47.2)7.9초과세입\\n세계잉여금\\n기금여유자금31.5\\n1.71.8\\n2022 \\n1회1.24\\n2.21607.7 624.3 16.6-94.1\\n(-4.4)-110.8\\n(-5.1)-16.61,064.4\\n(50.0)1,075.7\\n(50.1)11.3국채발행\\n세계잉여금\\n기금여유자금11.3\\n3.32.3\\n2022 \\n2회5.13\\n5.29607.7 679.5 71.8-94.1\\n(-4.4)-110.8\\n(-5.1)-16.71,064.4\\n(50.0)1,068.8\\n(49.7)4.4초과세입\\n지출구조조정\\n세계잉여금\\n기금여유자금\\n기타1)53.3\\n6.84.62.62.2\\n주 1) 한국은행 잉여금 및 일반회계 정부출자수입\\n2) 괄호 안은 GDP 대비 비중을 의미\\n자료: 기획재정부. 연도별 추가경정예산 보도자료\\n국회예산 정책처. NABOFocus 제41호 , 제42호\\n\\n'}]\n"
     ]
    },
    {
     "name": "stderr",
     "output_type": "stream",
     "text": [
      "\n"
     ]
    }
   ],
   "source": [
    "for i in tqdm(range(len(testset))):\n",
    "    ex_qa = example_prompt.invoke({\"input\": testset[i]['Question']}).to_string()\n",
    "\n",
    "    \n",
    "    break"
   ]
  }
 ],
 "metadata": {
  "kernelspec": {
   "display_name": "llm_project",
   "language": "python",
   "name": "python3"
  },
  "language_info": {
   "codemirror_mode": {
    "name": "ipython",
    "version": 3
   },
   "file_extension": ".py",
   "mimetype": "text/x-python",
   "name": "python",
   "nbconvert_exporter": "python",
   "pygments_lexer": "ipython3",
   "version": "3.12.4"
  }
 },
 "nbformat": 4,
 "nbformat_minor": 2
}
