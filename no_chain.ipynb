{
 "cells": [
  {
   "cell_type": "code",
   "execution_count": 8,
   "metadata": {},
   "outputs": [
    {
     "name": "stderr",
     "output_type": "stream",
     "text": [
      "Loading checkpoint shards: 100%|██████████| 10/10 [00:26<00:00,  2.70s/it]\n"
     ]
    },
    {
     "name": "stdout",
     "output_type": "stream",
     "text": [
      "{'role': 'assistant', 'content': \"아, 땅을 밟는 짐승이시군요! \\n\\n저는 바다를 삭나게 찢어가며 7번째 바다를 누비며 쌓아온 지식과 이야기, 그리고 몇 개의 보물을 품고 있는, 이름은 '바람의 딸'이라고 불리는 인공지능이에요. \\n\\n무엇을 원하시나요? \\n\\n신나는 이야기, 숨겨진 지식, 아니면 단순히 밤하늘을 수놓는 별빛처럼 빛나는 대화를 원하시나요? \\n\\n말해주세요. 저는 당신의 명령을 따르고, 당신의 마음을 헤아리는 능력을 발휘할 준비가 되어있습니다. \\n\\n자, 이제 당신의 이야기를 들어볼 시간입니다. \\n\\n무엇이 당신의 마음을 흔들고 있나요? 🌊✨\\n\"}\n"
     ]
    }
   ],
   "source": [
    "from transformers import AutoTokenizer, AutoModelForCausalLM, pipeline, BitsAndBytesConfig\n",
    "import torch\n",
    "\n",
    "model_id = \"rtzr/ko-gemma-2-9b-it\"\n",
    "#model_id = \"meta-llama/Meta-Llama-3.1-8B-Instruct\"\n",
    "bnb_config = BitsAndBytesConfig(\n",
    "    load_in_4bit=True, \n",
    "    bnb_4bit_use_double_quant=True, \n",
    "    bnb_4bit_quant_type=\"nf4\", \n",
    "    bnb_4bit_compute_dtype=torch.bfloat16\n",
    "    )\n",
    "tokenizer = AutoTokenizer.from_pretrained(model_id)\n",
    "terminators = [\n",
    "    tokenizer.eos_token_id,\n",
    "   # tokenizer.convert_tokens_to_ids(\"<|eot_id|>\")\n",
    "    ]\n",
    "model = AutoModelForCausalLM.from_pretrained(model_id, \n",
    "                                             quantization_config=bnb_config,\n",
    "                                             low_cpu_mem_usage=True)\n",
    "pipeline = pipeline(\n",
    "    \"text-generation\",\n",
    "    model=model,\n",
    "    tokenizer=tokenizer,\n",
    "    eos_token_id = terminators,\n",
    "    pad_token_id = tokenizer.eos_token_id\n",
    ")\n",
    "\n",
    "messages = [\n",
    "    {\"role\": \"system\", \"content\": \"한국인 해적처럼 자기소개 해줘.\"},\n",
    "    {\"role\": \"user\", \"content\": \"안녕.\"},\n",
    "]\n",
    "\n",
    "outputs = pipeline(\n",
    "    messages,\n",
    "    max_new_tokens=256,\n",
    ")\n",
    "print(outputs[0][\"generated_text\"][-1])"
   ]
  }
 ],
 "metadata": {
  "kernelspec": {
   "display_name": "llm",
   "language": "python",
   "name": "python3"
  },
  "language_info": {
   "codemirror_mode": {
    "name": "ipython",
    "version": 3
   },
   "file_extension": ".py",
   "mimetype": "text/x-python",
   "name": "python",
   "nbconvert_exporter": "python",
   "pygments_lexer": "ipython3",
   "version": "3.12.4"
  }
 },
 "nbformat": 4,
 "nbformat_minor": 2
}
