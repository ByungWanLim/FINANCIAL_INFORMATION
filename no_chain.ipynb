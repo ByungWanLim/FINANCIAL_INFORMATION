{
 "cells": [
  {
   "cell_type": "code",
   "execution_count": 1,
   "metadata": {},
   "outputs": [
    {
     "name": "stderr",
     "output_type": "stream",
     "text": [
      "c:\\ProgramData\\anaconda3\\envs\\llm_project\\Lib\\site-packages\\tqdm\\auto.py:21: TqdmWarning: IProgress not found. Please update jupyter and ipywidgets. See https://ipywidgets.readthedocs.io/en/stable/user_install.html\n",
      "  from .autonotebook import tqdm as notebook_tqdm\n",
      "Loading checkpoint shards: 100%|██████████| 10/10 [00:18<00:00,  1.82s/it]\n"
     ]
    }
   ],
   "source": [
    "from transformers import AutoTokenizer, AutoModelForCausalLM, pipeline, BitsAndBytesConfig\n",
    "import torch\n",
    "\n",
    "model_id = \"rtzr/ko-gemma-2-9b-it\"\n",
    "#model_id = \"meta-llama/Meta-Llama-3.1-8B-Instruct\"\n",
    "bnb_config = BitsAndBytesConfig(\n",
    "    load_in_4bit=True, \n",
    "    bnb_4bit_use_double_quant=True, \n",
    "    bnb_4bit_quant_type=\"nf4\", \n",
    "    bnb_4bit_compute_dtype=torch.bfloat16\n",
    "    )\n",
    "tokenizer = AutoTokenizer.from_pretrained(model_id)\n",
    "terminators = [\n",
    "    tokenizer.eos_token_id,\n",
    "   # tokenizer.convert_tokens_to_ids(\"<|eot_id|>\")\n",
    "    ]\n",
    "model = AutoModelForCausalLM.from_pretrained(model_id, \n",
    "                                             quantization_config=bnb_config,\n",
    "                                             low_cpu_mem_usage=True)\n",
    "pipeline = pipeline(\n",
    "    \"text-generation\",\n",
    "    model=model,\n",
    "    tokenizer=tokenizer,\n",
    "    max_new_tokens=256,\n",
    "    eos_token_id = terminators,\n",
    "    #pad_token_id = tokenizer.eos_token_id\n",
    ")\n"
   ]
  },
  {
   "cell_type": "code",
   "execution_count": 2,
   "metadata": {},
   "outputs": [
    {
     "name": "stdout",
     "output_type": "stream",
     "text": [
      "Loading FAISS DB from: ./train_faiss_db\n",
      "Loading FAISS DB from: ./test_faiss_db\n",
      "Loading FAISS DB from: ./fewshot_faiss_db\n"
     ]
    }
   ],
   "source": [
    "from faiss_module import  make_db, make_fewshot_db\n",
    "import pandas as pd\n",
    "from utils_module import make_dict, format_docs\n",
    "\n",
    "train_df = pd.read_csv('train.csv')\n",
    "train_db = make_db(train_df, './train_faiss_db')\n",
    "# train_dict = make_dict('train.csv')\n",
    "test_df = pd.read_csv('test.csv')\n",
    "test_db = make_db(test_df, './test_faiss_db')\n",
    "dataset = make_dict('test.csv')\n",
    "fewshot_db = make_fewshot_db(train_df, './fewshot_faiss_db')"
   ]
  },
  {
   "cell_type": "code",
   "execution_count": 3,
   "metadata": {},
   "outputs": [],
   "source": [
    "from langchain_core.example_selectors import SemanticSimilarityExampleSelector"
   ]
  },
  {
   "cell_type": "code",
   "execution_count": 4,
   "metadata": {},
   "outputs": [
    {
     "name": "stderr",
     "output_type": "stream",
     "text": [
      "  0%|          | 0/98 [00:00<?, ?it/s]c:\\ProgramData\\anaconda3\\envs\\llm_project\\Lib\\site-packages\\transformers\\models\\gemma2\\modeling_gemma2.py:520: UserWarning: 1Torch was not compiled with flash attention. (Triggered internally at ..\\aten\\src\\ATen\\native\\transformers\\cuda\\sdp_utils.cpp:455.)\n",
      "  attn_output = torch.nn.functional.scaled_dot_product_attention(\n"
     ]
    }
   ],
   "source": [
    "from tqdm import tqdm\n",
    "train_retriever = train_db.as_retriever(search_type=\"similarity_score_threshold\",\n",
    "                search_kwargs={'score_threshold': 0.77,'k':1})\n",
    "test_retriver = test_db.as_retriever(search_type=\"similarity_score_threshold\",\n",
    "                search_kwargs={'score_threshold': 0.77,'k':2})\n",
    "\n",
    "fewshot_num = 3\n",
    "example_selector = SemanticSimilarityExampleSelector(\n",
    "        vectorstore=fewshot_db,\n",
    "        k=fewshot_num,\n",
    "        \n",
    "    )\n",
    "results = []\n",
    "pipeline.model.eval()\n",
    "for i in tqdm(range(len(dataset))):\n",
    "    messages = [\n",
    "        {\"role\": \"system\", \"content\": \"\"\"You are the financial expert who helps me with my financial information Q&As.\n",
    "    You earn 10 points when you answer me and follow the rules and lose 7 points when you don't.\n",
    "\n",
    "    12,500 백만원 = 125 억원 = 12,500,000,000 원\n",
    "    5,400 백만원 = 54 억원 = 5,400,000,000 원\n",
    "\n",
    "    Here are some rules you should follow.\n",
    "    - Please use contexts to answer the question.\n",
    "    - Please your answers should be concise.\n",
    "    - Please answers must be written in Korean.\n",
    "    - Please answer the question in 1-3 sentences.\n",
    "\n",
    "    - Use the three examples below to learn how to follow the rules and reference information in context.\n",
    "        \"\"\"}\n",
    "    ]\n",
    "    exs = example_selector.select_examples({'Question': dataset[i]['Question']}) # buff['Question']에 해당하는 fewshot_num개의 문서를 선택 리턴: [{'Question': '질문', 'Answer': '답변'}]\n",
    "    for i, ex in enumerate(exs):\n",
    "        retrieved_docs = train_retriever.invoke(ex['Question'])\n",
    "        if train_db is not None and len(retrieved_docs) > 0:\n",
    "            messages.append({\"role\": \"user\", \"content\": f\"{ex['Question']}\\n\\n{format_docs(retrieved_docs)}\"})\n",
    "        else:\n",
    "            messages.append({\"role\": \"user\", \"content\": f\"{ex['Question']}\"})\n",
    "        messages.append({\"role\": \"assistant\", \"content\": f\"{ex['Answer']}\"})\n",
    "        \n",
    "    retrieved_docs = test_retriver.invoke(dataset[i]['Question'])\n",
    "    messages.append({\"role\": \"system\", \"content\": f\"Now do it for real.\"})\n",
    "    messages.append({\"role\": \"user\", \"content\": f\"{dataset[i]['Question']}\\n\\n{format_docs(retrieved_docs)}\"})\n",
    "    prompt = pipeline.tokenizer.apply_chat_template(\n",
    "    messages, \n",
    "    tokenize=False, \n",
    "    add_generation_prompt=True\n",
    "    )\n",
    "    outputs = pipeline(\n",
    "    prompt,\n",
    "    )\n",
    "    results.append({\n",
    "            \"Question\": dataset[i]['Question'],\n",
    "            \"Answer\": outputs[-1][\"generated_text\"][-1]['content'],\n",
    "            \"Source\": dataset[i]['Source']\n",
    "            })\n",
    "    print(results[-1]['Question'])\n",
    "    print(results[-1]['Answer'])\n",
    "    "
   ]
  },
  {
   "cell_type": "code",
   "execution_count": null,
   "metadata": {},
   "outputs": [
    {
     "name": "stdout",
     "output_type": "stream",
     "text": [
      "{'role': 'assistant', 'content': \"혁신창업사업화자금(융자) 사업은 '중소기업진흥에 관한 법률 제66조, 제66조, 제67조, 제74조'에 근거하고 있습니다. \\n\\n\\n\"}\n"
     ]
    }
   ],
   "source": [
    "print(outputs[-1][\"generated_text\"][-1])"
   ]
  },
  {
   "cell_type": "code",
   "execution_count": null,
   "metadata": {},
   "outputs": [],
   "source": []
  }
 ],
 "metadata": {
  "kernelspec": {
   "display_name": "llm",
   "language": "python",
   "name": "python3"
  },
  "language_info": {
   "codemirror_mode": {
    "name": "ipython",
    "version": 3
   },
   "file_extension": ".py",
   "mimetype": "text/x-python",
   "name": "python",
   "nbconvert_exporter": "python",
   "pygments_lexer": "ipython3",
   "version": "3.11.4"
  }
 },
 "nbformat": 4,
 "nbformat_minor": 2
}
