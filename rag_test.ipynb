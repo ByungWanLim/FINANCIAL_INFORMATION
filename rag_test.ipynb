{
 "cells": [
  {
   "cell_type": "code",
   "execution_count": 1,
   "metadata": {},
   "outputs": [
    {
     "name": "stdout",
     "output_type": "stream",
     "text": [
      "Loading PDF files from: 9\n",
      "Done. 267 chunks\n",
      "Creating FAISS DB\n",
      "Done.\n"
     ]
    }
   ],
   "source": [
    "from faiss_module import make_db, make_fewshot_db\n",
    "import pandas as pd\n",
    "\n",
    "# train_df = pd.read_csv('train.csv')\n",
    "# fewshot_db = make_fewshot_db(train_df)\n",
    "# train_db = make_db(train_df)\n",
    "# train_retriever = train_db.as_retriever(search_kwargs={'k': 1})\n",
    "\n",
    "test_df = pd.read_csv('test.csv')\n",
    "test_db = make_db(test_df)\n"
   ]
  },
  {
   "cell_type": "code",
   "execution_count": 22,
   "metadata": {},
   "outputs": [
    {
     "name": "stdout",
     "output_type": "stream",
     "text": [
      "창업기반지원과 신청 대상이 중복인 자금이 어떤 것이며, 이 자금이 폐지된 연도는 언제인가요?\n"
     ]
    },
    {
     "ename": "RuntimeError",
     "evalue": "No GPU found. A GPU is needed for quantization.",
     "output_type": "error",
     "traceback": [
      "\u001b[0;31m---------------------------------------------------------------------------\u001b[0m",
      "\u001b[0;31mRuntimeError\u001b[0m                              Traceback (most recent call last)",
      "Cell \u001b[0;32mIn[22], line 8\u001b[0m\n\u001b[1;32m      6\u001b[0m \u001b[38;5;28;01mfrom\u001b[39;00m \u001b[38;5;21;01mfaiss_module_bw\u001b[39;00m \u001b[38;5;28;01mimport\u001b[39;00m load_and_vectorize,load_chunks_make_docdb,create_multi_query_retriever\n\u001b[1;32m      7\u001b[0m \u001b[38;5;28;01mfrom\u001b[39;00m \u001b[38;5;21;01mmodel_bw\u001b[39;00m \u001b[38;5;28;01mimport\u001b[39;00m setup_llm_pipeline\n\u001b[0;32m----> 8\u001b[0m llm \u001b[38;5;241m=\u001b[39m \u001b[43msetup_llm_pipeline\u001b[49m\u001b[43m(\u001b[49m\u001b[43m)\u001b[49m\n\u001b[1;32m      9\u001b[0m test_retriver \u001b[38;5;241m=\u001b[39m create_multi_query_retriever(test_db, llm, k\u001b[38;5;241m=\u001b[39m\u001b[38;5;241m3\u001b[39m)\n",
      "File \u001b[0;32m~/Workspace/LLM_project/FINANCIAL_INFORMATION/model_bw.py:27\u001b[0m, in \u001b[0;36msetup_llm_pipeline\u001b[0;34m(model_id)\u001b[0m\n\u001b[1;32m     19\u001b[0m tokenizer \u001b[38;5;241m=\u001b[39m AutoTokenizer\u001b[38;5;241m.\u001b[39mfrom_pretrained(model_id,\n\u001b[1;32m     20\u001b[0m                                         use_default_system_prompt \u001b[38;5;241m=\u001b[39m \u001b[38;5;28;01mFalse\u001b[39;00m,\n\u001b[1;32m     21\u001b[0m                                         eos_token_id\u001b[38;5;241m=\u001b[39meos ,\n\u001b[1;32m     22\u001b[0m                                         pad_token_id\u001b[38;5;241m=\u001b[39mpad ,\n\u001b[1;32m     23\u001b[0m                                         bos_token_id \u001b[38;5;241m=\u001b[39m bos,\n\u001b[1;32m     24\u001b[0m                                         )    \n\u001b[1;32m     26\u001b[0m \u001b[38;5;66;03m# 모델 로드 및 설정\u001b[39;00m\n\u001b[0;32m---> 27\u001b[0m model \u001b[38;5;241m=\u001b[39m \u001b[43mAutoModelForCausalLM\u001b[49m\u001b[38;5;241;43m.\u001b[39;49m\u001b[43mfrom_pretrained\u001b[49m\u001b[43m(\u001b[49m\n\u001b[1;32m     28\u001b[0m \u001b[43m    \u001b[49m\u001b[43mmodel_id\u001b[49m\u001b[43m,\u001b[49m\n\u001b[1;32m     29\u001b[0m \u001b[43m    \u001b[49m\u001b[43mquantization_config\u001b[49m\u001b[38;5;241;43m=\u001b[39;49m\u001b[43mbnb_config\u001b[49m\u001b[43m,\u001b[49m\n\u001b[1;32m     30\u001b[0m \u001b[43m    \u001b[49m\u001b[43meos_token_id\u001b[49m\u001b[38;5;241;43m=\u001b[39;49m\u001b[43meos\u001b[49m\u001b[43m,\u001b[49m\n\u001b[1;32m     31\u001b[0m \u001b[43m    \u001b[49m\u001b[43mpad_token_id\u001b[49m\u001b[38;5;241;43m=\u001b[39;49m\u001b[43mpad\u001b[49m\u001b[43m \u001b[49m\u001b[43m,\u001b[49m\n\u001b[1;32m     32\u001b[0m \u001b[43m    \u001b[49m\u001b[43mbos_token_id\u001b[49m\u001b[43m \u001b[49m\u001b[38;5;241;43m=\u001b[39;49m\u001b[43m \u001b[49m\u001b[43mbos\u001b[49m\u001b[43m,\u001b[49m\n\u001b[1;32m     33\u001b[0m \u001b[43m    \u001b[49m\u001b[43mtrust_remote_code\u001b[49m\u001b[38;5;241;43m=\u001b[39;49m\u001b[38;5;28;43;01mTrue\u001b[39;49;00m\u001b[43m,\u001b[49m\n\u001b[1;32m     34\u001b[0m \u001b[43m    \u001b[49m\u001b[43mdevice_map\u001b[49m\u001b[38;5;241;43m=\u001b[39;49m\u001b[38;5;124;43m\"\u001b[39;49m\u001b[38;5;124;43mauto\u001b[39;49m\u001b[38;5;124;43m\"\u001b[39;49m\u001b[43m,\u001b[49m\n\u001b[1;32m     35\u001b[0m \u001b[43m\u001b[49m\u001b[43m)\u001b[49m\n\u001b[1;32m     36\u001b[0m \u001b[38;5;66;03m# 토크나이저에 추가된 토큰에 맞게 모델의 임베딩 레이어 재초기화\u001b[39;00m\n\u001b[1;32m     37\u001b[0m model\u001b[38;5;241m.\u001b[39mresize_token_embeddings(\u001b[38;5;28mlen\u001b[39m(tokenizer))\n",
      "File \u001b[0;32m~/anaconda3/envs/llm/lib/python3.11/site-packages/transformers/models/auto/auto_factory.py:564\u001b[0m, in \u001b[0;36m_BaseAutoModelClass.from_pretrained\u001b[0;34m(cls, pretrained_model_name_or_path, *model_args, **kwargs)\u001b[0m\n\u001b[1;32m    562\u001b[0m \u001b[38;5;28;01melif\u001b[39;00m \u001b[38;5;28mtype\u001b[39m(config) \u001b[38;5;129;01min\u001b[39;00m \u001b[38;5;28mcls\u001b[39m\u001b[38;5;241m.\u001b[39m_model_mapping\u001b[38;5;241m.\u001b[39mkeys():\n\u001b[1;32m    563\u001b[0m     model_class \u001b[38;5;241m=\u001b[39m _get_model_class(config, \u001b[38;5;28mcls\u001b[39m\u001b[38;5;241m.\u001b[39m_model_mapping)\n\u001b[0;32m--> 564\u001b[0m     \u001b[38;5;28;01mreturn\u001b[39;00m \u001b[43mmodel_class\u001b[49m\u001b[38;5;241;43m.\u001b[39;49m\u001b[43mfrom_pretrained\u001b[49m\u001b[43m(\u001b[49m\n\u001b[1;32m    565\u001b[0m \u001b[43m        \u001b[49m\u001b[43mpretrained_model_name_or_path\u001b[49m\u001b[43m,\u001b[49m\u001b[43m \u001b[49m\u001b[38;5;241;43m*\u001b[39;49m\u001b[43mmodel_args\u001b[49m\u001b[43m,\u001b[49m\u001b[43m \u001b[49m\u001b[43mconfig\u001b[49m\u001b[38;5;241;43m=\u001b[39;49m\u001b[43mconfig\u001b[49m\u001b[43m,\u001b[49m\u001b[43m \u001b[49m\u001b[38;5;241;43m*\u001b[39;49m\u001b[38;5;241;43m*\u001b[39;49m\u001b[43mhub_kwargs\u001b[49m\u001b[43m,\u001b[49m\u001b[43m \u001b[49m\u001b[38;5;241;43m*\u001b[39;49m\u001b[38;5;241;43m*\u001b[39;49m\u001b[43mkwargs\u001b[49m\n\u001b[1;32m    566\u001b[0m \u001b[43m    \u001b[49m\u001b[43m)\u001b[49m\n\u001b[1;32m    567\u001b[0m \u001b[38;5;28;01mraise\u001b[39;00m \u001b[38;5;167;01mValueError\u001b[39;00m(\n\u001b[1;32m    568\u001b[0m     \u001b[38;5;124mf\u001b[39m\u001b[38;5;124m\"\u001b[39m\u001b[38;5;124mUnrecognized configuration class \u001b[39m\u001b[38;5;132;01m{\u001b[39;00mconfig\u001b[38;5;241m.\u001b[39m\u001b[38;5;18m__class__\u001b[39m\u001b[38;5;132;01m}\u001b[39;00m\u001b[38;5;124m for this kind of AutoModel: \u001b[39m\u001b[38;5;132;01m{\u001b[39;00m\u001b[38;5;28mcls\u001b[39m\u001b[38;5;241m.\u001b[39m\u001b[38;5;18m__name__\u001b[39m\u001b[38;5;132;01m}\u001b[39;00m\u001b[38;5;124m.\u001b[39m\u001b[38;5;130;01m\\n\u001b[39;00m\u001b[38;5;124m\"\u001b[39m\n\u001b[1;32m    569\u001b[0m     \u001b[38;5;124mf\u001b[39m\u001b[38;5;124m\"\u001b[39m\u001b[38;5;124mModel type should be one of \u001b[39m\u001b[38;5;132;01m{\u001b[39;00m\u001b[38;5;124m'\u001b[39m\u001b[38;5;124m, \u001b[39m\u001b[38;5;124m'\u001b[39m\u001b[38;5;241m.\u001b[39mjoin(c\u001b[38;5;241m.\u001b[39m\u001b[38;5;18m__name__\u001b[39m\u001b[38;5;250m \u001b[39m\u001b[38;5;28;01mfor\u001b[39;00m\u001b[38;5;250m \u001b[39mc\u001b[38;5;250m \u001b[39m\u001b[38;5;129;01min\u001b[39;00m\u001b[38;5;250m \u001b[39m\u001b[38;5;28mcls\u001b[39m\u001b[38;5;241m.\u001b[39m_model_mapping\u001b[38;5;241m.\u001b[39mkeys())\u001b[38;5;132;01m}\u001b[39;00m\u001b[38;5;124m.\u001b[39m\u001b[38;5;124m\"\u001b[39m\n\u001b[1;32m    570\u001b[0m )\n",
      "File \u001b[0;32m~/anaconda3/envs/llm/lib/python3.11/site-packages/transformers/modeling_utils.py:3354\u001b[0m, in \u001b[0;36mPreTrainedModel.from_pretrained\u001b[0;34m(cls, pretrained_model_name_or_path, config, cache_dir, ignore_mismatched_sizes, force_download, local_files_only, token, revision, use_safetensors, *model_args, **kwargs)\u001b[0m\n\u001b[1;32m   3351\u001b[0m     hf_quantizer \u001b[38;5;241m=\u001b[39m \u001b[38;5;28;01mNone\u001b[39;00m\n\u001b[1;32m   3353\u001b[0m \u001b[38;5;28;01mif\u001b[39;00m hf_quantizer \u001b[38;5;129;01mis\u001b[39;00m \u001b[38;5;129;01mnot\u001b[39;00m \u001b[38;5;28;01mNone\u001b[39;00m:\n\u001b[0;32m-> 3354\u001b[0m     \u001b[43mhf_quantizer\u001b[49m\u001b[38;5;241;43m.\u001b[39;49m\u001b[43mvalidate_environment\u001b[49m\u001b[43m(\u001b[49m\n\u001b[1;32m   3355\u001b[0m \u001b[43m        \u001b[49m\u001b[43mtorch_dtype\u001b[49m\u001b[38;5;241;43m=\u001b[39;49m\u001b[43mtorch_dtype\u001b[49m\u001b[43m,\u001b[49m\u001b[43m \u001b[49m\u001b[43mfrom_tf\u001b[49m\u001b[38;5;241;43m=\u001b[39;49m\u001b[43mfrom_tf\u001b[49m\u001b[43m,\u001b[49m\u001b[43m \u001b[49m\u001b[43mfrom_flax\u001b[49m\u001b[38;5;241;43m=\u001b[39;49m\u001b[43mfrom_flax\u001b[49m\u001b[43m,\u001b[49m\u001b[43m \u001b[49m\u001b[43mdevice_map\u001b[49m\u001b[38;5;241;43m=\u001b[39;49m\u001b[43mdevice_map\u001b[49m\n\u001b[1;32m   3356\u001b[0m \u001b[43m    \u001b[49m\u001b[43m)\u001b[49m\n\u001b[1;32m   3357\u001b[0m     torch_dtype \u001b[38;5;241m=\u001b[39m hf_quantizer\u001b[38;5;241m.\u001b[39mupdate_torch_dtype(torch_dtype)\n\u001b[1;32m   3358\u001b[0m     device_map \u001b[38;5;241m=\u001b[39m hf_quantizer\u001b[38;5;241m.\u001b[39mupdate_device_map(device_map)\n",
      "File \u001b[0;32m~/anaconda3/envs/llm/lib/python3.11/site-packages/transformers/quantizers/quantizer_bnb_4bit.py:62\u001b[0m, in \u001b[0;36mBnb4BitHfQuantizer.validate_environment\u001b[0;34m(self, *args, **kwargs)\u001b[0m\n\u001b[1;32m     60\u001b[0m \u001b[38;5;28;01mdef\u001b[39;00m \u001b[38;5;21mvalidate_environment\u001b[39m(\u001b[38;5;28mself\u001b[39m, \u001b[38;5;241m*\u001b[39margs, \u001b[38;5;241m*\u001b[39m\u001b[38;5;241m*\u001b[39mkwargs):\n\u001b[1;32m     61\u001b[0m     \u001b[38;5;28;01mif\u001b[39;00m \u001b[38;5;129;01mnot\u001b[39;00m torch\u001b[38;5;241m.\u001b[39mcuda\u001b[38;5;241m.\u001b[39mis_available():\n\u001b[0;32m---> 62\u001b[0m         \u001b[38;5;28;01mraise\u001b[39;00m \u001b[38;5;167;01mRuntimeError\u001b[39;00m(\u001b[38;5;124m\"\u001b[39m\u001b[38;5;124mNo GPU found. A GPU is needed for quantization.\u001b[39m\u001b[38;5;124m\"\u001b[39m)\n\u001b[1;32m     63\u001b[0m     \u001b[38;5;28;01mif\u001b[39;00m \u001b[38;5;129;01mnot\u001b[39;00m is_accelerate_available():\n\u001b[1;32m     64\u001b[0m         \u001b[38;5;28;01mraise\u001b[39;00m \u001b[38;5;167;01mImportError\u001b[39;00m(\u001b[38;5;124m\"\u001b[39m\u001b[38;5;124mUsing `bitsandbytes` 4-bit quantization requires Accelerate: `pip install accelerate`\u001b[39m\u001b[38;5;124m\"\u001b[39m)\n",
      "\u001b[0;31mRuntimeError\u001b[0m: No GPU found. A GPU is needed for quantization."
     ]
    }
   ],
   "source": [
    "querry = test_df.iloc[6]['Question']\n",
    "test_retriver = test_db.as_retriever(search_kwargs={'k': 14})\n",
    "print(querry)\n",
    "test_retriver.invoke(querry)\n",
    "\n",
    "from faiss_module_bw import load_and_vectorize,load_chunks_make_docdb,create_multi_query_retriever\n",
    "from model_bw import setup_llm_pipeline\n",
    "llm = setup_llm_pipeline()\n",
    "test_retriver = create_multi_query_retriever(test_db, llm, k=3)"
   ]
  },
  {
   "cell_type": "code",
   "execution_count": 20,
   "metadata": {},
   "outputs": [
    {
     "name": "stdout",
     "output_type": "stream",
     "text": [
      "우리나라에서는 언제부터 발생주의 기준을 적용한 국가결산보고서에서 우발부채를 보고하고 있는가?\n"
     ]
    },
    {
     "data": {
      "text/plain": [
       "[Document(metadata={'source': './test_source/「FIS 이슈 & 포커스」(신규) 통권 제1호 《우발부채》.pdf', 'page': 1}, page_content='- 국제적으로 정부의 채무지속가능성분석(DSA)4)을 위한 기초자료로 활용되는 등 주요하게 인식되는 추세와 \\n비교해 우리나라에서는 아직까지 체계적으로 다뤄지지 않고 있음\\nFOCUS   우발부채 관련 주요 쟁점은?\\n‣ 우발부채 개념 및 용어 사용의 혼란, 우발부채 분류기준 재검토, 새로운 분류기준 정립\\n    - 발생주의 회계기준을 적용한 국가결산보고서가 10년간 작성되었으나 우발부채의 인식과 공시는 크게 달라지지 \\n않음(현재 주석에서 ‘우발사항 및 약정사항’으로 보고)\\n    - 우리나라는 국가회계기준, 지방회계기준, 한국채택국제회계기준(K–IFRS) 등에서 우발부채를 광의적 개념에\\n서만 정의하고 있어 용어 사용 혼란 및 체계적 관리 한계(본고 4페이지 참고)\\n    - SNA, PSDS, IPSAS 등 다양한 국제기준 통계가 GFS체계로 조화를 모색하는 추세임을 감안할 때,'),\n",
       " Document(metadata={'source': './test_source/「FIS 이슈 & 포커스」(신규) 통권 제1호 《우발부채》.pdf', 'page': 1}, page_content='02\\nFIS    ISSUE & FOCUS                    들어가며\\nISSUE   왜 우발부채에 주목하는가?\\n‣ 국제기준 재정통계 산출에 발생주의(accrual basis)1) 회계기준이 적용되면서 미래의 다양한 의제의무\\n(constructive obligation)2)를 포괄하는 우발부채 관리에 대한 중요성 인식\\n    - 기업회계에서는 우발부채 규모가 그리 크지 않아 중요한 요소가 아니지만, 공공부문에서는 재정건전성, 재정\\n위기 관리 등 다양한 관점에서 중요하게 다뤄져야 할 필요\\n    - GFSM 2001에서 광의적 개념으로 정의하였던 것에 비해, GFSM2014에서는 ‘명시적 우발부채’와 ‘암묵적 우\\n발부채’로 세분화하여 우발부채 범주를 하위 항목까지 구체적으로 다룸3)\\n‣ 우리나라는 2011년부터 발생주의 기준을 적용한 국가결산보고서에서 우발부채를 보고하고 있으나, 용어 \\n사용에 혼란이 있고 분류상 오류가 있는 등 체계적 관리 대안에 대한 논의가 필요한 시점'),\n",
       " Document(metadata={'source': './test_source/「FIS 이슈 & 포커스」(신규) 통권 제1호 《우발부채》.pdf', 'page': 3}, page_content='모색하는 추세<표 2> 우발부채 정의의 근거가 되는 국내외 주요 회계기준\\n자료:  저자 작성.\\n8) 「국가회계법」 제15조(결산보고서의 작성)에 근거하여 제14조제3호에 따른 국가결산보고서 재무제표는 「국가회계기준에 관한 규칙」에 따라 작성한다.\\n9) 「지방회계법」 제16조(결산서의 작성 등)에 근거하여 제15조제3호에 따른 결산서의 재무제표는 「지방자치단체 회계기준에 관한 규칙」에 따라 작성한다. 「지방자치단체 \\n복식부기·재무회계 운영규정」에서 우발부채·우발자산의 회계처리 등을 규정하고 있다. 중앙정부는 우발부채를 재무제표상 부채로 인식하지 않으나, 지방정부는 \\n발생가능성과 금액의 추정가능성에 따라 재무제표상 재정상태표에 인식하는 경우도 있다.'),\n",
       " Document(metadata={'source': './test_source/「FIS 이슈 & 포커스」(신규) 통권 제1호 《우발부채》.pdf', 'page': 14}, page_content='15                       나가며 \\n    우발부채 용어 사용 혼란을 줄어야\\n‣ 「국가회계기준에 관한 규칙」이 일부개정을 통해 ‘우발부채’를 정의했음에도 국가결산보고서는‘우발사항’  \\n으로 공시, 「지방자치단체 회계기준에 관한 규칙」은 여전히 ‘우발손실’로 정의하는 등 용어 및 회계처리 \\n상이\\n    - 국가결산보고서 주석5 ‘우발사항 및 약정사항’을 ‘우발부채 및 자산’으로 변경을 고려할 필요\\n    우발부채 분류기준 재검토해야\\n‣ 「국가회계기준에 관한 규칙」에도 불구하고, 국가결산보고서 주석5(우발사항 및 약정사항)에 우발부채를 \\n공시하고 있으나, 주석3과 주석8에도 우발부채가 혼재\\n    - 우발부채의 국제비교 가능성 차원에서도 분류기준에 대한 재검토가 필요하며, 대표적으로 장기충당부채 중 \\n일부는 우발부채로 재분류할 필요\\n    - 주석5를 ‘우발부채 및 자산’으로 정의 후, 주석3(장기충당부채)과 주석8(기타 재무제표에 중대한 영향을 미치'),\n",
       " Document(metadata={'source': './test_source/「FIS 이슈 & 포커스」(신규) 통권 제1호 《우발부채》.pdf', 'page': 8}, page_content='공공금융비용수자원공사 340,000 340,000\\n지하철공사 - 2,623\\n공공손실부담 국토교통부 352,800 352,800\\n계 692,800 695,423<표 10> 기타 우발부채에 대한 내용, 자원의 유출에 따른 재무적 영향\\n자료: 대한민국정부, 「2020회계연도 국가결산보고서」를  참고하여 재작성.(단위: 백만원)'),\n",
       " Document(metadata={'source': './test_source/「FIS 이슈 & 포커스」(신규) 통권 제1호 《우발부채》.pdf', 'page': 3}, page_content='- 「국가회계기준에 관한 규칙」은 2018년 일부개정으로 제50조의 우발상황, 우발이익 및 우발손실 용어를 삭제\\n하고 충당부채, 우발부채 및 우발자산 용어를 신설하여 인식 및 측정기준을 국제공공부문회계기준(IPSAS) 등 \\n타 회계기준과 비슷하게 개선\\n    - 이에 대한 회계처리지침을 신설하는 등 여러 노력이 있어 왔으나, 공시 현황을 보면 여전히 항목들을 주석5 \\n‘우발사항 및 약정사항’ 내에 열거하는 수준에 머물러 있음\\n    - 국제기준 GFSM2014는 우발부채를 ‘명시적(explicit)’ 및 ‘암묵적(implicit)’ 성격으로 구분하고 그 범주에 대\\n해 논의하고 있는데, 이에 맞춰 우발부채 용어 및 분류체계를 재정립할 필요(우발부채 관련 GFSM2014의 구체적 내용은 이후 4장에서 설명)\\n구분 주요 기준 설명\\n국내 행정규칙「국가회계기준에 관한 규칙」(중앙)\\n「지방자치단체 회계기준에 관한  \\n 규칙」(지방)• 이에  따라 중앙·지방정부가 인식하고, 결산보고서에 공시'),\n",
       " Document(metadata={'source': './test_source/「FIS 이슈 & 포커스」(신규) 통권 제1호 《우발부채》.pdf', 'page': 4}, page_content='05    (우발부채 공시) 국가결산보고서는 우발부채를 재무제표상 부채로 인식하지 않으며, 주석에 공시\\n‣ 현재 국가결산보고서는 국가회계기준에 따라 우발부채를 의무 이행을 위해 자원이 유출될 가능성이 희박\\n하지 않은 한 주석11)에 공시하고 있으며, 재정상태표에는 인식하지 않음12)\\n    - 재무제표 주석5 ‘우발사항 및 약정사항’에는 계류중인 소송사건, 담보제공자산, 지급보증, 중요한 계약사\\n항 등 9가지 항목이 있으며, 가능하면 △우발부채 추정금액, △자원의 유출 금액 및 시기 관련 불확실성 정도,  \\n△제3자에 의한 변제 가능성 공시\\n    - 우발부채는 처음에 예상하지 못한 상황에 따라 변할 수 있으므로 지속적 검토가 필요하며, 과거 우발부채로 \\n처리했더라도 경제적 편익 있는 자원의 유출가능성이 매우 높아진 경우, 그러한 가능성의 변화가 생긴 기간\\n의 재정상태표에 ‘충당부채’로 인식\\n    - 실무적인 이유로 공시하지 않은 사항이 있는 경우에는 그 사실을 공시해야 함\\n항목 설명'),\n",
       " Document(metadata={'source': './test_source/「FIS 이슈 & 포커스」(신규) 통권 제1호 《우발부채》.pdf', 'page': 2}, page_content='예기치 못한 사건으로 인해 발생할 수 있음7)\\n    - 우발부채가 부채로 인식되기 위해서는 하나 또는 그 이상의 조건이 충족되어야 하는 반면, ‘충당부채’는 현\\n재의무이고 경제적 편익이 있는 자원을 유출할 가능성이 높으며 금액을 신뢰성있게 추정할 수 있어 부채로 \\n인식02 \\n<표 1> 과거의 거래나 사건으로 발생한 현재의무에 대한 우발부채 vs 충당부채 구분\\n신뢰성있는 추정가능성 신뢰성있는 추정불가능\\n매우 높음 충당부채로 인식\\n우발부채로 주석에 공시\\n희박하지 않음 우발부채로 주석에 공시\\n희박함 공시하지 않음자원 유출가능성금액 추정가능성\\n자료: 기획재정부, 「국가회계편람」 . 2021.\\n1) 발생주의(accrual basis)란 ‘경제적 거래가 발생하는 시점’에 거래를 기록하는 방식으로, ‘현금을 수취하거나 지급한 시점’에 거래를 기록하는 방식인 현금주의(cash \\nbasis)와 차이가 있다.'),\n",
       " Document(metadata={'source': './test_source/「FIS 이슈 & 포커스」(신규) 통권 제1호 《우발부채》.pdf', 'page': 15}, page_content='FIS    ISSUE & FOCUS 참고문헌\\n기획재정부. (2018). 「충당부채,우발부채,우발자산 회계처리지침」.\\n기획재정부. (2021). 「국가회계기준에 관한 규칙」.\\n기획재정부. (2021). 「2021회계연도 결산작성지침」.\\n기획재정부 ·한국조세재정연구원. (2021). 「국가회계편람」.\\n대한민국 정부. (2021). 「2020회계연도 국가결산보고서」.한국회계기준원. (2020). 「한국채택국제회계기준」. \\n행정안전부. (2020). 「지방자치단체 복식부기· 재무회계 운영규정」.\\n행정안전부. (2021). 「지방자치단체 회계기준에 관한 규칙」.\\n정성호. (2015). 우발부채의 체계적 관리를 위한 제언. 「한국지방재정논집」, 20(4): 59-87.\\nIMF. (2001). 「Government Finance Statistics Manual 2001」.'),\n",
       " Document(metadata={'source': './test_source/「FIS 이슈 & 포커스」(신규) 통권 제1호 《우발부채》.pdf', 'page': 1}, page_content='GFSM2014를 근거로 우발부채 용어 및 분류기준을 재정립할 필요5) (본고 10페이지 참고)01 최근 국제기준의 재정통계 적용과 관련해 우발부채에 관한 구체적 논의가 진행 중이다. 우발부\\n채의 관리는 지속가능한 재정운영 차원에서 중요한 이슈인데, 이는 미래의 다양한 의제의무를 \\n포함하고 있기 때문이다.우리나라는 국가결산보고서 등에서 우발부채를 인식하고 있으나 용어 사용에 혼란이 있고 분\\n류에 대한 개념적 논거가 명확하지 않은 면이 있다. 이 글에서는 국제기준에 근거하여 우발부채의 개념에 대한 일관된 인식 프레임을 \\n제시하고, 국가결산 정보를 활용한 심층분석을 통하여 우리나라 우발부채 현황을 체계적으로 파악해보고자 하였다. 이를 통해 독자가 \\n우발부채 관리의 중요성에 대해 새롭게 인식할 수 있게 되기를 기대한다.(Contingent Liabilities)우발부채'),\n",
       " Document(metadata={'source': './test_source/「FIS 이슈 & 포커스」(신규) 통권 제1호 《우발부채》.pdf', 'page': 0}, page_content='ISSUE & FOCUSFIS 통  권\\n제1호\\n2022.03.\\n  발행인  박용주      발행처 04637 서울특별시  중구 퇴계로 10(남대문로5가 537) 메트로타워      T 02)6908-8568      F 02)6312-8959 www.kpfis.or.kr\\n작성 심혜인 부연구위원, 정성호 연구위원    자료수집 최성진 사원\\nContingent Liabilities우발부채\\n1  들어가며\\n2  우발부채 개념 및 용어 정의\\n3  국가결산보고서 우발부채 현황\\n4  국제기준(GFS)에 근거한 우발부채 분류 재검토\\n5  나가며'),\n",
       " Document(metadata={'source': './test_source/「FIS 이슈 & 포커스」(신규) 통권 제1호 《우발부채》.pdf', 'page': 3}, page_content='04\\nFIS    ISSUE & FOCUS     (우발부채 인식) 국가회계기준(중앙 정부)과 지방회계기준(지방정부)에서 우발부채 또는 우발상황 등을 정의\\n‣ 중앙정부와 지방정부는 각각 「국가회계기준에 관한 규칙」과 「지방자치단체 회계기준에 관한 규칙」에서 우\\n발부채 또는 우발상황 등을 정의하고, 이를 근거로 인식한 우발부채 현황을 결산보고서 주석 등에 공시8)\\n    - 「국가회계기준에 관한 규칙」은 제50조에서 ‘충당부채’, ‘우발부채’ 및 ‘우발자산’을 정의하고 있으며, 관련 예\\n규로서 「충당부채, 우발부채, 우발자산 회계처리지침」 운영\\n    - 「지방자치단체 회계기준에 관한 규칙」은 제59조에서 ‘우발상황’, ‘우발손실’ 및 ‘우발이익’으로 정의하고 있\\n으며, 지방정부의 우발부채의 회계처리가 중앙정부와 상이9)\\n‣ 국가회계기준의 우발부채 정의는 한국채택국제회계기준(K–IFRS) 또는 국제공공부문회계기준(IPSAS) 등\\n을 준용하고 있으나 광의적 개념 정의에 머무르는 한계10)'),\n",
       " Document(metadata={'source': './test_source/「FIS 이슈 & 포커스」(신규) 통권 제1호 《우발부채》.pdf', 'page': 4}, page_content='⑦ 최소운영수입보장 내역• 민 간투자사업 중 BTO(Build-Transfer-Operate, 건설-양도-운영) 계약 등 최소운영수입보장 계약이 존재\\n하는 경우 모든 내역 기재\\n⑧ 기 타 우발부채에 대한 내용,  \\n자원의 유출에 따른 재무적 영향• 장 기임차토지의 원상회복의무, 철도운영자의 공공서비스 제공으로 발생하는 손실부담계약, 수자원·지하철\\n공사 금융비용지원 등(공공손실부담, 공공금융비용)\\n⑨ 우발자산13)• 자원의 유입가능성이 매우 높은 압수품 및 몰수품 등\\n  - 처 분이 예정되어 있고 처분가격을 확인할 수 있는 종류와 금액 공시<표 3> 재무제표 주석5(우발사항 및 약정사항)의  공시 내용\\n자료: 기획재정부, 「2021회계연도 결산작성지침」 및 대한민국정부, 「2020회계연도 국가결산보고서」를 참고하여 재작성.'),\n",
       " Document(metadata={'source': './test_source/「FIS 이슈 & 포커스」(신규) 통권 제1호 《우발부채》.pdf', 'page': 3}, page_content='- 중 앙과 지방 간 우발부채에 대한 인식, 회계처리, 공시가 상이\\n  - 중 앙정부는 우발부채에 대한 인식을 IPSAS 등 국제회계기준과 비슷한 수준까지\\n는 개선하였으나 여전히 체계적 관리 부족\\n국제회계기준한국채택국제회계기준(K–IFRS)\\n국제공공부문회계기준(IPSAS)• 국 제회계기준(IFRS)은 전세계 민간기업의, 국제공공부문회계기준(IPSAS)은 공공기\\n관의 회계작성법을 통일된 기준으로 만든 것으로 우발부채 개념에 대한 광의적 차원\\n의 정의는 동일\\n  - 우 발부채에 대한 광의적 정의에 있어 국제 거시재정통계기준(GFS 등) 및 우리나라 \\n국가회계기준과 거의 동일하게 규정\\n거시재정\\n통계기준GFS, PSDS, SNA 등• 국 제 재정통계의 근간인 GFSM2014에서 우발부채를 ‘명시적’, ‘암묵적’ 성격으로 구\\n분하고, 그 범주를 상세히 논의\\n  - 갈 수록 SNA, PSDS, IPSAS 등 다양한 국제기준 통계가 모두 GFS체계로 조화를')]"
      ]
     },
     "execution_count": 20,
     "metadata": {},
     "output_type": "execute_result"
    }
   ],
   "source": [
    "test_retriver = test_db.as_retriever(search_kwargs={'search_tpye':'ngram','k': 14})\n",
    "print(querry)\n",
    "test_retriver.invoke(querry)"
   ]
  }
 ],
 "metadata": {
  "kernelspec": {
   "display_name": "llm",
   "language": "python",
   "name": "python3"
  },
  "language_info": {
   "codemirror_mode": {
    "name": "ipython",
    "version": 3
   },
   "file_extension": ".py",
   "mimetype": "text/x-python",
   "name": "python",
   "nbconvert_exporter": "python",
   "pygments_lexer": "ipython3",
   "version": "3.11.4"
  }
 },
 "nbformat": 4,
 "nbformat_minor": 2
}
