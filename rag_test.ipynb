{
 "cells": [
  {
   "cell_type": "code",
   "execution_count": 2,
   "metadata": {},
   "outputs": [
    {
     "name": "stdout",
     "output_type": "stream",
     "text": [
      "Loading PDF files from: 9\n"
     ]
    },
    {
     "ename": "ImportError",
     "evalue": "cannot import name 'open_filename' from 'pdfminer.utils' (/Users/seungwoo/anaconda3/envs/llm/lib/python3.11/site-packages/pdfminer/utils.py)",
     "output_type": "error",
     "traceback": [
      "\u001b[0;31m---------------------------------------------------------------------------\u001b[0m",
      "\u001b[0;31mImportError\u001b[0m                               Traceback (most recent call last)",
      "Cell \u001b[0;32mIn[2], line 10\u001b[0m\n\u001b[1;32m      4\u001b[0m \u001b[38;5;66;03m# train_df = pd.read_csv('train.csv')\u001b[39;00m\n\u001b[1;32m      5\u001b[0m \u001b[38;5;66;03m# fewshot_db = make_fewshot_db(train_df)\u001b[39;00m\n\u001b[1;32m      6\u001b[0m \u001b[38;5;66;03m# train_db = make_db(train_df)\u001b[39;00m\n\u001b[1;32m      7\u001b[0m \u001b[38;5;66;03m# train_retriever = train_db.as_retriever(search_kwargs={'k': 1})\u001b[39;00m\n\u001b[1;32m      9\u001b[0m test_df \u001b[38;5;241m=\u001b[39m pd\u001b[38;5;241m.\u001b[39mread_csv(\u001b[38;5;124m'\u001b[39m\u001b[38;5;124mtest.csv\u001b[39m\u001b[38;5;124m'\u001b[39m)\n\u001b[0;32m---> 10\u001b[0m test_db \u001b[38;5;241m=\u001b[39m \u001b[43mmake_db\u001b[49m\u001b[43m(\u001b[49m\u001b[43mtest_df\u001b[49m\u001b[43m)\u001b[49m\n",
      "File \u001b[0;32m~/Workspace/LLM_project/FINANCIAL_INFORMATION/faiss_module.py:110\u001b[0m, in \u001b[0;36mmake_db\u001b[0;34m(df)\u001b[0m\n\u001b[1;32m    108\u001b[0m \u001b[38;5;28;01mfor\u001b[39;00m pdf_file \u001b[38;5;129;01min\u001b[39;00m pdf_files:\n\u001b[1;32m    109\u001b[0m     loader \u001b[38;5;241m=\u001b[39m UnstructuredPDFLoader(pdf_file)\n\u001b[0;32m--> 110\u001b[0m     pdf_documents \u001b[38;5;241m=\u001b[39m \u001b[43mloader\u001b[49m\u001b[38;5;241;43m.\u001b[39;49m\u001b[43mload\u001b[49m\u001b[43m(\u001b[49m\u001b[43m)\u001b[49m\n\u001b[1;32m    111\u001b[0m     documents\u001b[38;5;241m.\u001b[39mextend(pdf_documents)\n\u001b[1;32m    112\u001b[0m \u001b[38;5;66;03m# 유니코드 정규화\u001b[39;00m\n",
      "File \u001b[0;32m~/anaconda3/envs/llm/lib/python3.11/site-packages/langchain_core/document_loaders/base.py:30\u001b[0m, in \u001b[0;36mBaseLoader.load\u001b[0;34m(self)\u001b[0m\n\u001b[1;32m     28\u001b[0m \u001b[38;5;28;01mdef\u001b[39;00m \u001b[38;5;21mload\u001b[39m(\u001b[38;5;28mself\u001b[39m) \u001b[38;5;241m-\u001b[39m\u001b[38;5;241m>\u001b[39m List[Document]:\n\u001b[1;32m     29\u001b[0m \u001b[38;5;250m    \u001b[39m\u001b[38;5;124;03m\"\"\"Load data into Document objects.\"\"\"\u001b[39;00m\n\u001b[0;32m---> 30\u001b[0m     \u001b[38;5;28;01mreturn\u001b[39;00m \u001b[38;5;28;43mlist\u001b[39;49m\u001b[43m(\u001b[49m\u001b[38;5;28;43mself\u001b[39;49m\u001b[38;5;241;43m.\u001b[39;49m\u001b[43mlazy_load\u001b[49m\u001b[43m(\u001b[49m\u001b[43m)\u001b[49m\u001b[43m)\u001b[49m\n",
      "File \u001b[0;32m~/anaconda3/envs/llm/lib/python3.11/site-packages/langchain_community/document_loaders/unstructured.py:89\u001b[0m, in \u001b[0;36mUnstructuredBaseLoader.lazy_load\u001b[0;34m(self)\u001b[0m\n\u001b[1;32m     87\u001b[0m \u001b[38;5;28;01mdef\u001b[39;00m \u001b[38;5;21mlazy_load\u001b[39m(\u001b[38;5;28mself\u001b[39m) \u001b[38;5;241m-\u001b[39m\u001b[38;5;241m>\u001b[39m Iterator[Document]:\n\u001b[1;32m     88\u001b[0m \u001b[38;5;250m    \u001b[39m\u001b[38;5;124;03m\"\"\"Load file.\"\"\"\u001b[39;00m\n\u001b[0;32m---> 89\u001b[0m     elements \u001b[38;5;241m=\u001b[39m \u001b[38;5;28;43mself\u001b[39;49m\u001b[38;5;241;43m.\u001b[39;49m\u001b[43m_get_elements\u001b[49m\u001b[43m(\u001b[49m\u001b[43m)\u001b[49m\n\u001b[1;32m     90\u001b[0m     \u001b[38;5;28mself\u001b[39m\u001b[38;5;241m.\u001b[39m_post_process_elements(elements)\n\u001b[1;32m     91\u001b[0m     \u001b[38;5;28;01mif\u001b[39;00m \u001b[38;5;28mself\u001b[39m\u001b[38;5;241m.\u001b[39mmode \u001b[38;5;241m==\u001b[39m \u001b[38;5;124m\"\u001b[39m\u001b[38;5;124melements\u001b[39m\u001b[38;5;124m\"\u001b[39m:\n",
      "File \u001b[0;32m~/anaconda3/envs/llm/lib/python3.11/site-packages/langchain_community/document_loaders/pdf.py:72\u001b[0m, in \u001b[0;36mUnstructuredPDFLoader._get_elements\u001b[0;34m(self)\u001b[0m\n\u001b[1;32m     71\u001b[0m \u001b[38;5;28;01mdef\u001b[39;00m \u001b[38;5;21m_get_elements\u001b[39m(\u001b[38;5;28mself\u001b[39m) \u001b[38;5;241m-\u001b[39m\u001b[38;5;241m>\u001b[39m List:\n\u001b[0;32m---> 72\u001b[0m     \u001b[38;5;28;01mfrom\u001b[39;00m \u001b[38;5;21;01munstructured\u001b[39;00m\u001b[38;5;21;01m.\u001b[39;00m\u001b[38;5;21;01mpartition\u001b[39;00m\u001b[38;5;21;01m.\u001b[39;00m\u001b[38;5;21;01mpdf\u001b[39;00m \u001b[38;5;28;01mimport\u001b[39;00m partition_pdf\n\u001b[1;32m     74\u001b[0m     \u001b[38;5;28;01mreturn\u001b[39;00m partition_pdf(filename\u001b[38;5;241m=\u001b[39m\u001b[38;5;28mself\u001b[39m\u001b[38;5;241m.\u001b[39mfile_path, \u001b[38;5;241m*\u001b[39m\u001b[38;5;241m*\u001b[39m\u001b[38;5;28mself\u001b[39m\u001b[38;5;241m.\u001b[39munstructured_kwargs)\n",
      "File \u001b[0;32m~/anaconda3/envs/llm/lib/python3.11/site-packages/unstructured/partition/pdf.py:17\u001b[0m\n\u001b[1;32m     15\u001b[0m \u001b[38;5;28;01mfrom\u001b[39;00m \u001b[38;5;21;01mpdfminer\u001b[39;00m\u001b[38;5;21;01m.\u001b[39;00m\u001b[38;5;21;01mlayout\u001b[39;00m \u001b[38;5;28;01mimport\u001b[39;00m LTChar, LTContainer, LTImage, LTItem, LTTextBox\n\u001b[1;32m     16\u001b[0m \u001b[38;5;28;01mfrom\u001b[39;00m \u001b[38;5;21;01mpdfminer\u001b[39;00m\u001b[38;5;21;01m.\u001b[39;00m\u001b[38;5;21;01mpdftypes\u001b[39;00m \u001b[38;5;28;01mimport\u001b[39;00m PDFObjRef\n\u001b[0;32m---> 17\u001b[0m \u001b[38;5;28;01mfrom\u001b[39;00m \u001b[38;5;21;01mpdfminer\u001b[39;00m\u001b[38;5;21;01m.\u001b[39;00m\u001b[38;5;21;01mutils\u001b[39;00m \u001b[38;5;28;01mimport\u001b[39;00m open_filename\n\u001b[1;32m     18\u001b[0m \u001b[38;5;28;01mfrom\u001b[39;00m \u001b[38;5;21;01mPIL\u001b[39;00m \u001b[38;5;28;01mimport\u001b[39;00m Image \u001b[38;5;28;01mas\u001b[39;00m PILImage\n\u001b[1;32m     19\u001b[0m \u001b[38;5;28;01mfrom\u001b[39;00m \u001b[38;5;21;01mpillow_heif\u001b[39;00m \u001b[38;5;28;01mimport\u001b[39;00m register_heif_opener\n",
      "\u001b[0;31mImportError\u001b[0m: cannot import name 'open_filename' from 'pdfminer.utils' (/Users/seungwoo/anaconda3/envs/llm/lib/python3.11/site-packages/pdfminer/utils.py)"
     ]
    }
   ],
   "source": [
    "from faiss_module import make_db, make_fewshot_db\n",
    "import pandas as pd\n",
    "\n",
    "# train_df = pd.read_csv('train.csv')\n",
    "# fewshot_db = make_fewshot_db(train_df)\n",
    "# train_db = make_db(train_df)\n",
    "# train_retriever = train_db.as_retriever(search_kwargs={'k': 1})\n",
    "\n",
    "test_df = pd.read_csv('test.csv')\n",
    "test_db = make_db(test_df)\n"
   ]
  },
  {
   "cell_type": "code",
   "execution_count": null,
   "metadata": {},
   "outputs": [
    {
     "name": "stdout",
     "output_type": "stream",
     "text": [
      "Q:  재정성과관리는 무엇을 목표로 하는가?\n"
     ]
    },
    {
     "data": {
      "text/plain": [
       "[Document(metadata={'source': './test_source/「FIS 이슈&포커스」 22-2호 《재정성과관리제도》.pdf', 'page': 2}, page_content='‣ \\x07 성과관리의 \\x07목적은 \\x07정부 \\x07재정의 \\x07투명성·책임성,\\x07효율성·효과성,\\x07예산재분배 \\x07등이 \\x07있음\\n\\x07\\x07\\x07\\x07- \\x07 \\x07 사업\\x07전략체계별 \\x07재원 \\x07배분, \\x07성과목표와 \\x07달성도, \\x07주요 \\x07수혜자에 \\x07대한 \\x07정보를 \\x07집약적으로 \\x07제공하여 \\x07투명성 \\x07및 \\x07\\n책임성\\x07향상\\n\\x07\\x07\\x07\\x07- \\x07 \\x07 연간\\x07성과관리 \\x07결과 \\x07도출된 \\x07문제점 \\x07등을 \\x07사업 \\x07관리에 \\x07환류(managerial \\x07f eedback)하여 \\x07사업 \\x07성과를 \\x07제고하고 \\x07\\n효과성을\\x07향상\\n\\x07\\x07\\x07\\x07- \\x07 \\x07 정책\\x07우선순위, \\x07더 \\x07효과적인 \\x07사업·정책으로\\x07재원을 \\x07재배분함으로써 \\x07배분적 \\x07효율성 \\x07향상\\n    재정성과관리제도 의 의의\\n‣ \\x07 재정성과관리제도는 \\x07프로그램 \\x07단위의 \\x07성과관리, \\x07사업 \\x07또는 \\x07사업군별로 \\x07수행되는 \\x07평가를 \\x07통해 \\x07거시적\\x07\\n재정총량\\x07위주의 \\x07관리와 \\x07개별 \\x07부처의 \\x07재정 \\x07최하단부의 \\x07재정사업 \\x07관리체계를 \\x07연결해줌'),\n",
       " Document(metadata={'source': './test_source/「FIS 이슈&포커스」 22-2호 《재정성과관리제도》.pdf', 'page': 2}, page_content='간의\\x07관계를 \\x07최초로 \\x07규정\\x07\\x07\\x07\\x07- \\x07 사업을 \\x07임무와 \\x07전략 \\x07체계에 \\x07따라 \\x07구조화하고, \\x07프로그램, \\x07단위사업별 \\x07성과지표를 \\x07구비하여 \\x07재정 \\x07투입 \\x07성과를 \\x07\\n직관적으로 \\x07알기 \\x07쉽도록 \\x07체계화\\n\\x07\\x07\\x07\\x07- \\x07 따라서 \\x07재정성과관리 \\x07체계는 \\x07사전 \\x07목표에 \\x07대한 \\x07사후 \\x07측정 \\x07및 \\x07평가, \\x07유사한 \\x07사업 \\x07묶음 \\x07간의 \\x07표준화된 \\x07비교를 \\x07\\n위한\\x07재정사업 \\x07평가제도의 \\x07발전을 \\x07함께 \\x07수반\\n‣ 재정성과관리는 \\x07예산의 \\x07편성에서 \\x07집행, \\x07결산에 \\x07이르는 \\x07전 \\x07과정에서 \\x07수행\\n\\x07\\x07\\x07\\x07- \\x07 재정성과관리는 \\x07예 산\\x07편 성\\x07과 정에서\\x07성 과계획서를 \\x07작 성하면서\\x07시 작하며,\\x07이 를\\x07바 탕으로\\x07연 간\\x07성 과지표와\\x07\\n목표치를\\x07관리하여 \\x07국회에 \\x07보고하고 \\x07국민에게 \\x07공개\\n\\x07\\x07\\x07\\x07- \\x07 각\\x07부처는 \\x07성과계획서 ·보고서\\x07외에 \\x07재정사업에 \\x07대한 \\x07자율평가를 \\x07수행하며, \\x07재정당국인 \\x07기획재정부는 \\x07지표가 \\x07\\n적정한지\\x07점검하고 \\x07개별 \\x07재정사업에 \\x07대한 \\x07평가를 \\x07수행할 \\x07수 \\x07있음'),\n",
       " Document(metadata={'source': './test_source/「FIS 이슈&포커스」 22-2호 《재정성과관리제도》.pdf', 'page': 5}, page_content='\\x07\\x07\\x07\\x07- \\x07 이로\\x07인하여 \\x07성과 \\x07중심 \\x07운영을 \\x07위한 \\x07제도를 \\x07성문화하고, \\x07제반 \\x07인프라를 \\x07제공할 \\x07수 \\x07있게 \\x07되어 \\x07공개를 \\x07통한 \\x07투명\\n성\\x07확보\\x07및 \\x07책임성 \\x07향상에 \\x07기여\\n‣ 정부는\\x07\\x07「국가재정법」 \\x07개정(2021)을 \\x07통해 \\x07이전까지의 \\x07재정성과관리 \\x07체계 \\x07운영 \\x07결과를 \\x07종합하고 \\x07발전시킬 \\x07\\n수\\x07있도록 \\x07개선\\n\\x07\\x07\\x07\\x07- \\x07 과거의 \\x07재정성과관리는 \\x07업무를 \\x07체계화하고 \\x07인프라를 \\x07구축하였다는 \\x07의의가 \\x07있으나, \\x07형식화, \\x07제도적 \\x07분산 \\x07등의 \\x07\\n한계를\\x07노출\\n\\x07\\x07\\x07\\x07- \\x07 2021년도 \\x07법률에서는 \\x07성과지향적이고 \\x07투명한 \\x07재정운용을 \\x07위해 \\x07\\n\\x07\\x07\\x07\\x07\\x07\\x07\\x07① \\x07 성과관리의 \\x07내용을 \\x07성과목표관리 \\x07및 \\x07성과평가로 \\x07구체화\\n\\x07\\x07\\x07\\x07\\x07\\x07\\x07② \\x07 재정사업 \\x07성과관리 \\x07기본계획 \\x07수립, \\x07성과보고서 \\x07작성 \\x07및 \\x07성과평가 \\x07근거 \\x07마련\\n\\x07\\x07\\x07\\x07\\x07\\x07\\x07③ \\x07 재정사업 \\x07성과목표 \\x07관리를 \\x07위한 \\x07추진체계 \\x07마련'),\n",
       " Document(metadata={'source': './test_source/「FIS 이슈&포커스」 22-2호 《재정성과관리제도》.pdf', 'page': 1}, page_content='가능성 확보를 위해 재정성과관리체계 강화 를 제시했\\n다. 재정성과관리는 단순 예산 ·결산 중심에서 벗어나 \\n재정을 결과 또는 산출 지향적으로 운영하는 것으로, 산출의 우선순위를 명확하게 하는 한편 국민에게 재정이 하는 일을 보다 알기 쉽게 설명할 수 있기에 중요하다. \\n2021년 「국가재정법」 개정으로 성과 중심의 재정 운용의 법제도 근거가 마련되어, 한층 재정성과관리가 강화될 것으로 전망된다. 이 \\n글에서는 지난 5월 발표된 “2021년도 국가결산”의 성과보고서를 중심으로, 우리나라의 재정성과관리 현황을 파악해 보고, 앞으로의 운영 방향은 무엇인지, 국제기구의 논의는 어떻게 진행되고 있는지 살펴봄으로써 재정성과관리를 명료하게 이해해 보도록 한다.재정성과관리제도                      재정성과관리제도  개념 및 용어 정의\\n    재정성과관리제도 의 개념과 목표\\n‣ 재정사업의 \\x07기획에서 \\x07집행, \\x07환류, \\x07종료에 \\x07이르는 \\x07전 \\x07주기를 \\x07체계적으로 \\x07관리하여 \\x07효율적 \\x07재정 \\x07운용을 \\x07뒷받'),\n",
       " Document(metadata={'source': './test_source/「FIS 이슈&포커스」 22-2호 《재정성과관리제도》.pdf', 'page': 7}, page_content='는\\x07재정\\x07환경에 \\x07적응해 \\x07나갈 \\x07수 \\x07있어야 \\x07함\\n‣ 성과\\x07중심의 \\x07재정운용은 \\x07대국민 \\x07재정 \\x07책임성을 \\x07강화하고 \\x07재정의 \\x07효율성을 \\x07제고하는 \\x07방향으로 \\x07개선\\n\\x07\\x07\\x07\\x07- \\x07 장기적인 \\x07인 적·물적\\x07투 자, \\x07사 회복지\\x07소 요\\x07증 가\\x07등\\x07지 속적으로\\x07재 정의\\x07투 입\\x07수 요가\\x07늘 어날\\x07것 으로\\x07예 상되는\\x07 \\n상황에서\\x07성과를 \\x07중심으로 \\x07재정 \\x07투입의 \\x07효과성을 \\x07점검하고 \\x07재정여력을 \\x07지속적으로 \\x07확보하는 \\x07것이 \\x07어느 \\x07때보\\n다\\x07중요한 \\x07시점\\n‣ 효율성,\\x07책임성 \\x07외에도 \\x07투명성을 \\x07강화하기 \\x07위한 \\x07노력도 \\x07중요\\n\\x07\\x07\\x07\\x07- \\x07 재정성과관리의 \\x07최종 \\x07목표는 \\x07국민이 \\x07정부가 \\x07하는 \\x07일의 \\x07목표에서 \\x07성과에 \\x07이르는 \\x07전과정을 \\x07투명하게 \\x07알 \\x07수 \\x07있\\n게\\x07하는\\x07것임\\n\\x07\\x07\\x07\\x07- \\x07 재정정보의 \\x07관리 \\x07및 \\x07공개 \\x07플랫폼을 \\x07지속적으로 \\x07유지하고 \\x07발전시켜, \\x07재정정보의 \\x07품질을 \\x07확보하기 \\x07위한 \\x07인프라 \\x07\\n측면에서의 \\x07관리도 \\x07필요05')]"
      ]
     },
     "execution_count": 4,
     "metadata": {},
     "output_type": "execute_result"
    }
   ],
   "source": [
    "querry = test_df.iloc[61]['Question']\n",
    "test_retriver = test_db.as_retriever(search_kwargs={'k': 5})\n",
    "print(\"Q: \",querry)\n",
    "test_retriver.invoke(querry)\n",
    "# print(doc_list[0].page_content)\n",
    "# print(doc_list[0].metadata)"
   ]
  },
  {
   "cell_type": "code",
   "execution_count": null,
   "metadata": {},
   "outputs": [
    {
     "name": "stdout",
     "output_type": "stream",
     "text": [
      "재정성과관리는 무엇을 목표로 하는가?\n"
     ]
    },
    {
     "data": {
      "text/plain": [
       "[Document(metadata={'source': './test_source/「FIS 이슈&포커스」 22-2호 《재정성과관리제도》.pdf', 'page': 2}, page_content='‣ \\x07 성과관리의 \\x07목적은 \\x07정부 \\x07재정의 \\x07투명성·책임성,\\x07효율성·효과성,\\x07예산재분배 \\x07등이 \\x07있음\\n\\x07\\x07\\x07\\x07- \\x07 \\x07 사업\\x07전략체계별 \\x07재원 \\x07배분, \\x07성과목표와 \\x07달성도, \\x07주요 \\x07수혜자에 \\x07대한 \\x07정보를 \\x07집약적으로 \\x07제공하여 \\x07투명성 \\x07및 \\x07\\n책임성\\x07향상\\n\\x07\\x07\\x07\\x07- \\x07 \\x07 연간\\x07성과관리 \\x07결과 \\x07도출된 \\x07문제점 \\x07등을 \\x07사업 \\x07관리에 \\x07환류(managerial \\x07f eedback)하여 \\x07사업 \\x07성과를 \\x07제고하고 \\x07\\n효과성을\\x07향상\\n\\x07\\x07\\x07\\x07- \\x07 \\x07 정책\\x07우선순위, \\x07더 \\x07효과적인 \\x07사업·정책으로\\x07재원을 \\x07재배분함으로써 \\x07배분적 \\x07효율성 \\x07향상\\n    재정성과관리제도 의 의의\\n‣ \\x07 재정성과관리제도는 \\x07프로그램 \\x07단위의 \\x07성과관리, \\x07사업 \\x07또는 \\x07사업군별로 \\x07수행되는 \\x07평가를 \\x07통해 \\x07거시적\\x07\\n재정총량\\x07위주의 \\x07관리와 \\x07개별 \\x07부처의 \\x07재정 \\x07최하단부의 \\x07재정사업 \\x07관리체계를 \\x07연결해줌'),\n",
       " Document(metadata={'source': './test_source/「FIS 이슈&포커스」 22-2호 《재정성과관리제도》.pdf', 'page': 2}, page_content='간의\\x07관계를 \\x07최초로 \\x07규정\\x07\\x07\\x07\\x07- \\x07 사업을 \\x07임무와 \\x07전략 \\x07체계에 \\x07따라 \\x07구조화하고, \\x07프로그램, \\x07단위사업별 \\x07성과지표를 \\x07구비하여 \\x07재정 \\x07투입 \\x07성과를 \\x07\\n직관적으로 \\x07알기 \\x07쉽도록 \\x07체계화\\n\\x07\\x07\\x07\\x07- \\x07 따라서 \\x07재정성과관리 \\x07체계는 \\x07사전 \\x07목표에 \\x07대한 \\x07사후 \\x07측정 \\x07및 \\x07평가, \\x07유사한 \\x07사업 \\x07묶음 \\x07간의 \\x07표준화된 \\x07비교를 \\x07\\n위한\\x07재정사업 \\x07평가제도의 \\x07발전을 \\x07함께 \\x07수반\\n‣ 재정성과관리는 \\x07예산의 \\x07편성에서 \\x07집행, \\x07결산에 \\x07이르는 \\x07전 \\x07과정에서 \\x07수행\\n\\x07\\x07\\x07\\x07- \\x07 재정성과관리는 \\x07예 산\\x07편 성\\x07과 정에서\\x07성 과계획서를 \\x07작 성하면서\\x07시 작하며,\\x07이 를\\x07바 탕으로\\x07연 간\\x07성 과지표와\\x07\\n목표치를\\x07관리하여 \\x07국회에 \\x07보고하고 \\x07국민에게 \\x07공개\\n\\x07\\x07\\x07\\x07- \\x07 각\\x07부처는 \\x07성과계획서 ·보고서\\x07외에 \\x07재정사업에 \\x07대한 \\x07자율평가를 \\x07수행하며, \\x07재정당국인 \\x07기획재정부는 \\x07지표가 \\x07\\n적정한지\\x07점검하고 \\x07개별 \\x07재정사업에 \\x07대한 \\x07평가를 \\x07수행할 \\x07수 \\x07있음'),\n",
       " Document(metadata={'source': './test_source/「FIS 이슈&포커스」 22-2호 《재정성과관리제도》.pdf', 'page': 5}, page_content='\\x07\\x07\\x07\\x07- \\x07 이로\\x07인하여 \\x07성과 \\x07중심 \\x07운영을 \\x07위한 \\x07제도를 \\x07성문화하고, \\x07제반 \\x07인프라를 \\x07제공할 \\x07수 \\x07있게 \\x07되어 \\x07공개를 \\x07통한 \\x07투명\\n성\\x07확보\\x07및 \\x07책임성 \\x07향상에 \\x07기여\\n‣ 정부는\\x07\\x07「국가재정법」 \\x07개정(2021)을 \\x07통해 \\x07이전까지의 \\x07재정성과관리 \\x07체계 \\x07운영 \\x07결과를 \\x07종합하고 \\x07발전시킬 \\x07\\n수\\x07있도록 \\x07개선\\n\\x07\\x07\\x07\\x07- \\x07 과거의 \\x07재정성과관리는 \\x07업무를 \\x07체계화하고 \\x07인프라를 \\x07구축하였다는 \\x07의의가 \\x07있으나, \\x07형식화, \\x07제도적 \\x07분산 \\x07등의 \\x07\\n한계를\\x07노출\\n\\x07\\x07\\x07\\x07- \\x07 2021년도 \\x07법률에서는 \\x07성과지향적이고 \\x07투명한 \\x07재정운용을 \\x07위해 \\x07\\n\\x07\\x07\\x07\\x07\\x07\\x07\\x07① \\x07 성과관리의 \\x07내용을 \\x07성과목표관리 \\x07및 \\x07성과평가로 \\x07구체화\\n\\x07\\x07\\x07\\x07\\x07\\x07\\x07② \\x07 재정사업 \\x07성과관리 \\x07기본계획 \\x07수립, \\x07성과보고서 \\x07작성 \\x07및 \\x07성과평가 \\x07근거 \\x07마련\\n\\x07\\x07\\x07\\x07\\x07\\x07\\x07③ \\x07 재정사업 \\x07성과목표 \\x07관리를 \\x07위한 \\x07추진체계 \\x07마련'),\n",
       " Document(metadata={'source': './test_source/「FIS 이슈&포커스」 22-2호 《재정성과관리제도》.pdf', 'page': 1}, page_content='가능성 확보를 위해 재정성과관리체계 강화 를 제시했\\n다. 재정성과관리는 단순 예산 ·결산 중심에서 벗어나 \\n재정을 결과 또는 산출 지향적으로 운영하는 것으로, 산출의 우선순위를 명확하게 하는 한편 국민에게 재정이 하는 일을 보다 알기 쉽게 설명할 수 있기에 중요하다. \\n2021년 「국가재정법」 개정으로 성과 중심의 재정 운용의 법제도 근거가 마련되어, 한층 재정성과관리가 강화될 것으로 전망된다. 이 \\n글에서는 지난 5월 발표된 “2021년도 국가결산”의 성과보고서를 중심으로, 우리나라의 재정성과관리 현황을 파악해 보고, 앞으로의 운영 방향은 무엇인지, 국제기구의 논의는 어떻게 진행되고 있는지 살펴봄으로써 재정성과관리를 명료하게 이해해 보도록 한다.재정성과관리제도                      재정성과관리제도  개념 및 용어 정의\\n    재정성과관리제도 의 개념과 목표\\n‣ 재정사업의 \\x07기획에서 \\x07집행, \\x07환류, \\x07종료에 \\x07이르는 \\x07전 \\x07주기를 \\x07체계적으로 \\x07관리하여 \\x07효율적 \\x07재정 \\x07운용을 \\x07뒷받'),\n",
       " Document(metadata={'source': './test_source/「FIS 이슈&포커스」 22-2호 《재정성과관리제도》.pdf', 'page': 7}, page_content='는\\x07재정\\x07환경에 \\x07적응해 \\x07나갈 \\x07수 \\x07있어야 \\x07함\\n‣ 성과\\x07중심의 \\x07재정운용은 \\x07대국민 \\x07재정 \\x07책임성을 \\x07강화하고 \\x07재정의 \\x07효율성을 \\x07제고하는 \\x07방향으로 \\x07개선\\n\\x07\\x07\\x07\\x07- \\x07 장기적인 \\x07인 적·물적\\x07투 자, \\x07사 회복지\\x07소 요\\x07증 가\\x07등\\x07지 속적으로\\x07재 정의\\x07투 입\\x07수 요가\\x07늘 어날\\x07것 으로\\x07예 상되는\\x07 \\n상황에서\\x07성과를 \\x07중심으로 \\x07재정 \\x07투입의 \\x07효과성을 \\x07점검하고 \\x07재정여력을 \\x07지속적으로 \\x07확보하는 \\x07것이 \\x07어느 \\x07때보\\n다\\x07중요한 \\x07시점\\n‣ 효율성,\\x07책임성 \\x07외에도 \\x07투명성을 \\x07강화하기 \\x07위한 \\x07노력도 \\x07중요\\n\\x07\\x07\\x07\\x07- \\x07 재정성과관리의 \\x07최종 \\x07목표는 \\x07국민이 \\x07정부가 \\x07하는 \\x07일의 \\x07목표에서 \\x07성과에 \\x07이르는 \\x07전과정을 \\x07투명하게 \\x07알 \\x07수 \\x07있\\n게\\x07하는\\x07것임\\n\\x07\\x07\\x07\\x07- \\x07 재정정보의 \\x07관리 \\x07및 \\x07공개 \\x07플랫폼을 \\x07지속적으로 \\x07유지하고 \\x07발전시켜, \\x07재정정보의 \\x07품질을 \\x07확보하기 \\x07위한 \\x07인프라 \\x07\\n측면에서의 \\x07관리도 \\x07필요05')]"
      ]
     },
     "execution_count": 5,
     "metadata": {},
     "output_type": "execute_result"
    }
   ],
   "source": [
    "test_retriver = test_db.as_retriever(search_kwargs={'search_tpye':'ngram','k': 5})\n",
    "print(querry)\n",
    "test_retriver.invoke(querry)"
   ]
  }
 ],
 "metadata": {
  "kernelspec": {
   "display_name": "llm",
   "language": "python",
   "name": "python3"
  },
  "language_info": {
   "codemirror_mode": {
    "name": "ipython",
    "version": 3
   },
   "file_extension": ".py",
   "mimetype": "text/x-python",
   "name": "python",
   "nbconvert_exporter": "python",
   "pygments_lexer": "ipython3",
   "version": "3.11.4"
  }
 },
 "nbformat": 4,
 "nbformat_minor": 2
}
