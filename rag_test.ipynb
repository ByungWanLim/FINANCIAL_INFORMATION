{
 "cells": [
  {
   "cell_type": "code",
   "execution_count": 1,
   "metadata": {},
   "outputs": [
    {
     "ename": "AttributeError",
     "evalue": "Java package 'kr.lucypark.kkma' is not valid",
     "output_type": "error",
     "traceback": [
      "\u001b[1;31m---------------------------------------------------------------------------\u001b[0m",
      "\u001b[1;31mAttributeError\u001b[0m                            Traceback (most recent call last)",
      "Cell \u001b[1;32mIn[1], line 11\u001b[0m\n\u001b[0;32m      9\u001b[0m \u001b[38;5;28;01mfrom\u001b[39;00m \u001b[38;5;21;01mlangchain_community\u001b[39;00m\u001b[38;5;21;01m.\u001b[39;00m\u001b[38;5;21;01mretrievers\u001b[39;00m \u001b[38;5;28;01mimport\u001b[39;00m BM25Retriever, KNNRetriever\n\u001b[0;32m     10\u001b[0m \u001b[38;5;28;01mfrom\u001b[39;00m \u001b[38;5;21;01mlangchain\u001b[39;00m\u001b[38;5;21;01m.\u001b[39;00m\u001b[38;5;21;01mretrievers\u001b[39;00m \u001b[38;5;28;01mimport\u001b[39;00m EnsembleRetriever\n\u001b[1;32m---> 11\u001b[0m \u001b[38;5;28;01mfrom\u001b[39;00m \u001b[38;5;21;01mlangchain_teddynote\u001b[39;00m\u001b[38;5;21;01m.\u001b[39;00m\u001b[38;5;21;01mretrievers\u001b[39;00m \u001b[38;5;28;01mimport\u001b[39;00m KiwiBM25Retriever\n\u001b[0;32m     12\u001b[0m \u001b[38;5;28;01mfrom\u001b[39;00m \u001b[38;5;21;01mlangchain\u001b[39;00m\u001b[38;5;21;01m.\u001b[39;00m\u001b[38;5;21;01mdocstore\u001b[39;00m\u001b[38;5;21;01m.\u001b[39;00m\u001b[38;5;21;01mdocument\u001b[39;00m \u001b[38;5;28;01mimport\u001b[39;00m Document\n\u001b[0;32m     13\u001b[0m \u001b[38;5;28;01mfrom\u001b[39;00m \u001b[38;5;21;01mconcurrent\u001b[39;00m\u001b[38;5;21;01m.\u001b[39;00m\u001b[38;5;21;01mfutures\u001b[39;00m \u001b[38;5;28;01mimport\u001b[39;00m ThreadPoolExecutor\n",
      "File \u001b[1;32m~\\AppData\\Roaming\\Python\\Python312\\site-packages\\langchain_teddynote\\retrievers\\__init__.py:15\u001b[0m\n\u001b[0;32m      8\u001b[0m _module_lookup \u001b[38;5;241m=\u001b[39m {\n\u001b[0;32m      9\u001b[0m     \u001b[38;5;124m\"\u001b[39m\u001b[38;5;124mKiwiBM25Retriever\u001b[39m\u001b[38;5;124m\"\u001b[39m: \u001b[38;5;124m\"\u001b[39m\u001b[38;5;124mretrievers.kiwi_bm25\u001b[39m\u001b[38;5;124m\"\u001b[39m,\n\u001b[0;32m     10\u001b[0m     \u001b[38;5;124m\"\u001b[39m\u001b[38;5;124mKkmaBM25Retriever\u001b[39m\u001b[38;5;124m\"\u001b[39m: \u001b[38;5;124m\"\u001b[39m\u001b[38;5;124mretrievers.konlpy_bm25\u001b[39m\u001b[38;5;124m\"\u001b[39m,\n\u001b[0;32m     11\u001b[0m     \u001b[38;5;124m\"\u001b[39m\u001b[38;5;124mOktBM25Retriever\u001b[39m\u001b[38;5;124m\"\u001b[39m: \u001b[38;5;124m\"\u001b[39m\u001b[38;5;124mretrievers.konlpy_bm25\u001b[39m\u001b[38;5;124m\"\u001b[39m,\n\u001b[0;32m     12\u001b[0m }\n\u001b[0;32m     14\u001b[0m \u001b[38;5;28;01mfrom\u001b[39;00m \u001b[38;5;21;01m.\u001b[39;00m\u001b[38;5;21;01mkiwi_bm25\u001b[39;00m \u001b[38;5;28;01mimport\u001b[39;00m KiwiBM25Retriever\n\u001b[1;32m---> 15\u001b[0m \u001b[38;5;28;01mfrom\u001b[39;00m \u001b[38;5;21;01m.\u001b[39;00m\u001b[38;5;21;01mkonlpy_bm25\u001b[39;00m \u001b[38;5;28;01mimport\u001b[39;00m KkmaBM25Retriever, OktBM25Retriever\n\u001b[0;32m     18\u001b[0m \u001b[38;5;28;01mdef\u001b[39;00m \u001b[38;5;21m__getattr__\u001b[39m(name: \u001b[38;5;28mstr\u001b[39m) \u001b[38;5;241m-\u001b[39m\u001b[38;5;241m>\u001b[39m Any:\n\u001b[0;32m     19\u001b[0m     \u001b[38;5;28;01mif\u001b[39;00m name \u001b[38;5;129;01min\u001b[39;00m _module_lookup:\n",
      "File \u001b[1;32m~\\AppData\\Roaming\\Python\\Python312\\site-packages\\langchain_teddynote\\retrievers\\konlpy_bm25.py:19\u001b[0m\n\u001b[0;32m     14\u001b[0m \u001b[38;5;28;01mexcept\u001b[39;00m \u001b[38;5;167;01mImportError\u001b[39;00m:\n\u001b[0;32m     15\u001b[0m     \u001b[38;5;28;01mraise\u001b[39;00m \u001b[38;5;167;01mImportError\u001b[39;00m(\n\u001b[0;32m     16\u001b[0m         \u001b[38;5;124m\"\u001b[39m\u001b[38;5;124mCould not import konlpy, please install with `pip install \u001b[39m\u001b[38;5;124m\"\u001b[39m \u001b[38;5;124m\"\u001b[39m\u001b[38;5;124mkonlpy`.\u001b[39m\u001b[38;5;124m\"\u001b[39m\n\u001b[0;32m     17\u001b[0m     )\n\u001b[1;32m---> 19\u001b[0m kkma \u001b[38;5;241m=\u001b[39m \u001b[43mKkma\u001b[49m\u001b[43m(\u001b[49m\u001b[43m)\u001b[49m\n\u001b[0;32m     20\u001b[0m okt \u001b[38;5;241m=\u001b[39m Okt()\n\u001b[0;32m     23\u001b[0m \u001b[38;5;28;01mdef\u001b[39;00m \u001b[38;5;21mokt_preprocessing_func\u001b[39m(text: \u001b[38;5;28mstr\u001b[39m) \u001b[38;5;241m-\u001b[39m\u001b[38;5;241m>\u001b[39m List[\u001b[38;5;28mstr\u001b[39m]:\n",
      "File \u001b[1;32mc:\\ProgramData\\anaconda3\\envs\\llm_project\\Lib\\site-packages\\konlpy\\tag\\_kkma.py:47\u001b[0m, in \u001b[0;36mKkma.__init__\u001b[1;34m(self, jvmpath, max_heap_size)\u001b[0m\n\u001b[0;32m     44\u001b[0m     jvm\u001b[38;5;241m.\u001b[39minit_jvm(jvmpath, max_heap_size)\n\u001b[0;32m     46\u001b[0m kkmaJavaPackage \u001b[38;5;241m=\u001b[39m jpype\u001b[38;5;241m.\u001b[39mJPackage(\u001b[38;5;124m'\u001b[39m\u001b[38;5;124mkr.lucypark.kkma\u001b[39m\u001b[38;5;124m'\u001b[39m)\n\u001b[1;32m---> 47\u001b[0m KkmaInterfaceJavaClass \u001b[38;5;241m=\u001b[39m \u001b[43mkkmaJavaPackage\u001b[49m\u001b[38;5;241;43m.\u001b[39;49m\u001b[43mKkmaInterface\u001b[49m\n\u001b[0;32m     48\u001b[0m \u001b[38;5;28mself\u001b[39m\u001b[38;5;241m.\u001b[39mjki \u001b[38;5;241m=\u001b[39m KkmaInterfaceJavaClass()  \u001b[38;5;66;03m# Java instance\u001b[39;00m\n\u001b[0;32m     49\u001b[0m \u001b[38;5;28mself\u001b[39m\u001b[38;5;241m.\u001b[39mtagset \u001b[38;5;241m=\u001b[39m utils\u001b[38;5;241m.\u001b[39mread_json(\u001b[38;5;124m'\u001b[39m\u001b[38;5;132;01m%s\u001b[39;00m\u001b[38;5;124m/data/tagset/kkma.json\u001b[39m\u001b[38;5;124m'\u001b[39m \u001b[38;5;241m%\u001b[39m utils\u001b[38;5;241m.\u001b[39minstallpath)\n",
      "\u001b[1;31mAttributeError\u001b[0m: Java package 'kr.lucypark.kkma' is not valid"
     ]
    }
   ],
   "source": [
    "import jpype\n",
    "jpype.startJVM(\"-Xmx4g\")\n",
    "\n",
    "import pdfplumber\n",
    "from langchain_community.vectorstores import FAISS\n",
    "from langchain_huggingface import HuggingFaceEmbeddings\n",
    "from langchain_community.document_loaders import PyMuPDFLoader, PDFPlumberLoader\n",
    "from langchain.text_splitter import RecursiveCharacterTextSplitter, KonlpyTextSplitter\n",
    "from langchain_community.retrievers import BM25Retriever, KNNRetriever\n",
    "from langchain.retrievers import EnsembleRetriever\n",
    "from langchain_teddynote.retrievers import KiwiBM25Retriever\n",
    "from langchain.docstore.document import Document\n",
    "from concurrent.futures import ThreadPoolExecutor\n",
    "import pandas as pd\n",
    "import unicodedata\n",
    "from konlpy.tag import Okt\n",
    "import logging\n",
    "import time\n",
    "import re\n",
    "import os\n",
    "import json\n",
    "from tqdm import tqdm\n",
    "import torch\n",
    "import os\n",
    "import json\n",
    "import unicodedata\n",
    "from transformers import TrOCRProcessor, VisionEncoderDecoderModel, AutoTokenizer\n",
    "from PIL import Image\n",
    "from concurrent.futures import ThreadPoolExecutor\n",
    "from concurrent.futures import ProcessPoolExecutor\n",
    "from tqdm import tqdm\n",
    "from langchain.text_splitter import RecursiveCharacterTextSplitter\n",
    "from langchain.docstore.document import Document\n",
    "from langchain.embeddings import HuggingFaceEmbeddings\n",
    "from langchain.vectorstores import FAISS\n",
    "from pdf2image import convert_from_path\n",
    "import pytesseract\n",
    "# Vector stores\n",
    "import fitz  # PyMuPDF\n",
    "\n",
    "\n",
    "\n",
    "#device = 'cuda' if torch.cuda.is_available() and 'mps' in torch.cuda.get_device_capability() else 'cpu'  # GPU 사용 가능 여부 및 MPS 지원 여부 확인\n",
    "device = torch.device('cuda' if torch.cuda.is_available() else 'cpu')\n",
    "print(device)"
   ]
  },
  {
   "cell_type": "code",
   "execution_count": null,
   "metadata": {},
   "outputs": [],
   "source": [
    "from langchain_unstructured import UnstructuredLoader\n",
    "\n",
    "def get_embedding():\n",
    "    device = 'cuda' if torch.cuda.is_available() and 'mps' in torch.cuda.get_device_capability() else 'cpu'  # GPU 사용 가능 여부 및 MPS 지원 여부 확인\n",
    "    embeddings = HuggingFaceEmbeddings(\n",
    "        model_name='jhgan/ko-sroberta-multitask',\n",
    "        model_kwargs={'device': device},\n",
    "        encode_kwargs={'normalize_embeddings': True})\n",
    "    return embeddings\n",
    "def normalize_string(s):\n",
    "    try:\n",
    "        normalized = unicodedata.normalize('NFC', s)\n",
    "        return normalized.encode('utf-8', errors='replace').decode('utf-8')\n",
    "    except Exception:\n",
    "        return s\n",
    "def clean_text(text):\n",
    "    text = text.replace(\"�\", \"\").replace(\"\u0003\", \"\")  # 잘못된 인코딩 문자 제거\n",
    "    text = ' '.join(text.split())  # 여러 공백을 하나로 줄임\n",
    "    return text\n"
   ]
  },
  {
   "cell_type": "markdown",
   "metadata": {},
   "source": [
    "### konlptextsplitter, pytessearct"
   ]
  },
  {
   "cell_type": "code",
   "execution_count": null,
   "metadata": {},
   "outputs": [],
   "source": [
    "def ocr_extract_text_from_pdf(pdf_path):\n",
    "    text_content = \"\"\n",
    "    try:\n",
    "        # PDF를 이미지로 변환\n",
    "        images = convert_from_path(pdf_path, dpi=500)\n",
    "        \n",
    "        # 각 페이지에서 OCR로 텍스트 추출\n",
    "        for i, image in enumerate(images):\n",
    "            text = pytesseract.image_to_string(image, lang='kor+eng')\n",
    "            text = clean_text(normalize_string(text))\n",
    "            text_content += f\"{text}\\n\\n\"\n",
    "    \n",
    "    except Exception as e:\n",
    "        print(f\"Error extracting text from {pdf_path}: {e}\")\n",
    "    \n",
    "    return text_content\n",
    "\n",
    "def load_pdf_file(pdf_file):\n",
    "    try:\n",
    "        # OCR을 이용한 텍스트 추출\n",
    "        text_content = ocr_extract_text_from_pdf(pdf_file)\n",
    "        documents = [Document(page_content=text_content, metadata={\"source\": pdf_file})]\n",
    "        return documents\n",
    "    except Exception as e:\n",
    "        print(f\"Skipping corrupted file {pdf_file}: {e}\")\n",
    "        return []\n",
    "\n",
    "def split_documents_with_konlpy(documents):\n",
    "    adjusted_documents = []\n",
    "    konlpy_splitter = KonlpyTextSplitter(separator='\\n\\n')\n",
    "\n",
    "    for doc in documents:\n",
    "        # KonlpyTextSplitter로 문장 단위 분리\n",
    "        sentences = konlpy_splitter.split_text(doc.page_content)\n",
    "        for sentence in sentences:\n",
    "            adjusted_documents.append(Document(page_content=sentence, metadata=doc.metadata))\n",
    "    \n",
    "    return adjusted_documents\n",
    "\n",
    "def make_db(df, chunk_name=\"train\", chunk_size=800, chunk_overlap=60):\n",
    "    documents = []\n",
    "    chunk_file_path = f\"{chunk_name}_chunks.json\"\n",
    "\n",
    "    if os.path.exists(chunk_file_path):\n",
    "        print(f\"Loading chunks from {chunk_file_path}...\")\n",
    "        documents = load_chunks(chunk_file_path)\n",
    "    else:\n",
    "        pdf_files = df['Source_path'].unique()\n",
    "        with ThreadPoolExecutor() as executor:\n",
    "            results = list(tqdm(executor.map(load_pdf_file, pdf_files), total=len(pdf_files), desc=\"Processing PDFs\"))\n",
    "        \n",
    "        for result in results:\n",
    "            documents.extend(result)\n",
    "        \n",
    "        for doc in documents:\n",
    "            doc.page_content = normalize_string(doc.page_content)\n",
    "        \n",
    "        # KonlpyTextSplitter로 문장 단위로 먼저 분할\n",
    "        documents = split_documents_with_konlpy(documents)\n",
    "\n",
    "        # 청크 데이터를 저장\n",
    "        save_chunks(documents, chunk_file_path)\n",
    "    \n",
    "    # make_db에서 RecursiveCharacterTextSplitter로 청크를 분할\n",
    "    recursive_splitter = RecursiveCharacterTextSplitter(\n",
    "        chunk_size=chunk_size,\n",
    "        chunk_overlap=chunk_overlap,\n",
    "        separators=[\"\\n\\n\", \".\"]\n",
    "    )\n",
    "    documents = recursive_splitter.split_documents(documents)\n",
    "    \n",
    "    faiss = FAISS.from_documents(documents, embedding=get_embedding())\n",
    "    bm = KiwiBM25Retriever.from_documents(documents)\n",
    "    \n",
    "    return faiss, bm\n",
    "\n",
    "def save_chunks(documents, path):\n",
    "    chunk_data = []\n",
    "    for doc in documents:\n",
    "        chunk_data.append({\n",
    "            \"page_content\": doc.page_content,\n",
    "            \"metadata\": doc.metadata\n",
    "        })\n",
    "    \n",
    "    with open(path, \"w\", encoding=\"utf-8\") as f:\n",
    "        json.dump(chunk_data, f, ensure_ascii=False, indent=4)\n",
    "    \n",
    "    print(f\"Chunks saved to {path}\")\n",
    "\n",
    "def load_chunks(path):\n",
    "    with open(path, \"r\", encoding=\"utf-8\") as f:\n",
    "        chunk_data = json.load(f)\n",
    "    \n",
    "    documents = []\n",
    "    for chunk in chunk_data:\n",
    "        documents.append(Document(page_content=chunk[\"page_content\"], metadata=chunk[\"metadata\"]))\n",
    "    \n",
    "    print(f\"Chunks loaded from {path}\")\n",
    "    return documents"
   ]
  },
  {
   "cell_type": "code",
   "execution_count": null,
   "metadata": {},
   "outputs": [],
   "source": [
    "import gc\n",
    "\n",
    "def clear_model_resources():\n",
    "    global processor, model, tokenizer\n",
    "    del processor\n",
    "    del model\n",
    "    del tokenizer\n",
    "    gc.collect()\n",
    "    torch.cuda.empty_cache()  # GPU 메모리 해제\n"
   ]
  },
  {
   "cell_type": "markdown",
   "metadata": {},
   "source": [
    "### 언스트럭처"
   ]
  },
  {
   "cell_type": "code",
   "execution_count": null,
   "metadata": {},
   "outputs": [],
   "source": [
    "# def normalize_string(s):\n",
    "#     try:\n",
    "#         normalized = unicodedata.normalize('NFC', s)\n",
    "#         return normalized.encode('utf-8', errors='replace').decode('utf-8')\n",
    "#     except Exception:\n",
    "#         return s\n",
    "# def clean_text(text):\n",
    "#     text = text.replace(\"�\", \"\").replace(\"\u0003\", \"\")  # 잘못된 인코딩 문자 제거\n",
    "#     text = ' '.join(text.split())  # 여러 공백을 하나로 줄임\n",
    "#     return text\n",
    "\n",
    "# def load_pdf_file(pdf_file):\n",
    "#     try:\n",
    "#         pdf_loader = UnstructuredLoader(pdf_file,\n",
    "#                                         chunking_strategy = 'by_title',\n",
    "#                                         max_characters = 1000,\n",
    "#                                         overlap = 200)\n",
    "#         return pdf_loader.load()\n",
    "#     except Exception as e:\n",
    "#         print(f\"Skipping corrupted file {pdf_file}: {e}\")\n",
    "#         return []\n",
    "\n",
    "# def make_db(df, chunk_name=\"train\"):\n",
    "#     documents = []\n",
    "#     chunk_file_path = f\"{chunk_name}_chunks.json\"\n",
    "\n",
    "#     if os.path.exists(chunk_file_path):\n",
    "#         # 이미 저장된 청크 데이터가 있으면 불러오기\n",
    "#         print(f\"Loading chunks from {chunk_file_path}...\")\n",
    "#         documents = load_chunks(chunk_file_path)\n",
    "#     else:\n",
    "#         # 청크 데이터가 없으면 PDF 파일을 처리하여 새로 생성\n",
    "#         pdf_files = df['Source_path'].unique()\n",
    "\n",
    "#         # tqdm으로 파일 처리 진행 상황 표시\n",
    "#         with ThreadPoolExecutor() as executor:\n",
    "#             results = list(tqdm(executor.map(load_pdf_file, pdf_files), total=len(pdf_files), desc=\"Processing PDFs\"))\n",
    "        \n",
    "#         for result in results:\n",
    "#             documents.extend(result)\n",
    "        \n",
    "#         # 정규화\n",
    "#         for doc in documents:\n",
    "#             doc.page_content = normalize_string(doc.page_content)\n",
    "        \n",
    "#         # 청크 데이터를 저장\n",
    "#         save_chunks(documents, chunk_file_path)\n",
    "    \n",
    "#     # FAISS DB 만들기 (메타데이터 포함)\n",
    "#     faiss = FAISS.from_documents(documents, embedding=get_embedding())\n",
    "#     bm = KiwiBM25Retriever.from_documents(documents)\n",
    "    \n",
    "#     return faiss, bm\n",
    "\n",
    "# import json\n",
    "\n",
    "# def save_chunks(documents, path):\n",
    "#     chunk_data = []\n",
    "#     for doc in documents:\n",
    "#         chunk_data.append({\n",
    "#             \"page_content\": doc.page_content,\n",
    "#             \"metadata\": doc.metadata\n",
    "#         })\n",
    "    \n",
    "#     with open(path, \"w\", encoding=\"utf-8\") as f:\n",
    "#         json.dump(chunk_data, f, ensure_ascii=False, indent=4)\n",
    "    \n",
    "#     print(f\"Chunks saved to {path}\")\n",
    "\n",
    "# from langchain.docstore.document import Document\n",
    "\n",
    "# def load_chunks(path):\n",
    "#     with open(path, \"r\", encoding=\"utf-8\") as f:\n",
    "#         chunk_data = json.load(f)\n",
    "    \n",
    "#     documents = []\n",
    "#     for chunk in chunk_data:\n",
    "#         documents.append(Document(page_content=chunk[\"page_content\"], metadata=chunk[\"metadata\"]))\n",
    "    \n",
    "#     print(f\"Chunks loaded from {path}\")\n",
    "#     return documents\n"
   ]
  },
  {
   "cell_type": "markdown",
   "metadata": {},
   "source": [
    "### pdf 로더"
   ]
  },
  {
   "cell_type": "code",
   "execution_count": null,
   "metadata": {},
   "outputs": [],
   "source": [
    "# def get_embedding():\n",
    "#     device = 'cuda' if torch.cuda.is_available() and 'mps' in torch.cuda.get_device_capability() else 'cpu'  # GPU 사용 가능 여부 및 MPS 지원 여부 확인\n",
    "#     embeddings = HuggingFaceEmbeddings(\n",
    "#         model_name='jhgan/ko-sroberta-multitask',\n",
    "#         model_kwargs={'device': device},\n",
    "#         encode_kwargs={'normalize_embeddings': True})\n",
    "#     return embeddings\n",
    "\n",
    "# def normalize_string(s):\n",
    "#     try:\n",
    "#         normalized = unicodedata.normalize('NFC', s)\n",
    "#         return normalized.encode('utf-8', errors='replace').decode('utf-8')\n",
    "#     except Exception:\n",
    "#         return s\n",
    "\n",
    "# def clean_text(text):\n",
    "#     text = text.replace(\"�\", \"\").replace(\"\u0003\", \"\")  # 잘못된 인코딩 문자 제거\n",
    "#     text = ' '.join(text.split())  # 여러 공백을 하나로 줄임\n",
    "#     return text\n",
    "\n",
    "# def extract_text_and_tables(pdf_path):\n",
    "#     text_content = \"\"\n",
    "#     try:\n",
    "#         # fitz를 사용한 텍스트 추출\n",
    "#         doc = fitz.open(pdf_path)\n",
    "#         for page in doc:\n",
    "#             text = page.get_text(\"text\")\n",
    "#             if text:\n",
    "#                 text = clean_text(normalize_string(text))\n",
    "#                 text_content += text + \"\\n\"\n",
    "\n",
    "#         # pdfplumber를 사용한 표 추출\n",
    "#         with pdfplumber.open(pdf_path) as pdf:\n",
    "#             for page in pdf.pages:\n",
    "#                 tables = page.extract_tables()\n",
    "#                 if tables:\n",
    "#                     text_content += \"\\n__table__\\n\"\n",
    "#                     for table in tables:\n",
    "#                         if table:\n",
    "#                             for row in table:\n",
    "#                                 processed_row = []\n",
    "#                                 for cell in row:\n",
    "#                                     if cell is None:\n",
    "#                                         processed_row.append(\" \")  # 병합된 셀 처리\n",
    "#                                     else:\n",
    "#                                         cell_text = normalize_string(clean_text(str(cell).strip()))\n",
    "#                                         if \"\\n\" in cell_text:\n",
    "#                                             cell_text = \" \".join(cell_text.split())\n",
    "#                                         processed_row.append(cell_text)\n",
    "#                                 row_text = \" | \".join(processed_row)\n",
    "#                                 text_content += row_text + \"\\n\"\n",
    "#                     text_content += \"__end_table__\\n\"\n",
    "#     except Exception as e:\n",
    "#         print(f\"Error extracting text and tables from {pdf_path}: {e}\")\n",
    "#     return text_content\n",
    "\n",
    "# class CustomPDFLoader:\n",
    "#     def __init__(self, file_path):\n",
    "#         self.file_path = file_path\n",
    "\n",
    "#     def load(self):\n",
    "#         documents = []\n",
    "#         try:\n",
    "#             # 텍스트와 표를 모두 추출\n",
    "#             text_content = extract_text_and_tables(self.file_path)\n",
    "\n",
    "#             # 메타데이터 생성 및 Document 객체로 변환\n",
    "#             metadata = {\n",
    "#                 \"source\": self.file_path,\n",
    "#             }\n",
    "#             documents.append(Document(page_content=text_content, metadata=metadata))\n",
    "#         except Exception as e:\n",
    "#             print(f\"Error loading PDF file {self.file_path}: {e}\")\n",
    "#         return documents\n",
    "\n",
    "# def chunk_documents(documents):\n",
    "#     adjusted_documents = []\n",
    "#     for doc in documents:\n",
    "#         content = doc.page_content\n",
    "#         chunks = []\n",
    "        \n",
    "#         # 표 구분자를 기준으로 분할\n",
    "#         table_sections = content.split(\"__table__\")\n",
    "        \n",
    "#         for section in table_sections:\n",
    "#             if \"__end_table__\" in section:\n",
    "#                 table_content = section.split(\"__end_table__\")[0]\n",
    "#                 chunks.append(table_content)\n",
    "#             else:\n",
    "#                 chunk_splitter = RecursiveCharacterTextSplitter(\n",
    "#                     chunk_size=1000,  # 텍스트 청크 크기를 키움\n",
    "#                     chunk_overlap=200,\n",
    "#                     separators=[\"\\n\\n\", \".\", \"?\", \"!\", \"\\n\"]\n",
    "#                 )\n",
    "#                 normal_chunks = chunk_splitter.split_text(section)\n",
    "#                 chunks.extend(normal_chunks)\n",
    "\n",
    "#         for chunk in chunks:\n",
    "#             adjusted_documents.append(Document(page_content=chunk, metadata=doc.metadata))\n",
    "    \n",
    "#     return adjusted_documents\n",
    "\n",
    "# def format_docs(docs):\n",
    "#     context = \"\"\n",
    "#     for doc in docs:\n",
    "#         context += doc.page_content\n",
    "#         context += '\\n\\n'\n",
    "#     return context\n",
    "\n",
    "# def make_db(df):\n",
    "#     documents = []\n",
    "#     pdf_files = df['Source_path'].unique()\n",
    "\n",
    "#     # tqdm으로 파일 처리 진행 상황 표시\n",
    "#     with ThreadPoolExecutor() as executor:\n",
    "#         results = list(tqdm(executor.map(load_pdf_file, pdf_files), total=len(pdf_files), desc=\"Processing PDFs\"))\n",
    "    \n",
    "#     for result in results:\n",
    "#         documents.extend(result)\n",
    "    \n",
    "#     # 정규화\n",
    "#     for doc in documents:\n",
    "#         doc.page_content = normalize_string(doc.page_content)\n",
    "    \n",
    "#     # 표가 망가지지 않도록 청크 분할 처리\n",
    "#     chunks = chunk_documents(documents)\n",
    "#     print(f\"Total number of chunks: {len(chunks)}\")\n",
    "    \n",
    "#     # FAISS DB 만들기 (메타데이터 포함)\n",
    "#     faiss = FAISS.from_documents(chunks, embedding=get_embedding())\n",
    "#     bm = KiwiBM25Retriever.from_documents(chunks)\n",
    "    \n",
    "#     return faiss, bm\n",
    "\n",
    "# def load_pdf_file(pdf_file):\n",
    "#     try:\n",
    "#         pdf_loader = CustomPDFLoader(pdf_file)\n",
    "#         return pdf_loader.load()\n",
    "#     except Exception as e:\n",
    "#         print(f\"Skipping corrupted file {pdf_file}: {e}\")\n",
    "#         return []\n"
   ]
  },
  {
   "cell_type": "markdown",
   "metadata": {},
   "source": [
    "### .."
   ]
  },
  {
   "cell_type": "code",
   "execution_count": null,
   "metadata": {},
   "outputs": [],
   "source": [
    "# 데이터 로드\n",
    "train_df = pd.read_csv('train.csv')\n",
    "test_df = pd.read_csv('test.csv')"
   ]
  },
  {
   "cell_type": "code",
   "execution_count": null,
   "metadata": {},
   "outputs": [],
   "source": [
    "# train_faiss_db, train_bm_retrievier = make_db(train_df,'./train') "
   ]
  },
  {
   "cell_type": "code",
   "execution_count": null,
   "metadata": {},
   "outputs": [
    {
     "name": "stderr",
     "output_type": "stream",
     "text": [
      "Processing PDFs: 100%|██████████| 9/9 [02:23<00:00, 15.94s/it]\n",
      "Created a chunk of size 6242, which is longer than the specified 4000\n",
      "Created a chunk of size 6009, which is longer than the specified 4000\n",
      "Created a chunk of size 18344, which is longer than the specified 4000\n"
     ]
    },
    {
     "ename": "java.lang.OutOfMemoryError",
     "evalue": "java.lang.OutOfMemoryError: Java heap space",
     "output_type": "error",
     "traceback": [
      "\u001b[1;31m---------------------------------------------------------------------------\u001b[0m",
      "\u001b[1;31mException\u001b[0m                                 Traceback (most recent call last)",
      "File \u001b[1;32mkr.lucypark.kkma.KkmaInterface.java\u001b[0m, in \u001b[0;36mkr.lucypark.kkma.KkmaInterface.morphAnalyzer\u001b[1;34m()\u001b[0m\n",
      "\u001b[1;31mException\u001b[0m: Java Exception",
      "\nThe above exception was the direct cause of the following exception:\n",
      "\u001b[1;31mjava.lang.OutOfMemoryError\u001b[0m                Traceback (most recent call last)",
      "Cell \u001b[1;32mIn[9], line 1\u001b[0m\n\u001b[1;32m----> 1\u001b[0m test_faiss_db, test_bm_retrievier \u001b[38;5;241m=\u001b[39m \u001b[43mmake_db\u001b[49m\u001b[43m(\u001b[49m\u001b[43mtest_df\u001b[49m\u001b[43m,\u001b[49m\u001b[38;5;124;43m'\u001b[39;49m\u001b[38;5;124;43m./test\u001b[39;49m\u001b[38;5;124;43m'\u001b[39;49m\u001b[43m)\u001b[49m\n\u001b[0;32m      2\u001b[0m clear_model_resources()\n\u001b[0;32m      3\u001b[0m weight \u001b[38;5;241m=\u001b[39m [\u001b[38;5;241m0.5\u001b[39m, \u001b[38;5;241m0.5\u001b[39m]\n",
      "Cell \u001b[1;32mIn[3], line 59\u001b[0m, in \u001b[0;36mmake_db\u001b[1;34m(df, chunk_name, chunk_size, chunk_overlap)\u001b[0m\n\u001b[0;32m     56\u001b[0m     doc\u001b[38;5;241m.\u001b[39mpage_content \u001b[38;5;241m=\u001b[39m normalize_string(doc\u001b[38;5;241m.\u001b[39mpage_content)\n\u001b[0;32m     58\u001b[0m \u001b[38;5;66;03m# KonlpyTextSplitter로 문장 단위로 먼저 분할\u001b[39;00m\n\u001b[1;32m---> 59\u001b[0m documents \u001b[38;5;241m=\u001b[39m \u001b[43msplit_documents_with_konlpy\u001b[49m\u001b[43m(\u001b[49m\u001b[43mdocuments\u001b[49m\u001b[43m)\u001b[49m\n\u001b[0;32m     61\u001b[0m \u001b[38;5;66;03m# 청크 데이터를 저장\u001b[39;00m\n\u001b[0;32m     62\u001b[0m save_chunks(documents, chunk_file_path)\n",
      "Cell \u001b[1;32mIn[3], line 34\u001b[0m, in \u001b[0;36msplit_documents_with_konlpy\u001b[1;34m(documents)\u001b[0m\n\u001b[0;32m     30\u001b[0m konlpy_splitter \u001b[38;5;241m=\u001b[39m KonlpyTextSplitter(separator\u001b[38;5;241m=\u001b[39m\u001b[38;5;124m'\u001b[39m\u001b[38;5;130;01m\\n\u001b[39;00m\u001b[38;5;130;01m\\n\u001b[39;00m\u001b[38;5;124m'\u001b[39m)\n\u001b[0;32m     32\u001b[0m \u001b[38;5;28;01mfor\u001b[39;00m doc \u001b[38;5;129;01min\u001b[39;00m documents:\n\u001b[0;32m     33\u001b[0m     \u001b[38;5;66;03m# KonlpyTextSplitter로 문장 단위 분리\u001b[39;00m\n\u001b[1;32m---> 34\u001b[0m     sentences \u001b[38;5;241m=\u001b[39m \u001b[43mkonlpy_splitter\u001b[49m\u001b[38;5;241;43m.\u001b[39;49m\u001b[43msplit_text\u001b[49m\u001b[43m(\u001b[49m\u001b[43mdoc\u001b[49m\u001b[38;5;241;43m.\u001b[39;49m\u001b[43mpage_content\u001b[49m\u001b[43m)\u001b[49m\n\u001b[0;32m     35\u001b[0m     \u001b[38;5;28;01mfor\u001b[39;00m sentence \u001b[38;5;129;01min\u001b[39;00m sentences:\n\u001b[0;32m     36\u001b[0m         adjusted_documents\u001b[38;5;241m.\u001b[39mappend(Document(page_content\u001b[38;5;241m=\u001b[39msentence, metadata\u001b[38;5;241m=\u001b[39mdoc\u001b[38;5;241m.\u001b[39mmetadata))\n",
      "File \u001b[1;32mc:\\ProgramData\\anaconda3\\envs\\llm_project\\Lib\\site-packages\\langchain_text_splitters\\konlpy.py:35\u001b[0m, in \u001b[0;36mKonlpyTextSplitter.split_text\u001b[1;34m(self, text)\u001b[0m\n\u001b[0;32m     33\u001b[0m \u001b[38;5;28;01mdef\u001b[39;00m \u001b[38;5;21msplit_text\u001b[39m(\u001b[38;5;28mself\u001b[39m, text: \u001b[38;5;28mstr\u001b[39m) \u001b[38;5;241m-\u001b[39m\u001b[38;5;241m>\u001b[39m List[\u001b[38;5;28mstr\u001b[39m]:\n\u001b[0;32m     34\u001b[0m \u001b[38;5;250m    \u001b[39m\u001b[38;5;124;03m\"\"\"Split incoming text and return chunks.\"\"\"\u001b[39;00m\n\u001b[1;32m---> 35\u001b[0m     splits \u001b[38;5;241m=\u001b[39m \u001b[38;5;28;43mself\u001b[39;49m\u001b[38;5;241;43m.\u001b[39;49m\u001b[43mkkma\u001b[49m\u001b[38;5;241;43m.\u001b[39;49m\u001b[43msentences\u001b[49m\u001b[43m(\u001b[49m\u001b[43mtext\u001b[49m\u001b[43m)\u001b[49m\n\u001b[0;32m     36\u001b[0m     \u001b[38;5;28;01mreturn\u001b[39;00m \u001b[38;5;28mself\u001b[39m\u001b[38;5;241m.\u001b[39m_merge_splits(splits, \u001b[38;5;28mself\u001b[39m\u001b[38;5;241m.\u001b[39m_separator)\n",
      "File \u001b[1;32mc:\\ProgramData\\anaconda3\\envs\\llm_project\\Lib\\site-packages\\konlpy\\tag\\_kkma.py:100\u001b[0m, in \u001b[0;36mKkma.sentences\u001b[1;34m(self, phrase)\u001b[0m\n\u001b[0;32m     97\u001b[0m \u001b[38;5;28;01mdef\u001b[39;00m \u001b[38;5;21msentences\u001b[39m(\u001b[38;5;28mself\u001b[39m, phrase):\n\u001b[0;32m     98\u001b[0m \u001b[38;5;250m    \u001b[39m\u001b[38;5;124;03m\"\"\"Sentence detection.\"\"\"\u001b[39;00m\n\u001b[1;32m--> 100\u001b[0m     sentences \u001b[38;5;241m=\u001b[39m \u001b[38;5;28;43mself\u001b[39;49m\u001b[38;5;241;43m.\u001b[39;49m\u001b[43mjki\u001b[49m\u001b[38;5;241;43m.\u001b[39;49m\u001b[43mmorphAnalyzer\u001b[49m\u001b[43m(\u001b[49m\u001b[43mphrase\u001b[49m\u001b[43m)\u001b[49m\n\u001b[0;32m    101\u001b[0m     \u001b[38;5;28;01mif\u001b[39;00m \u001b[38;5;129;01mnot\u001b[39;00m sentences: \u001b[38;5;28;01mreturn\u001b[39;00m []\n\u001b[0;32m    102\u001b[0m     \u001b[38;5;28;01mreturn\u001b[39;00m [sentences\u001b[38;5;241m.\u001b[39mget(i)\u001b[38;5;241m.\u001b[39mgetSentence() \u001b[38;5;28;01mfor\u001b[39;00m i \u001b[38;5;129;01min\u001b[39;00m \u001b[38;5;28mrange\u001b[39m(sentences\u001b[38;5;241m.\u001b[39msize())]\n",
      "\u001b[1;31mjava.lang.OutOfMemoryError\u001b[0m: java.lang.OutOfMemoryError: Java heap space"
     ]
    }
   ],
   "source": [
    "test_faiss_db, test_bm_retrievier = make_db(test_df,'./test')\n",
    "clear_model_resources()\n",
    "weight = [0.5, 0.5]\n",
    "test_k = 3\n",
    "test_bm_retrievier.k = test_k\n",
    "#knn_retriever.k = test_k\n",
    "faiss_retriever = test_faiss_db.as_retriever(search_kwargs={'k':test_k} )\n",
    "test_ensemble_retriever = EnsembleRetriever(\n",
    "    retrievers=[test_bm_retrievier, faiss_retriever], weights=weight , search_type=\"mmr\",\n",
    ")\n"
   ]
  },
  {
   "cell_type": "code",
   "execution_count": null,
   "metadata": {},
   "outputs": [
    {
     "name": "stdout",
     "output_type": "stream",
     "text": [
      "Query: 2022년 혁신창업사업화자금(융자)의 예산은 얼마인가요?\n",
      "Query: 중소벤처기업부의 혁신창업사업화자금(융자) 사업목적은 무엇인가요?\n",
      "Query: 중소벤처기업부의 혁신창업사업화자금(융자) 사업근거는 어떤 법률에 근거하고 있나요?\n",
      "Query: 2010년에 신규 지원된 혁신창업사업화자금은 무엇인가요?\n",
      "Query: 혁신창업사업화자금 중 2020년에 신규 지원된 자금은 무엇인가요?\n",
      "Query: 재창업자금이 재도약지원자금으로 이관된 연도는 언제인가요?\n",
      "Query: 창업기반지원과 신청 대상이 중복인 자금이 어떤 것이며, 이 자금이 폐지된 연도는 언제인가요?\n",
      "Query: 혁신창업사업화자금(융자) 사업을 시행하는 주체는 누구인가요?\n",
      "Query: 혁신창업사업화자금(융자) 사업 집행절차는 어떻게 되나요?\n",
      "Query: 부모급여 지원 사업의 목적은 무엇인가요?\n",
      "Query: 부모급여(영아수당)의 2024년 확정된 예산은 몇백만원인가요?\n",
      "Query: 부모급여 지원 사업은 어떤 법령상 근거를 갖고 추진되고 있나요?\n",
      "Query: 영아수당 도입에 대한 추진경위는 어떻게 되나요?\n",
      "Query: 부모급여 지원사업은 언제부터 시행되었나요?\n",
      "Query: 보건복지부의 부모급여(영아수당) 지원 사업시행방법은 무엇이며, 사업 수혜자는 누구인가?\n",
      "Query: 노인장기요양보험 사업 운영에 대한 목적은 무엇인가요?\n",
      "Query: 노인장기요양보험 운영지원에 대한 사업 내용을 설명해줘.\n",
      "Query: 국고지원을 받는 기타 의료급여수급권자는 누구인가요?\n",
      "Query: 장기요양보험가입자 및 피부양자의 자격취득과 관련하여 어떤 법률을 준용해야 하는가?\n",
      "Query: 노인장기요양보험법이 언제 제정되고 공포되었나?\n",
      "Query: 장기요양인정점수 완화가 언제 이루어졌으며, 어떤 변화가 있었나?\n",
      "Query: 장기요양기관 지정갱신제의 법적 근거가 언제 마련되었는가?\n",
      "Query: 22.10월에 요양보호사 1명당 시설수급자 인력배치기준이 개선된 내용은 무엇인가?\n",
      "Query: 에너지 바우처 제도의 주요 내용은 무엇인가요?\n",
      "Query: 에너지바우처 사업의 주요 수혜자는 누구인가요?\n",
      "Query: 2024년 에너지바우처 사업의 사업시행주체는 무엇인가요?\n",
      "Query: 하절기바우처와 동절기바우처의 2024년 예산 규모는 각각 얼마인가요?\n",
      "Query: 2023년 에너지바우처 사업 예산에서 사업운영비 중 에너지복지 홍보에 얼마가 할당되었나요?\n",
      "Query: 2023년 에너지바우처 사업 예산에서 사업운영비 중 시스템 고도화에 얼마가 할당되었나요?\n",
      "Query: 2023년 에너지바우처 사업 예산에서 콜센터 운영에 얼마가 할당되었나요?\n",
      "Query: 2023년 에너지바우처 사업 예산에서 패널조사에 얼마가 할당되었나요?\n",
      "Query: 2023년 에너지바우처 사업 예산에서 에너지바우처 전달체계 구축에 얼마가 할당되었나요?\n",
      "Query: 2023년 에너지바우처 사업 예산에서 주택관리공단 운영지원에 얼마가 할당되었나요?\n",
      "Query: 에너지바우처 사업의 향후 기대효과는 무엇인가요?\n",
      "Query: 에너지바우처 사업에 대한 예비타당성조사를 어떤 조사기관이 수행했나요?\n",
      "Query: 21년 국정감사에서 에너지 바우처 사업에 대한 주요 지적사항은 무엇이었나요?\n",
      "Query: 21년 에너지바우처 사업에 대한 결산 지적사항은 무엇이었나요?\n",
      "Query: 에너지 바우처 사업의 향후 추진방향 중 '취약계층의 에너지 비용 부담 완화'를 위한 계획은 무엇이었나요?\n",
      "Query: 행복주택출자 사업은 어떤 근거로 추진되고 있는가?\n",
      "Query: 행복주택출자 사업은 어떤 목적으로 시행되는가?\n",
      "Query: 행복주택출자 사업의 주요 수혜자는 누구인가?\n",
      "Query: 행복주택출자 사업의 사업비 추이는 어떠한가?\n",
      "Query: 행복주택출자 사업의 사업시행주체는 누구인가?\n",
      "Query: 국고보조사업의 보조율은 어떠한 기준에 따라 운용되는가?\n",
      "Query: 프랑스의 재정조정제도에서 최근 강조되는 형평교부금은 어떤 역할을 하는가?\n",
      "Query: 지방재정조정제도의 목적은 무엇인가?\n",
      "Query: 국제적으로 성과중심 재정관리 강화 움직임이 확산된 시기는 언제인가?\n",
      "Query: 한국의 재정사업 성과관리제도는 어떠한 법을 통해 운영되고 있으며, 성과관리 기본계획과 추진계획은 어떻게 의무화되었는가?\n",
      "Query: 핵심재정사업 성과관리제도를 안착시키기 위해 필요한 노력과 성과 정보를 학습의 도구로 활용하는 방안은 무엇인가?\n",
      "Query: 사회보험 사각지대 발생의 주요 원인과 이로 인해 발생하는 문제는 무엇인가요?\n",
      "Query: 청년일자리도약장려금은 어떤 대상을 지원하며, 어떤 방식으로 지원되는가?\n",
      "Query: 수직적 재정조정제도와 수평적 재정조정제도의 차이는 무엇인가요?\n",
      "Query: 지방재정조정제도는 어떤 목적을 가지고 있나요?\n",
      "Query: 중앙-지방 간 재정조정제도에서 어떤 재원을 이전하여 수직적 재정 불균형을 해소하는가?\n",
      "Query: 중앙정부의 예산편성은 어떤 재원 배분 문제를 결정하며, 중앙-지방 간 재정조정제도를 통해 어떤 재원을 이전하고, 이의 목적은 무엇인가?\n",
      "Query: 재정사업 성과관리제도의 필요성이 대두된 시기와 한국의 재정사업 성과관리제도가 어떤 법에 근거하여 운영되고 있는지 설명하시오.\n",
      "Query: 청년일자리도약장려금은 어떤 대상을 지원하며, 어떤 방식으로 지원되는가?\n",
      "Query: 재정성과관리제도는 어떤 측면에서 국정운영과 연결되는가?\n",
      "Query: 성과관리의 실효성 강화를 위해 정부가 취한 조치는 무엇인가?\n",
      "Query: 재정성과관리 관련 주요 쟁점은 무엇인가?\n",
      "Query: 재정성과관리가 왜 중요한가?\n",
      "Query: 재정성과관리는 무엇을 목표로 하는가?\n",
      "Query: 어떤 국제기구들이 사업을 기준으로 예산을 나누어 성과 정보를 생산하고 있는가?\n",
      "Query: 재정성과관리의 목적은 무엇인가?\n",
      "Query: 2021년 「국가재정법」 개정으로 어떤 규정이 신설되었는가?\n",
      "Query: 성과관리제도는 지출 구조조정을 위해 어떤 방향으로 추진되고 있는가?\n",
      "Query: 재정사업 자율평가의 목적은 무엇이며, 어떤 방식으로 제도 개선이 이루어졌는가?\n",
      "Query: 2016년 재정성과관리제도의 환류 개선사항은 무엇인가?\n",
      "Query: 2018년도에 재정성과관리제도 개선사항과, 이로 인해 어떤 효과가 발생했는가?\n",
      "Query: 재정사업 자율평가의 전면 개편을 통해 어떤 중점 추진과제가 제시되었는가?\n",
      "Query: 재정성과관리제도의 중요성과 국정운영과의 연결성은 무엇인가?\n",
      "Query: 재정성과관리체계 강화를 위해 정부가 어떤 제도를 제시했으며, 재정성과관리는 무엇을 목표로 하는가?\n",
      "Query: 재정성과관리는 어떤 과정에서 수행되며, 무엇을 증진하기 위해 활동하는가?\n",
      "Query: 재정성과관리의 목적과 우리나라의 재정성과관리제도가 프로그램 예산제도로 전환된 시기는?\n",
      "Query: 2007년과 2021년에 각각 「국가재정법」이 개정되면서 성과관리 제도는 어떻게 강화되고 구체화되었으며, 이 개정의 주된 목적은 무엇인가?\n",
      "Query: 재정사업 자율평가의 목적과 제도 개선 방식은 무엇인가?\n",
      "Query: 2015년 이전과 2016년에 재정성과 평가 결과 처리 방식과 환류 개선 방식은 어떻게 달라졌는가?\n",
      "Query: 재정관리시스템 구축과 성과관리 개편을 추진하는 주된 목적은 무엇인가?\n",
      "Query: 우리나라에서는 언제부터 발생주의 기준을 적용한 국가결산보고서에서 우발부채를 보고하고 있는가?\n",
      "Query: 우발부채 관련 주요 쟁점은 무엇인가?\n",
      "Query: 우발부채의 관리는 왜 중요한 이슈로 여겨지는가?\n",
      "Query: 우발부채와 부채의 차이점은 무엇인가?\n",
      "Query: 발생주의와 현금주의의 차이는 무엇인가?\n",
      "Query: 채무지속가능성분석은 어떤 목적을 가지고 도입되었는가?\n",
      "Query: 의제의무란 무엇인가?\n",
      "Query: 국제통화기금이 재정통계 작성의 국제기준을 제시하기 위해 발간한 매뉴얼은 무엇인가?\n",
      "Query: 계류중인 소송사건이란 무엇인가?\n",
      "Query: 최소운영수입보장(BTO 등) 제도란 무엇을 의미하는가?\n",
      "Query: 우발부채에 대한 내용으로 대표적으로 어떤 사항이 해당되는가?\n",
      "Query: GFSM2014에서는 우발부채를 어떻게 구분하는가?\n",
      "Query: GFSM은 몇 차례의 개정을 거쳤으며, 어떠한 목적으로 GFSM 2001이 개정되었는가?\n",
      "Query: 표준화 보증이란 무엇인가?\n",
      "Query: 표준화 보증에서 공공부문의 우발부채는 어떻게 인식되는가?\n",
      "Query: 재정정책에서 공적보증채무와 다른 일회성 보증은 어떻게 구분되는가?\n",
      "Query: 미래사회보장급여에 대한 순의무란 무엇을 의미하는가?\n",
      "Query: 국가결산보고서와 지방자치단체 회계기준에서 우발부채에 대한 용어 및 회계처리가 어떻게 다른가요?\n",
      "Query: 우발부채란 무엇이며, 그 관리가 왜 중요한가?\n",
      "Query: 보증이란 무엇이며, 어떤 형태의 보증이 재정상태표에 부채로 기록되는가? 또한 표준화 보증이란 무엇이며, 어떤 목적으로 발행되는가?\n"
     ]
    }
   ],
   "source": [
    "total = []\n",
    "for i in range(len(test_df)):\n",
    "    query = test_df.iloc[i]['Question']\n",
    "    print(f\"Query: {query}\")\n",
    "    results = test_ensemble_retriever.invoke(query)\n",
    "    chunk_sizes = [len(i.page_content) for i in results]\n",
    "    total.extend(chunk_sizes)\n",
    "    "
   ]
  },
  {
   "cell_type": "code",
   "execution_count": null,
   "metadata": {},
   "outputs": [
    {
     "data": {
      "text/plain": [
       "82.54901960784314"
      ]
     },
     "execution_count": 11,
     "metadata": {},
     "output_type": "execute_result"
    }
   ],
   "source": [
    "import numpy as np\n",
    "np.mean(total)"
   ]
  },
  {
   "cell_type": "code",
   "execution_count": null,
   "metadata": {},
   "outputs": [
    {
     "name": "stdout",
     "output_type": "stream",
     "text": [
      "2010년에 신규 지원된 혁신창업사업화자금은 무엇인가요?\n",
      "./test_source/중소벤처기업부_혁신창업사업화자금(융자).pdf\n",
      "{'source': './test_source/보건복지부_노인장기요양보험 사업운영.pdf'} Size: 34\n",
      "Page 1: Page 2: Page 3: Page 4: 변화\n",
      "-----------------\n",
      "{'source': './test_source/중소벤처기업부_혁신창업사업화자금(융자).pdf'} Size: 26\n",
      "Page 1: Page 2: Page 3: 협결\n",
      "-----------------\n",
      "{'source': './test_source/산업통상자원부_에너지바우처.pdf'} Size: 105\n",
      "Page 1: Page 2: - Page 3: 협화 Page 4: \" Page 5: Page 6: Page 7: Page 8: 협종화 Page 9: Page 10: 현림 화 Page 11:\n",
      "-----------------\n"
     ]
    }
   ],
   "source": [
    "import textwrap\n",
    "from IPython.display import display\n",
    "from IPython.display import Markdown\n",
    "def to_markdown(text):\n",
    "  text = text.replace('•', '  *')\n",
    "  return Markdown(textwrap.indent(text, '> ', predicate=lambda _: True))\n",
    "\n",
    "i= 3\n",
    "query = test_df.iloc[i]['Question']\n",
    "print(query)\n",
    "print(test_df.iloc[i]['Source_path'])\n",
    "results = faiss_retriever.invoke(normalize_string(query))\n",
    "\n",
    "for i in results:\n",
    "    print(i.metadata, \"Size:\",len(i.page_content))\n",
    "    print(i.page_content)\n",
    "    print('-----------------')"
   ]
  },
  {
   "cell_type": "code",
   "execution_count": null,
   "metadata": {},
   "outputs": [],
   "source": []
  },
  {
   "cell_type": "code",
   "execution_count": null,
   "metadata": {},
   "outputs": [
    {
     "ename": "NameError",
     "evalue": "name 'train_db' is not defined",
     "output_type": "error",
     "traceback": [
      "\u001b[1;31m---------------------------------------------------------------------------\u001b[0m",
      "\u001b[1;31mNameError\u001b[0m                                 Traceback (most recent call last)",
      "Cell \u001b[1;32mIn[13], line 12\u001b[0m\n\u001b[0;32m      7\u001b[0m rag_counter \u001b[38;5;241m=\u001b[39m {\u001b[38;5;124m'\u001b[39m\u001b[38;5;124m0\u001b[39m\u001b[38;5;124m'\u001b[39m:\u001b[38;5;241m0\u001b[39m,\u001b[38;5;124m'\u001b[39m\u001b[38;5;124m1\u001b[39m\u001b[38;5;124m'\u001b[39m:\u001b[38;5;241m0\u001b[39m,\u001b[38;5;124m'\u001b[39m\u001b[38;5;124m2\u001b[39m\u001b[38;5;124m'\u001b[39m:\u001b[38;5;241m0\u001b[39m,\u001b[38;5;124m'\u001b[39m\u001b[38;5;124m3\u001b[39m\u001b[38;5;124m'\u001b[39m:\u001b[38;5;241m0\u001b[39m,\u001b[38;5;124m'\u001b[39m\u001b[38;5;124m4\u001b[39m\u001b[38;5;124m'\u001b[39m:\u001b[38;5;241m0\u001b[39m,\u001b[38;5;124m'\u001b[39m\u001b[38;5;124m5\u001b[39m\u001b[38;5;124m'\u001b[39m:\u001b[38;5;241m0\u001b[39m}\n\u001b[0;32m      9\u001b[0m \u001b[38;5;28;01mfor\u001b[39;00m i , entry \u001b[38;5;129;01min\u001b[39;00m \u001b[38;5;28menumerate\u001b[39m(train_df\u001b[38;5;241m.\u001b[39mto_dict(orient\u001b[38;5;241m=\u001b[39m\u001b[38;5;124m'\u001b[39m\u001b[38;5;124mrecords\u001b[39m\u001b[38;5;124m'\u001b[39m)):\n\u001b[0;32m     10\u001b[0m     \u001b[38;5;66;03m# print(entry['Question'])\u001b[39;00m\n\u001b[0;32m     11\u001b[0m     \u001b[38;5;66;03m# print(entry['Source_path'])\u001b[39;00m\n\u001b[1;32m---> 12\u001b[0m     train_retriever \u001b[38;5;241m=\u001b[39m \u001b[43mtrain_db\u001b[49m\u001b[38;5;241m.\u001b[39mas_retriever(search_type\u001b[38;5;241m=\u001b[39m\u001b[38;5;124m\"\u001b[39m\u001b[38;5;124msimilarity_score_threshold\u001b[39m\u001b[38;5;124m\"\u001b[39m,\n\u001b[0;32m     13\u001b[0m                 search_kwargs\u001b[38;5;241m=\u001b[39m{\u001b[38;5;124m'\u001b[39m\u001b[38;5;124mscore_threshold\u001b[39m\u001b[38;5;124m'\u001b[39m: \u001b[38;5;241m0.77\u001b[39m,\u001b[38;5;124m'\u001b[39m\u001b[38;5;124mk\u001b[39m\u001b[38;5;124m'\u001b[39m:\u001b[38;5;241m2\u001b[39m})\n\u001b[0;32m     14\u001b[0m     rag \u001b[38;5;241m=\u001b[39m train_retriever\u001b[38;5;241m.\u001b[39minvoke(entry[\u001b[38;5;124m'\u001b[39m\u001b[38;5;124mQuestion\u001b[39m\u001b[38;5;124m'\u001b[39m])\n\u001b[0;32m     16\u001b[0m     num_rag \u001b[38;5;241m=\u001b[39m \u001b[38;5;28mlen\u001b[39m(rag)\n",
      "\u001b[1;31mNameError\u001b[0m: name 'train_db' is not defined"
     ]
    }
   ],
   "source": [
    "import warnings\n",
    "\n",
    "# 특정 경고 메시지를 무시하도록 설정\n",
    "warnings.filterwarnings(\"ignore\", message=\"No relevant docs were retrieved using the relevance score threshold\")\n",
    "\n",
    "\n",
    "rag_counter = {'0':0,'1':0,'2':0,'3':0,'4':0,'5':0}\n",
    "\n",
    "for i , entry in enumerate(train_df.to_dict(orient='records')):\n",
    "    # print(entry['Question'])\n",
    "    # print(entry['Source_path'])\n",
    "    train_retriever = train_db.as_retriever(search_type=\"similarity_score_threshold\",\n",
    "                search_kwargs={'score_threshold': 0.77,'k':2})\n",
    "    rag = train_retriever.invoke(entry['Question'])\n",
    "\n",
    "    num_rag = len(rag)\n",
    "    if num_rag ==0 :\n",
    "        print(i)\n",
    "        print(entry['Question'])\n",
    "        print(entry['Source_path'])\n",
    "        rag_counter['0'] += 1\n",
    "    if num_rag == 1:\n",
    "        rag_counter['1'] += 1\n",
    "    elif num_rag == 2:\n",
    "        rag_counter['2'] += 1\n",
    "    elif num_rag == 3:\n",
    "        rag_counter['3'] += 1\n",
    "    elif num_rag == 4:\n",
    "        rag_counter['4'] += 1\n",
    "    elif num_rag == 5:\n",
    "        rag_counter['5'] += 1\n",
    "print(rag_counter)"
   ]
  },
  {
   "cell_type": "code",
   "execution_count": null,
   "metadata": {},
   "outputs": [
    {
     "name": "stdout",
     "output_type": "stream",
     "text": [
      "{'0': 9, '1': 12, '2': 77, '3': 0, '4': 0, '5': 0, '6': 0, '7': 0, '8': 0, '9': 0}\n"
     ]
    }
   ],
   "source": [
    "rag_counter = {'0':0,'1':0,'2':0,'3':0,'4':0,'5':0,'6':0,'7':0,'8':0,'9':0}\n",
    "test_retriver = test_db.as_retriever(search_type=\"similarity_score_threshold\",\n",
    "                search_kwargs={'score_threshold': 0.77,'k':2})\n",
    "for i , entry in enumerate(test_df.to_dict(orient='records')):\n",
    "    num_rag = len(test_retriver.invoke(entry['Question']))\n",
    "    if num_rag ==0 :\n",
    "        rag_counter['0'] += 1\n",
    "    if num_rag == 1:\n",
    "        rag_counter['1'] += 1\n",
    "    elif num_rag == 2:\n",
    "        rag_counter['2'] += 1\n",
    "    elif num_rag == 3:\n",
    "        rag_counter['3'] += 1\n",
    "    elif num_rag == 4:\n",
    "        rag_counter['4'] += 1\n",
    "    elif num_rag == 5:\n",
    "        rag_counter['5'] += 1\n",
    "print(rag_counter)"
   ]
  },
  {
   "cell_type": "code",
   "execution_count": null,
   "metadata": {},
   "outputs": [
    {
     "name": "stdout",
     "output_type": "stream",
     "text": [
      "Q:  하절기바우처와 동절기바우처의 2024년 예산 규모는 각각 얼마인가요?\n"
     ]
    },
    {
     "data": {
      "text/plain": [
       "3"
      ]
     },
     "execution_count": 4,
     "metadata": {},
     "output_type": "execute_result"
    }
   ],
   "source": [
    "i = 26\n",
    "querry = test_df.iloc[i]['Question']\n",
    "test_retriver = test_db.as_retriever(search_kwargs={'k': 3})\n",
    "print(\"Q: \",querry)\n",
    "len(test_retriver.invoke(querry))\n",
    "# print(doc_list[0].page_content)\n",
    "# print(doc_list[0].metadata)"
   ]
  },
  {
   "cell_type": "code",
   "execution_count": null,
   "metadata": {},
   "outputs": [
    {
     "name": "stdout",
     "output_type": "stream",
     "text": [
      "하절기바우처와 동절기바우처의 2024년 예산 규모는 각각 얼마인가요?\n"
     ]
    },
    {
     "data": {
      "text/plain": [
       "[Document(metadata={'source': './test_source/산업통상자원부_에너지바우처.pdf', 'page': 5}, page_content='3)’24년도 예산안 산출 근거\\n① 하절기바우처 : (‘23) 36,851 백만원 → (’24) 60,950 백만원 (+24,099 백만원 )\\n   *  지원대상 확대(생계·의료→생계·의료·주거·교육)와 전기요금 인상에 따른 증액\\n  - (산출) 85.7만세대 x 4.3만원(‘23년) → 115.0만세대 × 5.3만원(’24년)\\n② 동절기바우처 : (‘23) 129,656 백만원 → (’24) 600,521 백만원 (+470,865 백만원 )\\n   *  지원대상 증가와 난방비 인상에 따른 단가 인상 등 지원규모 확대를 고려한 증액\\n  - (산출) 85.3만 세대 x 15.2만원(‘23년) → ① ‘23년 동절기 지원확대 : 113.1만 세대 x 30.4만원 x 70%, \\n② ‘24년 동절기 지원 : 114.6만 세대 x 31.4만원(’24년)\\n③ 연탄쿠폰 : (‘23) 21,712 백만원 → (’24) 21,240 백만원 (△472백만원 )\\n   * 연탄 소비가구 감소 추세에 따른 감액'),\n",
       " Document(metadata={'source': './test_source/산업통상자원부_에너지바우처.pdf', 'page': 5}, page_content='’23년 예산 ’24년 예산\\n예산 산출내역 예산 산출내역\\n 190,963○ 민간경상보조 (320-01 ) : 190,963 백만원\\n가. 하절기바우처 (36,851 백만원 )\\n ㆍ 85.7만 세대 × 4.3만원 = 36,851 백만원\\n나. 동절기바우처 (129,656 백만원 )\\n ㆍ 85.3만 세대 × 15.2만원 = 129,656 백만원\\n다. 연탄쿠폰 (21,712 백만원 )\\n ㆍ 4.6만 세대 × 47.2만원 = 21,712 백만원\\n라. 등유바우처 (1,395 백만원 )\\n ㆍ 0.45만 세대 × 31만원 = 1,395백만원\\n마. 사업운영비 (1,349 백만원 )\\n ㆍ 에너지복지 홍보: 328백만원\\n ㆍ 시스템 고도화 : 520백만원\\n ㆍ 콜센터 운영 : 280백만원\\n ㆍ 패널조사 : 133.5백만원\\n ㆍ 에너지바우처 전달체계 구축 : 37.5백만원\\n ㆍ 주택관리공단 운영지원 : 50백만원685,606○ 민간경상보조 (320-01 ) : 685,606 백만원\\n가. 하절기바우처 (60,950 백만원 )'),\n",
       " Document(metadata={'source': './test_source/산업통상자원부_에너지바우처.pdf', 'page': 5}, page_content='가. 하절기바우처 (60,950 백만원 )\\n ㆍ 115.0만 세대 × 5.3만원 × 100% = 60,950 백만원\\n나. 동절기바우처 (600,521 백만원 )\\n ㆍ (’23확대) 113.1만 세대 × 30.4만원 × 70% = 240,677 백만원\\n ㆍ (’24지원) 114.6만 세대 × 31.4만원 = 359,844 백만원\\n다. 연탄쿠폰 (21,240 백만원 )\\n ㆍ 4.5만 세대 × 47.2만원 = 21,240 백만원\\n라. 등유바우처 (1,023 백만원 )\\n ㆍ 0.33만 세대 × 31만원 = 1,023백만원\\n마. 사업운영비 (1,872 백만원 )\\n ㆍ 에너지복지 홍보: 448백만원\\n ㆍ 시스템 고도화 : 705백만원\\n ㆍ 콜센터 운영 : 502.7백만원\\n ㆍ 패널조사 : 131.7백만원\\n ㆍ 에너지바우처 전달체계 구축 : 34.6백만원\\n ㆍ 주택관리공단 운영지원 : 50백만원')]"
      ]
     },
     "execution_count": 5,
     "metadata": {},
     "output_type": "execute_result"
    }
   ],
   "source": [
    "test_retriver = test_db.as_retriever(search_kwargs={'search_tpye':'ngram','k': 3})\n",
    "print(querry)\n",
    "test_retriver.invoke(querry)"
   ]
  },
  {
   "cell_type": "code",
   "execution_count": null,
   "metadata": {},
   "outputs": [
    {
     "name": "stdout",
     "output_type": "stream",
     "text": [
      "하절기바우처와 동절기바우처의 2024년 예산 규모는 각각 얼마인가요?\n"
     ]
    },
    {
     "data": {
      "text/plain": [
       "[Document(metadata={'source': './test_source/산업통상자원부_에너지바우처.pdf', 'page': 5}, page_content='3)’24년도 예산안 산출 근거\\n① 하절기바우처 : (‘23) 36,851 백만원 → (’24) 60,950 백만원 (+24,099 백만원 )\\n   *  지원대상 확대(생계·의료→생계·의료·주거·교육)와 전기요금 인상에 따른 증액\\n  - (산출) 85.7만세대 x 4.3만원(‘23년) → 115.0만세대 × 5.3만원(’24년)\\n② 동절기바우처 : (‘23) 129,656 백만원 → (’24) 600,521 백만원 (+470,865 백만원 )\\n   *  지원대상 증가와 난방비 인상에 따른 단가 인상 등 지원규모 확대를 고려한 증액\\n  - (산출) 85.3만 세대 x 15.2만원(‘23년) → ① ‘23년 동절기 지원확대 : 113.1만 세대 x 30.4만원 x 70%, \\n② ‘24년 동절기 지원 : 114.6만 세대 x 31.4만원(’24년)\\n③ 연탄쿠폰 : (‘23) 21,712 백만원 → (’24) 21,240 백만원 (△472백만원 )\\n   * 연탄 소비가구 감소 추세에 따른 감액')]"
      ]
     },
     "execution_count": 6,
     "metadata": {},
     "output_type": "execute_result"
    }
   ],
   "source": [
    "test_retriver = test_db.as_retriever(search_type=\"similarity_score_threshold\",\n",
    "                search_kwargs={'score_threshold': 0.8})\n",
    "print(querry)\n",
    "test_retriver.invoke(querry)"
   ]
  },
  {
   "cell_type": "code",
   "execution_count": null,
   "metadata": {},
   "outputs": [
    {
     "name": "stdout",
     "output_type": "stream",
     "text": [
      "하절기바우처와 동절기바우처의 2024년 예산 규모는 각각 얼마인가요?\n"
     ]
    },
    {
     "data": {
      "text/plain": [
       "[Document(metadata={'source': './test_source/산업통상자원부_에너지바우처.pdf', 'page': 5}, page_content='3)’24년도 예산안 산출 근거\\n① 하절기바우처 : (‘23) 36,851 백만원 → (’24) 60,950 백만원 (+24,099 백만원 )\\n   *  지원대상 확대(생계·의료→생계·의료·주거·교육)와 전기요금 인상에 따른 증액\\n  - (산출) 85.7만세대 x 4.3만원(‘23년) → 115.0만세대 × 5.3만원(’24년)\\n② 동절기바우처 : (‘23) 129,656 백만원 → (’24) 600,521 백만원 (+470,865 백만원 )\\n   *  지원대상 증가와 난방비 인상에 따른 단가 인상 등 지원규모 확대를 고려한 증액\\n  - (산출) 85.3만 세대 x 15.2만원(‘23년) → ① ‘23년 동절기 지원확대 : 113.1만 세대 x 30.4만원 x 70%, \\n② ‘24년 동절기 지원 : 114.6만 세대 x 31.4만원(’24년)\\n③ 연탄쿠폰 : (‘23) 21,712 백만원 → (’24) 21,240 백만원 (△472백만원 )\\n   * 연탄 소비가구 감소 추세에 따른 감액'),\n",
       " Document(metadata={'source': './test_source/산업통상자원부_에너지바우처.pdf', 'page': 5}, page_content='’23년 예산 ’24년 예산\\n예산 산출내역 예산 산출내역\\n 190,963○ 민간경상보조 (320-01 ) : 190,963 백만원\\n가. 하절기바우처 (36,851 백만원 )\\n ㆍ 85.7만 세대 × 4.3만원 = 36,851 백만원\\n나. 동절기바우처 (129,656 백만원 )\\n ㆍ 85.3만 세대 × 15.2만원 = 129,656 백만원\\n다. 연탄쿠폰 (21,712 백만원 )\\n ㆍ 4.6만 세대 × 47.2만원 = 21,712 백만원\\n라. 등유바우처 (1,395 백만원 )\\n ㆍ 0.45만 세대 × 31만원 = 1,395백만원\\n마. 사업운영비 (1,349 백만원 )\\n ㆍ 에너지복지 홍보: 328백만원\\n ㆍ 시스템 고도화 : 520백만원\\n ㆍ 콜센터 운영 : 280백만원\\n ㆍ 패널조사 : 133.5백만원\\n ㆍ 에너지바우처 전달체계 구축 : 37.5백만원\\n ㆍ 주택관리공단 운영지원 : 50백만원685,606○ 민간경상보조 (320-01 ) : 685,606 백만원\\n가. 하절기바우처 (60,950 백만원 )'),\n",
       " Document(metadata={'source': './test_source/산업통상자원부_에너지바우처.pdf', 'page': 5}, page_content='가. 하절기바우처 (60,950 백만원 )\\n ㆍ 115.0만 세대 × 5.3만원 × 100% = 60,950 백만원\\n나. 동절기바우처 (600,521 백만원 )\\n ㆍ (’23확대) 113.1만 세대 × 30.4만원 × 70% = 240,677 백만원\\n ㆍ (’24지원) 114.6만 세대 × 31.4만원 = 359,844 백만원\\n다. 연탄쿠폰 (21,240 백만원 )\\n ㆍ 4.5만 세대 × 47.2만원 = 21,240 백만원\\n라. 등유바우처 (1,023 백만원 )\\n ㆍ 0.33만 세대 × 31만원 = 1,023백만원\\n마. 사업운영비 (1,872 백만원 )\\n ㆍ 에너지복지 홍보: 448백만원\\n ㆍ 시스템 고도화 : 705백만원\\n ㆍ 콜센터 운영 : 502.7백만원\\n ㆍ 패널조사 : 131.7백만원\\n ㆍ 에너지바우처 전달체계 구축 : 34.6백만원\\n ㆍ 주택관리공단 운영지원 : 50백만원')]"
      ]
     },
     "execution_count": 7,
     "metadata": {},
     "output_type": "execute_result"
    }
   ],
   "source": [
    "test_retriver = test_db.as_retriever(search_kwargs={'filter': {'source':test_df.iloc[i]['Source_path']}, 'score_threshold': 0.8, \"k\":3})\n",
    "print(querry)\n",
    "test_retriver.invoke(querry)"
   ]
  },
  {
   "cell_type": "code",
   "execution_count": null,
   "metadata": {},
   "outputs": [
    {
     "data": {
      "text/plain": [
       "[(Document(metadata={'source': './test_source/산업통상자원부_에너지바우처.pdf', 'page': 5}, page_content='3)’24년도 예산안 산출 근거\\n① 하절기바우처 : (‘23) 36,851 백만원 → (’24) 60,950 백만원 (+24,099 백만원 )\\n   *  지원대상 확대(생계·의료→생계·의료·주거·교육)와 전기요금 인상에 따른 증액\\n  - (산출) 85.7만세대 x 4.3만원(‘23년) → 115.0만세대 × 5.3만원(’24년)\\n② 동절기바우처 : (‘23) 129,656 백만원 → (’24) 600,521 백만원 (+470,865 백만원 )\\n   *  지원대상 증가와 난방비 인상에 따른 단가 인상 등 지원규모 확대를 고려한 증액\\n  - (산출) 85.3만 세대 x 15.2만원(‘23년) → ① ‘23년 동절기 지원확대 : 113.1만 세대 x 30.4만원 x 70%, \\n② ‘24년 동절기 지원 : 114.6만 세대 x 31.4만원(’24년)\\n③ 연탄쿠폰 : (‘23) 21,712 백만원 → (’24) 21,240 백만원 (△472백만원 )\\n   * 연탄 소비가구 감소 추세에 따른 감액'),\n",
       "  0.8090853551046263)]"
      ]
     },
     "execution_count": 8,
     "metadata": {},
     "output_type": "execute_result"
    }
   ],
   "source": [
    "test_db.similarity_search_with_relevance_scores(querry, k=10, score_threshold=0.8,filter={'source':test_df.iloc[i]['Source_path']})\n"
   ]
  },
  {
   "cell_type": "code",
   "execution_count": null,
   "metadata": {},
   "outputs": [
    {
     "name": "stdout",
     "output_type": "stream",
     "text": [
      "하절기바우처와 동절기바우처의 2024년 예산 규모는 각각 얼마인가요?\n"
     ]
    },
    {
     "data": {
      "text/plain": [
       "[Document(metadata={'source': './test_source/산업통상자원부_에너지바우처.pdf', 'page': 5}, page_content='3)’24년도 예산안 산출 근거\\n① 하절기바우처 : (‘23) 36,851 백만원 → (’24) 60,950 백만원 (+24,099 백만원 )\\n   *  지원대상 확대(생계·의료→생계·의료·주거·교육)와 전기요금 인상에 따른 증액\\n  - (산출) 85.7만세대 x 4.3만원(‘23년) → 115.0만세대 × 5.3만원(’24년)\\n② 동절기바우처 : (‘23) 129,656 백만원 → (’24) 600,521 백만원 (+470,865 백만원 )\\n   *  지원대상 증가와 난방비 인상에 따른 단가 인상 등 지원규모 확대를 고려한 증액\\n  - (산출) 85.3만 세대 x 15.2만원(‘23년) → ① ‘23년 동절기 지원확대 : 113.1만 세대 x 30.4만원 x 70%, \\n② ‘24년 동절기 지원 : 114.6만 세대 x 31.4만원(’24년)\\n③ 연탄쿠폰 : (‘23) 21,712 백만원 → (’24) 21,240 백만원 (△472백만원 )\\n   * 연탄 소비가구 감소 추세에 따른 감액'),\n",
       " Document(metadata={'source': './test_source/산업통상자원부_에너지바우처.pdf', 'page': 5}, page_content='’23년 예산 ’24년 예산\\n예산 산출내역 예산 산출내역\\n 190,963○ 민간경상보조 (320-01 ) : 190,963 백만원\\n가. 하절기바우처 (36,851 백만원 )\\n ㆍ 85.7만 세대 × 4.3만원 = 36,851 백만원\\n나. 동절기바우처 (129,656 백만원 )\\n ㆍ 85.3만 세대 × 15.2만원 = 129,656 백만원\\n다. 연탄쿠폰 (21,712 백만원 )\\n ㆍ 4.6만 세대 × 47.2만원 = 21,712 백만원\\n라. 등유바우처 (1,395 백만원 )\\n ㆍ 0.45만 세대 × 31만원 = 1,395백만원\\n마. 사업운영비 (1,349 백만원 )\\n ㆍ 에너지복지 홍보: 328백만원\\n ㆍ 시스템 고도화 : 520백만원\\n ㆍ 콜센터 운영 : 280백만원\\n ㆍ 패널조사 : 133.5백만원\\n ㆍ 에너지바우처 전달체계 구축 : 37.5백만원\\n ㆍ 주택관리공단 운영지원 : 50백만원685,606○ 민간경상보조 (320-01 ) : 685,606 백만원\\n가. 하절기바우처 (60,950 백만원 )'),\n",
       " Document(metadata={'source': './test_source/산업통상자원부_에너지바우처.pdf', 'page': 5}, page_content='가. 하절기바우처 (60,950 백만원 )\\n ㆍ 115.0만 세대 × 5.3만원 × 100% = 60,950 백만원\\n나. 동절기바우처 (600,521 백만원 )\\n ㆍ (’23확대) 113.1만 세대 × 30.4만원 × 70% = 240,677 백만원\\n ㆍ (’24지원) 114.6만 세대 × 31.4만원 = 359,844 백만원\\n다. 연탄쿠폰 (21,240 백만원 )\\n ㆍ 4.5만 세대 × 47.2만원 = 21,240 백만원\\n라. 등유바우처 (1,023 백만원 )\\n ㆍ 0.33만 세대 × 31만원 = 1,023백만원\\n마. 사업운영비 (1,872 백만원 )\\n ㆍ 에너지복지 홍보: 448백만원\\n ㆍ 시스템 고도화 : 705백만원\\n ㆍ 콜센터 운영 : 502.7백만원\\n ㆍ 패널조사 : 131.7백만원\\n ㆍ 에너지바우처 전달체계 구축 : 34.6백만원\\n ㆍ 주택관리공단 운영지원 : 50백만원')]"
      ]
     },
     "execution_count": 9,
     "metadata": {},
     "output_type": "execute_result"
    }
   ],
   "source": [
    "test_retriver = test_db.as_retriever(search_kwargs={'filter': {'source':test_df.iloc[i]['Source_path']}, \"k\":3})\n",
    "print(querry)\n",
    "test_retriver.invoke(querry)"
   ]
  },
  {
   "cell_type": "code",
   "execution_count": null,
   "metadata": {},
   "outputs": [
    {
     "data": {
      "text/plain": [
       "[_DocumentWithState(metadata={'source': './test_source/산업통상자원부_에너지바우처.pdf', 'page': 5}, page_content='3)’24년도 예산안 산출 근거\\n① 하절기바우처 : (‘23) 36,851 백만원 → (’24) 60,950 백만원 (+24,099 백만원 )\\n   *  지원대상 확대(생계·의료→생계·의료·주거·교육)와 전기요금 인상에 따른 증액\\n  - (산출) 85.7만세대 x 4.3만원(‘23년) → 115.0만세대 × 5.3만원(’24년)\\n② 동절기바우처 : (‘23) 129,656 백만원 → (’24) 600,521 백만원 (+470,865 백만원 )\\n   *  지원대상 증가와 난방비 인상에 따른 단가 인상 등 지원규모 확대를 고려한 증액\\n  - (산출) 85.3만 세대 x 15.2만원(‘23년) → ① ‘23년 동절기 지원확대 : 113.1만 세대 x 30.4만원 x 70%, \\n② ‘24년 동절기 지원 : 114.6만 세대 x 31.4만원(’24년)\\n③ 연탄쿠폰 : (‘23) 21,712 백만원 → (’24) 21,240 백만원 (△472백만원 )\\n   * 연탄 소비가구 감소 추세에 따른 감액', state={'embedded_doc': [0.039121244102716446, 0.012639015913009644, -0.011476924642920494, -0.02020144648849964, 0.03877473622560501, -0.05134795606136322, -0.01866687275469303, 0.06812097877264023, 0.05506658926606178, -0.009361985139548779, 0.055208753794431686, -0.010476823896169662, -0.05019139125943184, 0.0033026474993675947, -0.05579404532909393, -0.0050392174161970615, -0.010522658936679363, 0.020652512088418007, 0.0325513556599617, -0.01614808663725853, 0.04077121242880821, -0.006576350890100002, -0.030723147094249725, -0.03860112279653549, -0.03398549556732178, -0.010112901218235493, -0.04410845786333084, -0.04387044906616211, 0.009379498660564423, -0.009749877266585827, -0.03471676632761955, -0.012937513180077076, -0.035049621015787125, -0.06323207914829254, -0.03134165704250336, 0.011190168559551239, 0.02086605131626129, 0.021120280027389526, -0.04066935181617737, -0.0016843851190060377, -0.010298567824065685, 0.060986924916505814, -0.024567237123847008, 0.0024351426400244236, -0.0271147433668375, 0.01584075391292572, 0.031794946640729904, -0.023958714678883553, -0.0017001245869323611, 0.014744777232408524, 0.027869179844856262, 0.008020371198654175, -0.0037232914473861456, -0.020567631348967552, 0.0016159757506102324, 0.04681706801056862, -0.05157671496272087, -9.428161138202995e-05, -0.05555544048547745, -0.004903948865830898, -0.028068907558918, -0.002688825596123934, 0.018669595941901207, -0.03173673897981644, -0.015506858937442303, 0.017607588320970535, 0.05625344440340996, 0.01568055897951126, -0.03779265657067299, 0.04976600408554077, -0.02031647227704525, 0.003979161847382784, -0.002879438688978553, -0.01936485432088375, -0.05130959302186966, 0.0014213069807738066, 0.05528104677796364, 0.0035387598909437656, 0.02233835868537426, -0.01287125051021576, 0.04062233865261078, -0.04337237775325775, 0.017440157011151314, -0.022924380376935005, 0.013076958246529102, 0.007709320168942213, 0.06794428825378418, 0.05228634551167488, 0.003938328009098768, 0.04995124787092209, -0.017594026401638985, 0.008921225555241108, 0.012326039373874664, 0.011325090192258358, -0.03630921617150307, 0.022530781105160713, 0.007878528907895088, 0.002238796791061759, -0.004579613450914621, 0.004506948869675398, 0.02258417382836342, 0.00356232188642025, 0.03517505154013634, -0.032035015523433685, -0.047396570444107056, 0.035395748913288116, 0.012191440910100937, 0.01733614131808281, 0.0048905364237725735, 0.023088989779353142, 0.013819310814142227, 0.042470645159482956, 0.004396190866827965, -0.011535410769283772, -0.047761715948581696, 0.03173360228538513, -0.02878522127866745, -0.050442297011613846, -0.013728010468184948, 0.04575880616903305, 0.056535687297582626, 0.010653131641447544, -0.00010704166925279424, -0.0481671579182148, 0.0467459112405777, -0.005150460638105869, 0.014960095286369324, 0.03347416967153549, -0.02710777148604393, 0.030496928840875626, 0.03792884573340416, 0.023112813010811806, -0.009064325131475925, -0.016177937388420105, -0.041462939232587814, -0.03114619106054306, 0.002900680061429739, -0.039826616644859314, 0.007893329486250877, 0.010325511917471886, -0.004665303975343704, 0.016592152416706085, 0.03953324630856514, -0.033822089433670044, -0.0159876998513937, -0.03932781517505646, 0.008327031508088112, -0.019600631669163704, -0.0036844962742179632, -0.01384669914841652, 0.02917744405567646, -0.018006667494773865, -0.011624774895608425, -0.0037665630225092173, 0.041701484471559525, -0.033790912479162216, 0.0358537882566452, 0.023992184549570084, 0.013249492272734642, -0.036963626742362976, -0.03633115440607071, -0.04746821150183678, -0.027422545477747917, -0.06618490815162659, -0.008545920252799988, -0.02305157296359539, 0.022959506139159203, 0.01777110993862152, 0.028888652101159096, -0.017055807635188103, -0.008410336449742317, -0.042019620537757874, 0.02036217413842678, -0.05045061931014061, 0.011123147793114185, 0.0143718421459198, 0.012196552008390427, 0.045711204409599304, -0.013258960098028183, -0.01308906264603138, 0.020578276365995407, 0.008825905621051788, 0.044589076191186905, 0.005775506142526865, -0.006246600300073624, 0.027211826294660568, 0.017782816663384438, 0.013209410011768341, 0.026630844920873642, 0.05223597213625908, 0.021175339818000793, -0.01926317811012268, -0.03135407343506813, 0.042206279933452606, -0.037205521017313004, 0.02446672134101391, 0.03360814228653908, -0.0174334105104208, -0.016611628234386444, -0.004653321113437414, 0.016587166115641594, 0.011880284175276756, -0.0427682101726532, 0.005284015089273453, 0.02168523520231247, -0.02323243021965027, -0.054211217910051346, -0.009271283634006977, 0.02988779917359352, -0.06475033611059189, -0.10463586449623108, -0.011955811642110348, 0.04211920499801636, 0.04889316111803055, -0.023045675829052925, -0.04169037193059921, -0.004888657480478287, -0.03736954927444458, 0.03069479390978813, -0.003751299809664488, -0.013217533938586712, 0.025256864726543427, -0.006680751219391823, 0.024664180353283882, 0.01360352709889412, 0.025623755529522896, -0.011938270181417465, 0.023108217865228653, 0.03024745173752308, 0.011395919136703014, 0.018500279635190964, 0.012998225167393684, -0.04789131134748459, -0.04271816462278366, 0.019355537369847298, -0.006720504257827997, -0.02476079948246479, 0.009317010641098022, 0.01244178507477045, 0.030776754021644592, -0.041201796382665634, -0.009406748227775097, 0.015283023938536644, -0.027368389070034027, -0.017731716856360435, -0.004178069531917572, -0.001485765678808093, -0.0038700278382748365, 0.005544754210859537, -0.045573052018880844, 0.03376319259405136, -0.0007998350774869323, -0.022776911035180092, 0.0005658120498992503, 0.009856735356152058, 0.04643769934773445, 0.008114847354590893, 0.007085003890097141, -0.0011297543533146381, -0.05797979235649109, 0.041530899703502655, 0.0019447243539616466, 0.007091250270605087, 0.04220936447381973, 0.008217282593250275, 0.000642351689748466, -0.017065906897187233, -0.008469984866678715, -0.011716147884726524, -0.07309042662382126, -0.03458300232887268, -0.03161587566137314, -0.05442526936531067, -0.02414730191230774, -0.006375425029546022, 0.003203857922926545, -0.029193619266152382, -0.02772393263876438, 0.008915579877793789, 0.02925325185060501, 0.019832957535982132, 0.0013276669196784496, 0.02288200706243515, -0.02976834401488304, -0.009539182297885418, -0.021266931667923927, 0.019718768075108528, -0.01999618113040924, -0.003297656774520874, -0.015051329508423805, 0.006900169886648655, 0.005021741613745689, 0.11364675313234329, 0.02598160319030285, 0.013076654635369778, 0.023429302498698235, -0.036337967962026596, -0.11328942328691483, -0.013848387636244297, 0.04538203775882721, -0.004309750162065029, -0.024983346462249756, 0.04717520996928215, 0.016870250925421715, -0.04014209285378456, -0.007182701490819454, 0.0023412720765918493, -0.0030420369002968073, -0.07099076360464096, 0.032812099903821945, 0.04457695782184601, 0.01652093417942524, 0.019924761727452278, -0.034153323620557785, -0.0041063143871724606, -0.03016253374516964, -0.030747445300221443, 0.02058357000350952, -0.0499640516936779, 0.0007068002014420927, -0.04246745631098747, -0.051316116005182266, -0.024232851341366768, 0.0323578380048275, 0.0443333238363266, -0.006300835404545069, 0.01998920924961567, -0.014420022256672382, 0.023965314030647278, 0.0045016733929514885, 0.05109929293394089, -0.041908662766218185, 0.011931291781365871, 0.048966579139232635, -0.014857819303870201, 0.01713571324944496, -0.038966283202171326, 0.017516493797302246, 0.03588992357254028, 0.0006890076911076903, 0.03776000067591667, 0.012260442599654198, -0.0155093465000391, -0.04635665565729141, 0.028379028663039207, -0.05597759038209915, 0.0020672830287367105, -0.024578051641583443, 0.05257747322320938, 0.02337971329689026, -0.002927773632109165, -0.009953705593943596, -6.37363555142656e-05, -0.011889489367604256, 0.004722913261502981, 0.06787668913602829, 0.008755308575928211, -0.029056889936327934, 0.0464642308652401, -0.037155430763959885, 0.045160241425037384, -0.021364374086260796, 0.0458163283765316, -0.021767375990748405, -0.004029904957860708, 0.0010326066985726357, 0.010309580713510513, -0.023469999432563782, -0.03561773896217346, -0.015519441105425358, 0.03944103792309761, 0.0432889461517334, -0.008104834705591202, 0.0066565945744514465, -0.023269908502697945, 0.030715186148881912, -0.09246419370174408, -0.010882152244448662, 0.029556529596447945, -0.016218014061450958, -0.027148036286234856, -0.012780054472386837, -0.00421913480386138, -0.042650651186704636, -0.04425998777151108, -0.05428704619407654, 0.1863981932401657, 0.013882585801184177, 0.074092797935009, -0.035028453916311264, 0.00015818212705198675, 0.016437619924545288, -0.013325686566531658, 0.00981107447296381, 0.009504249319434166, 0.046366866677999496, -0.037730470299720764, 0.02232968807220459, 0.03548489511013031, -0.020561954006552696, 0.03409220650792122, 0.041650544852018356, 0.010872304439544678, 0.03630293533205986, 0.03658727928996086, 0.02251105196774006, 0.0361354798078537, -0.05438489466905594, -0.016698982566595078, 0.03664422780275345, -0.07064049690961838, -0.015543442219495773, 0.0030025916639715433, 0.032519567757844925, -0.03318682312965393, 0.01921568252146244, -0.03306720033288002, -0.010906639508903027, -0.03956490382552147, -0.030636262148618698, 0.011943409219384193, 0.06144947186112404, 0.03536440059542656, -0.007988214492797852, 0.02954229898750782, 0.011959575116634369, -0.0403669998049736, 0.009906971827149391, -0.01246695313602686, 0.038087841123342514, -0.012557844631373882, 0.01946081966161728, 0.03982459381222725, -0.034865040332078934, -0.004647823981940746, 0.001012621563859284, 0.011248872615396976, 0.03742394223809242, -0.01523055974394083, -0.0029985392466187477, -0.03726513311266899, -0.03923528641462326, -0.04290936887264252, -0.03471981734037399, -0.019002191722393036, 0.02674912102520466, 0.019207308068871498, -0.024076879024505615, -0.02106245793402195, -0.012399042025208473, 0.05046019330620766, 0.017371736466884613, -0.030303603038191795, -0.028595874086022377, -0.03444603830575943, -0.028028864413499832, -0.06880393624305725, -0.02531522698700428, -0.005384323187172413, -0.009439866989850998, 0.004033059813082218, -0.01967575214803219, -0.018863605335354805, 0.04571012035012245, 0.012766735628247261, -0.017527233809232712, -0.016803739592432976, -0.02652180939912796, -0.043565794825553894, 0.007456441875547171, 0.012043618597090244, 0.015711694955825806, 0.017408005893230438, 0.02466137893497944, -0.027205662801861763, 0.0013042413629591465, 0.035376984626054764, 0.023286405950784683, 0.017451342195272446, 0.023675505071878433, 0.003964995965361595, -0.0626303032040596, 0.027824463322758675, 0.008521023206412792, -0.01695743016898632, 0.014980628155171871, 0.01948966085910797, -0.020978284999728203, -0.008306952193379402, -0.02355554699897766, 0.01628171280026436, -0.016015253961086273, 0.03305264562368393, 0.020008662715554237, 0.009482717141509056, -0.0005806487170048058, 0.029784373939037323, -0.006829114630818367, 0.02176804654300213, -0.03731439262628555, 0.05296560004353523, -0.013788226060569286, 0.03161568567156792, -0.04247555136680603, 0.02468075416982174, 0.046217676252126694, 0.005388851277530193, 0.03216218203306198, -0.07044865190982819, 0.044464003294706345, -0.01798245683312416, 0.039080943912267685, -0.022305309772491455, -0.030753426253795624, 0.07801075279712677, 0.01222738903015852, 0.014702679589390755, -0.006660485174506903, -0.03936419636011124, 0.04285662993788719, 0.010558095760643482, -0.0049439165741205215, 0.034670691937208176, -0.011167919263243675, -0.030217284336686134, 0.0019445099169388413, -0.005317279137670994, 0.029644720256328583, -0.02738158032298088, -0.01068846695125103, 0.011546147987246513, 0.008863367140293121, -0.05942760407924652, -0.051552027463912964, -0.01376350224018097, -0.016630887985229492, 0.01926242746412754, -0.02166408859193325, 0.03872666507959366, 0.010005315765738487, -0.02587396651506424, -0.05401935800909996, 0.024628525599837303, 0.021308496594429016, 0.04821876063942909, 0.008101483806967735, -0.04062798246741295, 0.0013766181655228138, -0.01543988473713398, 0.10604679584503174, 0.02054879628121853, 0.0642877146601677, -0.02256750501692295, 0.025178976356983185, 0.05502038076519966, 0.034853171557188034, -0.02989879436790943, -0.0448545403778553, 0.025198593735694885, -0.005393696017563343, 0.03279474005103111, -0.040049463510513306, -0.01155963633209467, 0.035511888563632965, -0.04389543831348419, -0.00540779298171401, -0.011352870613336563, 0.011786011978983879, 0.06379876285791397, -0.026700232177972794, -0.01998644322156906, -0.00810755044221878, 0.007862618193030357, -0.034593433141708374, -0.04072653129696846, 0.006778724025934935, -0.0051726181991398335, 0.0791514664888382, -0.03933011740446091, 0.009044012986123562, -0.04410206899046898, 0.009064997546374798, -0.010174543596804142, 0.035260871052742004, -0.0024708884302526712, -0.025215324014425278, -0.010937261395156384, -0.013412583619356155, -0.0007963718962855637, -0.017360582947731018, -0.033018387854099274, -0.0324450321495533, -0.006898116320371628, 0.01682494394481182, 0.031863983720541, -0.012728279456496239, -0.01033208891749382, -0.006429576780647039, 0.027518855407834053, 0.02611117623746395, 0.03187450021505356, 0.025624891743063927, 0.003889296902343631, 0.046890340745449066, 0.006547707132995129, -0.015805482864379883, 0.019758163020014763, 0.029215168207883835, 0.01221628487110138, -0.04117651656270027, -0.03148972988128662, 0.0033758487552404404, 0.012717419303953648, 0.034281350672245026, -0.01406900491565466, -0.016762470826506615, 0.006962008308619261, -0.05237594619393349, 0.01296220626682043, -0.03164758160710335, -0.04638194292783737, -0.011383332312107086, 0.024617666378617287, 0.017308220267295837, 0.018691761419177055, -0.02935582399368286, 0.0003871398512274027, -0.0013578749494627118, -0.008393293246626854, 0.0158701092004776, 0.006981919053941965, -0.010869537480175495, -0.056323081254959106, 0.013868248090147972, 0.04704318195581436, 0.004849417135119438, -0.006566074676811695, -0.057632263749837875, 0.018725290894508362, 0.07517503201961517, -0.017624326050281525, -0.023136960342526436, 0.026547612622380257, -0.02393864095211029, -0.04760332033038139, -0.06442181766033173, 0.022619623690843582, 0.017552129924297333, 0.0011910058092325926, 0.01612827554345131, -0.01921261101961136, 0.008060126565396786, 0.0213104709982872, -0.012903966009616852, -0.011927901767194271, -0.05977721884846687, 0.03951244801282883, -0.04921862855553627, -0.038876503705978394, -0.07372377812862396, 0.0666278824210167, 0.02048318088054657, -0.07322420179843903, -0.02627486176788807, -0.025310710072517395, -0.017967715859413147, -0.010259594768285751, 0.06550662964582443, 0.025516783818602562, 0.004349638242274523, 0.010602207854390144, 0.05126442760229111, -0.028471002355217934, 0.034972988069057465, 0.015961455181241035, -0.03141477704048157, -0.05208143964409828, 0.012992430478334427, -0.035589639097452164, -0.0034385216422379017, -0.04501040652394295, -0.029272262006998062, -0.053976304829120636, -0.046265386044979095, -0.0028054886497557163, -0.04157543182373047, 0.022341540083289146, -0.008999359793961048, -0.05835774540901184, -0.023615097627043724, 0.009118498302996159, 0.005230864975601435, -0.021731870248913765, -0.018413275480270386, 0.024849524721503258, 0.05238610506057739, -0.04454141482710838, -0.04624707251787186, 0.04278377816081047, 0.016828978434205055, -0.0009379257680848241, 0.027393005788326263, 0.011185206472873688, 0.015429142862558365, -0.02096761204302311, 0.04138864576816559, -0.046213530004024506, -0.00361583917401731, -0.021846843883395195, 0.018286319449543953, 0.030808450654149055, 0.03508572652935982, 0.06634600460529327, 0.020771654322743416, 0.0014149791095405817, 0.04437793418765068, -0.016186026856303215, -0.0030071637593209743, -0.05627990514039993, -0.0184040367603302, -0.03425680100917816, -0.04718063771724701, -0.017765741795301437, 0.0006769387982785702, -0.022994389757514, -0.027803834527730942, -0.035732001066207886, 0.006972290575504303, 0.041371915489435196, 0.004841998685151339, 0.05998779088258743, 0.01894749514758587, -0.00476539321243763, 0.011764026246964931, -0.010972927324473858, -0.013175694271922112, -0.021334882825613022, 0.03790782019495964, -0.026213867589831352, -0.0196282509714365, -0.0473896823823452, 0.033645860850811005, -0.014812415465712547, 0.022401193156838417, 0.010914732702076435, -0.02127358689904213, -0.02332060970366001, -0.011617033742368221, 0.003659897716715932, -0.0011142806615680456, -0.048058342188596725, 0.02574361115694046, -0.013143829070031643, 0.037113361060619354, -0.028147893026471138, 0.008052307181060314, -0.019273953512310982, 0.021618779748678207, -0.042551252990961075, -0.014266995713114738, -0.03151688724756241, 0.02434014156460762, -0.026259295642375946, -0.02445998042821884, 0.01627422869205475, 0.028073180466890335, -0.0014174454845488071, -0.03627682104706764, -0.013835614547133446, -0.005607583560049534, 0.011292273178696632, 0.011093328706920147, -0.006145171355456114, 0.007881922647356987, 0.034633733332157135, 0.029932532459497452, -0.01269401703029871, 0.04438033327460289, -0.06029067561030388, -0.03522939234972, -0.08872444182634354, 0.011881448328495026, -0.0013229208998382092, -0.020477065816521645, -0.056705597788095474, -0.030144311487674713, -0.03656419739127159, 0.0326167456805706, 0.04270618036389351, -0.006838746834546328, 0.003590319072827697, 0.008465117774903774, 0.029240572825074196, 0.008932078257203102, 0.02667837217450142, 0.0372517965734005, 0.03689195215702057, 0.009693397209048271, -0.027929389849305153, 0.0074477302841842175, -0.008816782385110855, -0.05519375950098038, 0.00397498719394207, -0.010406067594885826, 0.03610503301024437, 0.01761680282652378, 0.04646822810173035, 0.001274848124012351, -0.027100354433059692, -0.06646280735731125, -0.03369639813899994, -0.00606509018689394, 0.02546858601272106, 0.026436379179358482, -0.047766368836164474, 0.021468667313456535, 0.005789700895547867, -0.006871422287076712, -0.0057979472912848, 0.033715616911649704, -0.02425452694296837, 0.025490567088127136, -0.03136073797941208, 0.0054513392969965935, -0.0359053909778595, 0.06547427177429199, 0.021346542984247208, -0.03005295991897583, 0.036263469606637955, -0.043901022523641586, -0.02176089957356453, -0.01584525592625141, 0.009675940498709679, 0.03407183662056923, 0.007586817257106304, 0.04973979666829109, 0.06375984847545624, -0.035742729902267456, 0.015003496780991554, 0.03068789280951023, 0.01094252709299326, -0.04281190410256386, -0.029415467754006386, -0.013780518434941769, -0.0014442949322983623, 0.013477279804646969, -0.05129898712038994, -0.003913094289600849, -0.006002764217555523, 0.032255273312330246, -0.0039251116104424, -0.0030078492127358913, 0.010729912668466568, 0.01633332297205925, 0.023173019289970398, -0.03206227347254753, 0.013928270898759365, 0.016572866588830948, 0.0032975589856505394, 0.013809057883918285, -0.029086943715810776, -0.030813414603471756, 0.029989834874868393, -0.03575984761118889, -0.02590395323932171, 0.014922400936484337, -0.013135629706084728, -0.0416051521897316, -0.04169650003314018, 0.03827788680791855, -0.026006337255239487, -0.0009876502444967628, -0.01563277095556259, -0.0179616566747427, -0.01352827437222004, -0.004425210412591696, -0.06553438305854797, -0.033871203660964966, 0.024535879492759705, -0.0038731060922145844, 0.025503771379590034, -0.010361600667238235, -0.01573098637163639, 0.0012948592193424702, -0.0038823322393000126, 0.05179726704955101, 0.03342786058783531, -0.03728509694337845, 0.017291074618697166, -0.06658578664064407, -0.07241975516080856, -0.0225807037204504, -0.035476844757795334, -0.03613695129752159, -0.04124140366911888, 0.0006596049061045051, 0.007829437032341957, 0.021074093878269196, -0.009986124001443386, 0.03129277378320694, -0.015653297305107117, -0.03964758664369583, 0.02831612154841423, -0.02753930538892746, 0.03258209675550461, -0.019624274224042892, 0.00995314959436655, -0.04204878211021423, 0.022283244878053665, -0.018699755892157555, 0.0316496267914772, -0.0459468699991703, 0.022468196228146553, 0.023099252954125404, -0.012021713890135288, -0.019572114571928978, -0.011795958504080772, 0.10254457592964172, 0.013966125436127186, 0.015467445366084576, 0.016051048412919044, -0.015829559415578842, -0.01266541052609682, -0.01322145015001297, -0.023530056700110435, 0.011397546157240868, -0.020125413313508034, -0.04816058278083801, -0.01025682408362627, -0.02437582239508629, 0.008190179243683815, -0.01233095396310091, -0.018664969131350517, 0.020064273849129677, 0.009011417627334595, 0.03273165971040726, 0.031307391822338104, -0.04085009917616844, -0.005256503354758024, 0.03372786194086075, 0.00655617518350482, 0.004513935651630163, -0.005209363531321287, 0.06254766136407852, -0.009014083072543144, -0.028041034936904907, 0.01227736659348011, 0.035824086517095566, -0.020845551043748856, -0.047399818897247314, 0.008076092228293419, 0.033553075045347214, -0.05579438805580139, 0.04769155755639076, 0.016352523118257523, 0.033228304237127304, 0.06043178215622902, -0.015473244711756706, 0.06766378879547119, 0.05315794795751572, 0.012232722714543343, 0.021372763440012932, -0.012349623255431652, 0.01398109644651413, 0.04278000444173813, 0.031867679208517075, 0.04928024113178253, 0.005457769148051739, -0.039085399359464645, 0.0031413070391863585, -0.021742871031165123, 0.010164732113480568, -0.008896858431398869, 0.05060669407248497, 0.03845168277621269, -0.014614946208894253, -0.0007595136994495988, 0.0057352446019649506, -0.01218323688954115, -0.00034612073795869946, 0.012957311235368252, -0.01786397024989128, 0.004509559832513332, -0.009619902819395065, -0.029829738661646843, -0.02755546197295189, -0.024107778444886208, -0.007832302711904049, -0.010995706543326378, 0.015183237381279469, 0.05545007809996605, -0.03360173851251602, 0.024290475994348526, 0.03662153333425522, 0.009852727875113487, 0.004331908654421568, 0.015079356729984283, -0.01715790666639805, 0.00033784215338528156, 0.01349547877907753, 0.023272404447197914, 0.026269273832440376, -0.015241410583257675, -0.02971336618065834, -0.021353593096137047, -0.010284733958542347, -0.019401129335165024, 0.006292745005339384, -0.00533907487988472, -0.04993143677711487, -0.004934409633278847, 0.023876933380961418, 0.009943285956978798, -0.021588483825325966, -0.008018664084374905, -0.02609632909297943, 0.015010116621851921, -0.01959225907921791, -0.004069225862622261, 0.04752282053232193, 0.024039877578616142, -0.01279105432331562, -0.026454411447048187, 0.02203269675374031], 'query_similarity_score': 0.8650029583689931}),\n",
       " _DocumentWithState(metadata={'source': './test_source/산업통상자원부_에너지바우처.pdf', 'page': 5}, page_content='’23년 예산 ’24년 예산\\n예산 산출내역 예산 산출내역\\n 190,963○ 민간경상보조 (320-01 ) : 190,963 백만원\\n가. 하절기바우처 (36,851 백만원 )\\n ㆍ 85.7만 세대 × 4.3만원 = 36,851 백만원\\n나. 동절기바우처 (129,656 백만원 )\\n ㆍ 85.3만 세대 × 15.2만원 = 129,656 백만원\\n다. 연탄쿠폰 (21,712 백만원 )\\n ㆍ 4.6만 세대 × 47.2만원 = 21,712 백만원\\n라. 등유바우처 (1,395 백만원 )\\n ㆍ 0.45만 세대 × 31만원 = 1,395백만원\\n마. 사업운영비 (1,349 백만원 )\\n ㆍ 에너지복지 홍보: 328백만원\\n ㆍ 시스템 고도화 : 520백만원\\n ㆍ 콜센터 운영 : 280백만원\\n ㆍ 패널조사 : 133.5백만원\\n ㆍ 에너지바우처 전달체계 구축 : 37.5백만원\\n ㆍ 주택관리공단 운영지원 : 50백만원685,606○ 민간경상보조 (320-01 ) : 685,606 백만원\\n가. 하절기바우처 (60,950 백만원 )', state={'embedded_doc': [0.03611057996749878, 0.00969953928142786, -0.01980813778936863, -0.021025318652391434, 0.02601585164666176, -0.0486854650080204, -0.023807208985090256, 0.07035156339406967, 0.0519096702337265, -0.01707775704562664, 0.05505887046456337, 0.0018075074767693877, -0.04886453598737717, 0.006377411540597677, -0.04429744556546211, -0.010238652117550373, -0.01238265261054039, 0.03481123968958855, 0.016336744651198387, 0.0010261709103360772, 0.054073408246040344, -0.005364983342587948, -0.029804464429616928, -0.029640287160873413, -0.03246505185961723, -0.024485597386956215, -0.032827623188495636, -0.02522263117134571, -0.00810095015913248, -0.013215477578341961, -0.011739807203412056, -0.010163680650293827, -0.0301600880920887, -0.053995367139577866, -0.028888724744319916, 0.010620295070111752, 0.03479435667395592, 0.010712205432355404, -0.037962306290864944, 0.014124070294201374, -0.004927597474306822, 0.04803015664219856, -0.005863741040229797, 0.01114828884601593, -0.022181393578648567, 0.005333800800144672, 0.03307526931166649, -0.02099652588367462, -0.009178667329251766, 0.016733326017856598, 0.0327131412923336, 0.007821012288331985, -0.020481226965785027, -0.019932527095079422, 0.005592325236648321, 0.03001847118139267, -0.04801873862743378, -0.00846916064620018, -0.053071267902851105, 0.0062378644943237305, -0.028971852734684944, -0.007512209936976433, 0.022274238988757133, -0.03572839871048927, -0.022493232041597366, 0.02521679736673832, 0.04998786374926567, 0.02110474370419979, -0.03526649624109268, 0.035794902592897415, -0.016732458025217056, -0.0007815537392161787, -0.0059781731106340885, -0.029188282787799835, -0.05081936717033386, 0.006405651103705168, 0.04242093488574028, -0.010446441359817982, 0.04071812704205513, -0.021452922374010086, 0.05762713402509689, -0.047382455319166183, 0.023581579327583313, -0.023852810263633728, 0.014321371912956238, 0.02764616534113884, 0.06365548819303513, 0.0464128702878952, 0.016949905082583427, 0.05178815498948097, -0.014930624514818192, 0.011603220365941525, 0.018671641126275063, 0.014658843167126179, -0.03994441777467728, 0.013470660895109177, 0.012696588411927223, -0.011071338318288326, -0.024522006511688232, -0.003944292664527893, 0.0028056201990693808, -0.003979820292443037, 0.018861249089241028, -0.02848842181265354, -0.05530286207795143, 0.02580304443836212, 0.017883410677313805, 0.016482066363096237, 0.01076149009168148, 0.02237258292734623, 0.010120373219251633, 0.06093410775065422, 0.007721403613686562, -0.008886320516467094, -0.03485694155097008, 0.02696668542921543, -0.03695112094283104, -0.03412448614835739, -0.016336984932422638, 0.03346511349081993, 0.04185006022453308, 0.0018011138308793306, -0.005901455879211426, -0.047777120023965836, 0.045232534408569336, -0.02645907737314701, 0.023519419133663177, 0.030926117673516273, -0.028825335204601288, 0.024478968232870102, 0.029540063813328743, 0.04817911237478256, -0.01223726011812687, -0.009213040582835674, -0.04664791002869606, -0.03273915871977806, 0.009348813444375992, -0.03764474391937256, -0.0015706465346738696, 0.017154866829514503, -0.00033415990765206516, 0.016742955893278122, 0.039827048778533936, -0.031250130385160446, -0.03285444900393486, -0.04388449713587761, -0.004443022888153791, -0.0019173556938767433, 0.00866989977657795, -0.02211843989789486, 0.026149796321988106, 0.00028494413709267974, -0.02103188820183277, -0.0012631014687940478, 0.04941466823220253, -0.023577775806188583, 0.031990502029657364, 0.020908979699015617, 0.00843330379575491, -0.03159813582897186, -0.017426112666726112, -0.03517141565680504, -0.03487100452184677, -0.0628238394856453, -0.020321277901530266, -0.0192122645676136, 0.010797474533319473, 0.013841258361935616, 0.01367274671792984, -0.019404472783207893, -0.006318626459687948, -0.033586811274290085, 0.015117895789444447, -0.04340360313653946, -0.009772125631570816, 0.013210879638791084, 0.012249825522303581, 0.047633904963731766, -0.018321242183446884, -0.012477572076022625, 0.010411469265818596, 0.019579298794269562, 0.04032493755221367, -0.0033848490566015244, -0.018141979351639748, 0.02248511277139187, 0.03441353142261505, 0.01767863892018795, 0.044736091047525406, 0.06814264506101608, 0.024619394913315773, -0.02788476087152958, -0.03727194666862488, 0.035257287323474884, -0.03139747679233551, 0.0293183121830225, 0.019291482865810394, -0.006851715035736561, -0.029020244255661964, -0.004488313104957342, 0.020593758672475815, 0.01174321211874485, -0.023089926689863205, -0.012194128707051277, 0.0173751600086689, -0.03170425444841385, -0.05289570242166519, -0.00403997115790844, 0.0300043523311615, -0.07649467140436172, -0.09885912388563156, -0.017756763845682144, 0.028025198727846146, 0.0284569188952446, -0.029662393033504486, -0.03639048710465431, -0.011305521242320538, -0.0467904731631279, 0.04048794507980347, -0.0069217500276863575, -0.015894584357738495, 0.035658933222293854, 0.0022261072881519794, 0.03186088800430298, 0.012816461734473705, 0.03943580016493797, -0.0344751700758934, 0.039679985493421555, 0.03123454377055168, 0.029826480895280838, 0.028640341013669968, 0.020223811268806458, -0.05454699322581291, -0.035717666149139404, 0.007668208796530962, -0.004302326124161482, -0.038065940141677856, -0.002335135592147708, 0.016786683350801468, 0.03226207569241524, -0.04474874585866928, 0.008700776845216751, 0.023038271814584732, -0.023263894021511078, -0.02164294198155403, 0.0013693704968318343, 0.0009854851523414254, 0.0012645234819501638, -0.006407844368368387, -0.0469195656478405, 0.029958471655845642, 0.0024121683090925217, -0.023353615775704384, -0.0015036753611639142, 0.0027809019666165113, 0.04628009349107742, 0.008892648853361607, 0.004261531867086887, -0.0029359653126448393, -0.03794434294104576, 0.01638605073094368, 0.01410513836890459, 0.0009604837978258729, 0.037585556507110596, 0.010881450958549976, 0.014955527149140835, 0.00016691352357156575, -0.01455150917172432, -0.02052648551762104, -0.0715612843632698, -0.05382417514920235, -0.028623655438423157, -0.055809058248996735, -0.024958377704024315, -0.013841060921549797, 0.0006364143919199705, -0.024787787348031998, -0.01296811643987894, -0.00682820612564683, -0.007182085420936346, 0.009107706137001514, 0.005575860850512981, 0.02239896170794964, -0.03227142617106438, 0.002073554554954171, -0.007764641661196947, 0.007307983003556728, -0.01045679859817028, 0.0023341316264122725, -0.019425325095653534, 0.003623279044404626, 0.005004168953746557, 0.10696348547935486, 0.027748361229896545, 0.010441923514008522, 0.023660508915781975, -0.03966158628463745, -0.09494069963693619, -0.011291487142443657, 0.033444859087467194, -0.006972183473408222, -0.014898063614964485, 0.04756397008895874, -0.00370705290697515, -0.0501415953040123, -0.007992149330675602, -0.004325835034251213, -0.011305101215839386, -0.07248403131961823, 0.03083641640841961, 0.03814288601279259, 0.008409732021391392, 0.011539570987224579, -0.03419411554932594, -0.015303793363273144, -0.027966799214482307, -0.018231187015771866, 0.030669890344142914, -0.03520049899816513, 0.014889247715473175, -0.039182983338832855, -0.05138229951262474, -0.03341912478208542, 0.028167596086859703, 0.01143970713019371, -0.007983454503118992, 0.01628866046667099, -0.015528884716331959, 0.026731619611382484, 0.0036985836923122406, 0.049333322793245316, -0.03427030146121979, 0.0054936036467552185, 0.06549524515867233, -0.014233625493943691, 0.03211422637104988, -0.037060998380184174, 0.00668818224221468, 0.03374981880187988, -0.0031398218125104904, 0.04027388244867325, 0.006392689421772957, -0.01577722653746605, -0.04076048731803894, 0.024544689804315567, -0.049739424139261246, -0.010872768238186836, -0.032360780984163284, 0.04826682060956955, 0.01930617168545723, -0.017095524817705154, -0.007747951429337263, 0.004986844025552273, -0.008154797367751598, 0.0018677847692742944, 0.05480777472257614, 0.03094259463250637, -0.0324200801551342, 0.033909350633621216, -0.03574845939874649, 0.03914699703454971, -0.024063890799880028, 0.04464082419872284, -0.01282845251262188, 0.0010173020418733358, -0.007759184576570988, 0.015522552654147148, -0.02878224477171898, -0.06456604599952698, -0.009937078692018986, 0.034978847950696945, 0.045738235116004944, -0.01013416051864624, -0.01107691042125225, -0.01169899757951498, 0.03174612671136856, -0.09662093967199326, -0.004760954063385725, 0.04038310796022415, -0.009657165966928005, -0.020176416262984276, -0.025057153776288033, -0.016117220744490623, -0.043573882430791855, -0.046642180532217026, -0.04851037263870239, 0.19937337934970856, 0.007062410935759544, 0.09604949504137039, -0.01922450214624405, -0.0028909845277667046, 0.006434592418372631, -0.020066654309630394, 0.0031566256657242775, -0.0018894291715696454, 0.05677728354930878, -0.03480721265077591, 0.02720428630709648, 0.029397370293736458, -0.016093097627162933, 0.04119624197483063, 0.02442064881324768, 0.0078109800815582275, 0.04027595371007919, 0.031009767204523087, 0.0322318859398365, 0.04957550764083862, -0.03654962405562401, -0.014877219684422016, 0.031763769686222076, -0.07099537551403046, -0.03487897291779518, 0.007285724394023418, 0.02815263532102108, -0.0337415374815464, 0.03492382541298866, -0.02205965481698513, 0.0022232881747186184, -0.031306348741054535, -0.026693349704146385, 0.006236535031348467, 0.05873147398233414, 0.02597547508776188, -0.008377431891858578, 0.04393093287944794, 0.007961452938616276, -0.01589277945458889, -0.0008563895826227963, -0.013564864173531532, 0.026883520185947418, -0.037830110639333725, 0.03005656599998474, 0.0431634746491909, -0.044068142771720886, -0.002963538048788905, 0.0032432086300104856, 0.02374124526977539, 0.04099147766828537, -0.019255535677075386, -0.01831709034740925, -0.036808840930461884, -0.027573218569159508, -0.0240036491304636, -0.05014313757419586, -0.009766858071088791, 0.023928089067339897, 0.028148215264081955, -0.033783186227083206, -0.03841308504343033, -0.027284450829029083, 0.03567134588956833, -0.0033564381301403046, -0.036886073648929596, -0.030305098742246628, -0.025349384173750877, -0.037098705768585205, -0.0452999584376812, -0.03790935501456261, -0.020079728215932846, 0.0009521552128717303, 0.003917248919606209, -0.02225172519683838, -0.03277595341205597, 0.050272561609745026, 0.016546716913580894, -0.01769603230059147, -0.0009941415628418326, -0.02157929539680481, -0.04895201697945595, 0.014180248603224754, 0.024061331525444984, 0.011227122507989407, 0.015918459743261337, 0.010554605163633823, -0.02328646183013916, 0.016270533204078674, 0.0337451808154583, 0.016880659386515617, 0.022589100524783134, 0.04297881945967674, -0.001299298950470984, -0.06378743797540665, 0.020186059176921844, 0.00858698133379221, -0.02057809568941593, 0.011145210824906826, 0.03927220404148102, -0.004423499573022127, -0.01472994964569807, -0.018506374210119247, 0.00751772616058588, -0.0024785229470580816, 0.014414488337934017, 0.019460977986454964, -0.007263185456395149, -0.011613070964813232, 0.03598983213305473, -0.0009991171536967158, 0.0049881902523338795, -0.04434669017791748, 0.062396787106990814, -0.00018594981520436704, 0.02240542694926262, -0.05168304964900017, 0.024638643488287926, 0.03743515536189079, 0.0031055514700710773, 0.023717684671282768, -0.051310159265995026, 0.0468321368098259, -0.029145143926143646, 0.0490901879966259, -0.043324459344148636, -0.02228308469057083, 0.06326588988304138, 0.024462811648845673, 0.0036022686399519444, -0.0035288308281451464, -0.029859621077775955, 0.03638336807489395, 0.016231708228588104, 0.003934840206056833, 0.05320807173848152, -0.014314746484160423, -0.03079022467136383, 0.00034331539063714445, 0.0020401044748723507, 0.04164153337478638, -0.0330367237329483, -0.0014229916268959641, 0.01827845722436905, 0.013983046635985374, -0.049031633883714676, -0.04961950331926346, -0.00873094704002142, 0.00672675296664238, 0.022898420691490173, -0.023656614124774933, 0.025462154299020767, -0.004540674854069948, -0.02338896319270134, -0.05310384929180145, 0.00698527367785573, 0.029181547462940216, 0.061004407703876495, 0.006714723072946072, -0.03641652688384056, 0.0032846916001290083, 0.008913706988096237, 0.11790085583925247, 0.031099965795874596, 0.0695897787809372, -0.011743869632482529, 0.021133629605174065, 0.070072241127491, 0.034980908036231995, -0.02398279495537281, -0.04675838351249695, 0.015195668675005436, 0.011705865152180195, 0.03708332031965256, -0.041265200823545456, 0.008388304151594639, 0.021157413721084595, -0.03829735517501831, 0.008140580728650093, -0.007411738857626915, 0.020384976640343666, 0.06306376308202744, -0.041155267506837845, -0.029566124081611633, -0.004298703279346228, -0.0025685718283057213, -0.034733496606349945, -0.02687389962375164, 0.005489210598170757, -0.0038872414734214544, 0.0786566436290741, -0.03932742774486542, 0.010880178771913052, -0.0359942689538002, 0.004278053995221853, -0.016249319538474083, 0.036738473922014236, -0.00680067902430892, -0.017098676413297653, -0.02128341794013977, -0.023183301091194153, -0.01342878956347704, -0.014777038246393204, -0.030357813462615013, -0.023564821109175682, -0.014479199424386024, 0.015711508691310883, 0.03260604292154312, 0.0031718923710286617, -0.006659933365881443, -0.01850147172808647, 0.03320751339197159, 0.013535670936107635, 0.05127624049782753, 0.045210693031549454, -0.025808805599808693, 0.035886406898498535, 0.028680674731731415, -0.01888461597263813, 0.02960139885544777, 0.017718426883220673, 0.00873785000294447, -0.03874509409070015, -0.02940509282052517, -0.01965564303100109, 0.014906796626746655, 0.04658213630318642, -0.013952824287116528, -0.017324399203062057, 0.011319761164486408, -0.061258863657712936, -0.009856827557086945, -0.027780426666140556, -0.031132176518440247, -0.00951585453003645, 0.019735725596547127, 0.016525615006685257, 0.02034919336438179, -0.04150712862610817, 0.0015442909207195044, -0.0053963009268045425, -0.0021205884404480457, 0.02545287273824215, -0.006022913847118616, 0.01999344862997532, -0.06931173801422119, 0.00161912536714226, 0.05489807575941086, 0.010668993927538395, -0.0017607068875804543, -0.06124177202582359, 0.020620349794626236, 0.0619594044983387, -0.007887649349868298, -0.03493589907884598, 0.018378812819719315, -0.03263337165117264, -0.03505933657288551, -0.05210462957620621, 0.007973238825798035, 0.023832570761442184, -0.006220657378435135, 0.013204692862927914, -0.016352912411093712, -0.0030902083963155746, 0.01925516687333584, -0.007455851882696152, -0.001972530735656619, -0.03648987039923668, 0.04525947570800781, -0.020073866471648216, -0.045147646218538284, -0.05988388881087303, 0.06712766736745834, 0.012628228403627872, -0.0771482065320015, -0.03966555371880531, -0.019438518211245537, -0.013535653240978718, 0.005316110793501139, 0.05024633929133415, 0.006559768691658974, -0.0001367544464301318, 0.02085084281861782, 0.03320274502038956, -0.02611963264644146, 0.042076144367456436, 0.002917907666414976, -0.01743943803012371, -0.056426458060741425, 0.03373466059565544, -0.025105779990553856, -0.004430328030139208, -0.04260509833693504, -0.03950074315071106, -0.04544740915298462, -0.04222961515188217, -0.018098134547472, -0.03376645967364311, 0.010477249510586262, -0.001947329961694777, -0.047190021723508835, -0.031795747578144073, 0.012263474985957146, 0.0058832429349422455, -0.01239466480910778, -0.030426841229200363, 0.028370115906000137, 0.04164160043001175, -0.021052587777376175, -0.036823201924562454, 0.050106361508369446, 0.013987233862280846, -0.012884940952062607, 0.018844548612833023, 0.00982876680791378, 0.01855337619781494, -0.010852710343897343, 0.04460848867893219, -0.04519367963075638, -0.023046189919114113, -0.01182523462921381, 0.016277816146612167, 0.017175642773509026, 0.0059447926469147205, 0.056023892015218735, 0.029160896316170692, -0.001156960497610271, 0.027956455945968628, -0.010821494273841381, 0.002207311801612377, -0.06400809437036514, -0.01710088737308979, -0.04427759721875191, -0.049124449491500854, -0.017338698729872704, 0.022074349224567413, -0.011307606473565102, -0.016113480553030968, -0.016976021230220795, 0.014861758798360825, 0.04047274589538574, -0.009100795723497868, 0.05031634122133255, 0.009416989982128143, -0.00389053369872272, 0.0126475365832448, -0.009817932732403278, -0.02278456650674343, -0.033141959458589554, 0.0411960706114769, -0.027499346062541008, -0.02071169577538967, -0.04996996000409126, 0.016096971929073334, -0.003968017641454935, 0.020326433703303337, 0.011228584684431553, -0.02006620541214943, -0.02741274982690811, -0.017784366384148598, 0.018029531463980675, 0.016614394262433052, -0.03857836127281189, 0.012364703230559826, -0.01131830457597971, 0.0376138761639595, -0.027642980217933655, 0.013824623078107834, -0.023534052073955536, 0.008974495343863964, -0.05862106755375862, -0.02148314006626606, -0.02966706082224846, 0.036176521331071854, -0.018024638295173645, -0.012350439094007015, 0.016173597425222397, 0.03534536808729172, -0.0002109188208123669, -0.041481293737888336, -0.031666308641433716, -0.0033281652722507715, 0.025134319439530373, 0.014346322044730186, 0.006615712773054838, 0.023551205173134804, 0.04292266070842743, 0.01592867262661457, -0.010593854822218418, 0.03946453705430031, -0.0592852383852005, -0.04751729965209961, -0.08907996118068695, 0.0031905050855129957, -0.0014873300679028034, -0.030002640560269356, -0.05027507618069649, -0.03704571723937988, -0.036677464842796326, 0.043301958590745926, 0.04400619491934776, -0.0032297223806381226, 0.005522610154002905, 0.0038579979445785284, 0.026014497503638268, 0.010037649422883987, 0.01600313000380993, 0.036739546805620193, 0.04930607229471207, 0.020217789337038994, -0.016207030043005943, -0.0051714577712118626, 0.0013289863709360361, -0.04778191074728966, -0.015078023076057434, -0.007275787647813559, 0.03361353650689125, 0.006578372325748205, 0.043166257441043854, 0.001270617707632482, -0.03435470536351204, -0.07999035716056824, -0.04204932600259781, -0.006809747312217951, 0.03422750160098076, 0.0337909534573555, -0.049693018198013306, 0.02076209895312786, 0.007467956747859716, -0.004254702944308519, -0.003661805996671319, 0.0431085005402565, -0.0266632791608572, 0.034895721822977066, -0.04296611621975899, -0.0008106479072012007, -0.04056616872549057, 0.06343267112970352, 0.02286730892956257, -0.027616310864686966, 0.011959787458181381, -0.04313390702009201, -0.03293832018971443, -0.014371349476277828, 0.016590716317296028, 0.04911736398935318, 0.03031640686094761, 0.0570254772901535, 0.05907309055328369, -0.026504063978791237, 0.023804130032658577, 0.04976717010140419, -0.018434716388583183, -0.015718521550297737, -0.03951643407344818, -0.024413591250777245, -0.006542311515659094, 0.014899472706019878, -0.06329867988824844, 0.0039657047018408775, -0.015427355654537678, 0.03699216991662979, -0.00232246913947165, -0.004960401449352503, 0.020956797525286674, 0.015857646241784096, 0.028226491063833237, -0.030611641705036163, -0.0010724264429882169, 0.019533205777406693, -0.004596380516886711, 0.020397616550326347, -0.045551467686891556, -0.03624197095632553, 0.04765700548887253, -0.004888790659606457, -0.010215875692665577, 0.02639179676771164, 0.0016798042925074697, -0.03805210813879967, -0.03683004900813103, 0.031170440837740898, -0.00924768391996622, 0.004816148895770311, -0.0053459517657756805, -0.021732380613684654, -0.037375763058662415, 0.0008105585584416986, -0.06485391408205032, -0.02476591430604458, 0.02905023843050003, -0.0024346341378986835, 0.012257273308932781, -0.004699599463492632, -0.021676473319530487, -0.007568263914436102, 0.005850085522979498, 0.0391596220433712, 0.039406668394804, -0.050123296678066254, 0.03170216083526611, -0.07349864393472672, -0.09133097529411316, -0.028157789260149002, -0.02491760067641735, -0.02981242537498474, -0.04681645333766937, 0.002109567867591977, 0.014890090562403202, 0.010722704231739044, -0.02639884129166603, 0.02848711982369423, -0.025916747748851776, -0.03047296032309532, 0.04702385887503624, -0.017728010192513466, 0.020971767604351044, -0.011406263336539268, 0.01283217966556549, -0.0485190823674202, 0.03232499212026596, -0.029807841405272484, 0.02921624481678009, -0.034582361578941345, 0.03254382312297821, 0.02294032834470272, -0.01819869503378868, -0.004950024653226137, -0.023372270166873932, 0.09634049236774445, 0.019980892539024353, 0.0019132731249555945, 0.0010623771231621504, -0.03386843949556351, -0.01924392394721508, -0.010987965390086174, -0.02226666733622551, 0.02752751111984253, -0.03695495054125786, -0.05022653937339783, -0.013709395192563534, -0.043595343828201294, 1.476684701628983e-05, 0.011669222265481949, -0.011574462056159973, 0.029145313426852226, -0.0031247977167367935, 0.04140522703528404, 0.021830204874277115, -0.04117939621210098, 0.00698121590539813, 0.024912046268582344, -0.0051771835424005985, 0.013338904827833176, -0.002246946096420288, 0.051168832927942276, 0.006533983629196882, -0.023247074335813522, -0.005174741148948669, 0.025013407692313194, -0.022861670702695847, -0.04980779066681862, 0.023171989247202873, 0.04532436281442642, -0.0626143142580986, 0.053247399628162384, 0.022645941004157066, 0.01948918029665947, 0.05744480714201927, -0.02289533242583275, 0.044635046273469925, 0.04439434036612511, 0.019751571118831635, 0.027773842215538025, -0.005857584532350302, 0.03266500309109688, 0.02815098688006401, 0.04220213368535042, 0.01843581534922123, 0.0005326565587893128, -0.03335849568247795, 0.017406046390533447, -0.01270981039851904, 0.005621969234198332, -0.01723664253950119, 0.02454182133078575, 0.04698881879448891, -0.009630925953388214, 0.0039803809486329556, -0.0008852017926983535, -0.0016029095277190208, -0.0007922376389615238, 0.02270132675766945, -0.004465832374989986, 0.0015436160610988736, -0.017892122268676758, -0.03637932986021042, -0.016808457672595978, -0.01926320046186447, -0.003098025219514966, -0.01265748031437397, 0.009154602885246277, 0.04556317254900932, -0.016839904710650444, 0.01766609214246273, 0.027927130460739136, 0.010466426610946655, 0.0061058602295815945, 0.021038468927145004, -0.001650121994316578, -0.01709454134106636, -0.005453324411064386, 0.017160365357995033, 0.02101900987327099, 0.001702597364783287, -0.018937211483716965, -0.011293567717075348, -0.0026219720020890236, -0.03429931029677391, 0.010372673161327839, -0.019416948780417442, -0.04960336163640022, 0.00174039788544178, -0.001097033149562776, 0.012937303632497787, -0.013953122310340405, -0.00028185214614495635, -0.026158897206187248, 0.02111319825053215, -0.01774575375020504, -0.009137550368905067, 0.039227332919836044, 0.03321750834584236, -0.014521103352308273, -0.020401617512106895, 0.016168097034096718], 'query_similarity_score': 0.8577659196952101}),\n",
       " _DocumentWithState(metadata={'source': './test_source/산업통상자원부_에너지바우처.pdf', 'page': 5}, page_content='가. 하절기바우처 (60,950 백만원 )\\n ㆍ 115.0만 세대 × 5.3만원 × 100% = 60,950 백만원\\n나. 동절기바우처 (600,521 백만원 )\\n ㆍ (’23확대) 113.1만 세대 × 30.4만원 × 70% = 240,677 백만원\\n ㆍ (’24지원) 114.6만 세대 × 31.4만원 = 359,844 백만원\\n다. 연탄쿠폰 (21,240 백만원 )\\n ㆍ 4.5만 세대 × 47.2만원 = 21,240 백만원\\n라. 등유바우처 (1,023 백만원 )\\n ㆍ 0.33만 세대 × 31만원 = 1,023백만원\\n마. 사업운영비 (1,872 백만원 )\\n ㆍ 에너지복지 홍보: 448백만원\\n ㆍ 시스템 고도화 : 705백만원\\n ㆍ 콜센터 운영 : 502.7백만원\\n ㆍ 패널조사 : 131.7백만원\\n ㆍ 에너지바우처 전달체계 구축 : 34.6백만원\\n ㆍ 주택관리공단 운영지원 : 50백만원', state={'embedded_doc': [0.03457677364349365, -0.00690061179921031, -0.02275403030216694, -0.02180938422679901, 0.026583684608340263, -0.05088424310088158, -0.018336310982704163, 0.07165928184986115, 0.048063598573207855, -0.02220936305820942, 0.04932256042957306, -0.006845701485872269, -0.040439363569021225, 0.005346165969967842, -0.04067879542708397, -0.009660555049777031, -0.022502804175019264, 0.03246665373444557, 0.020147237926721573, 0.0037353907246142626, 0.058716755360364914, -0.0018721900414675474, -0.022825108841061592, -0.0437530055642128, -0.018896298483014107, -0.016385363414883614, -0.03466535732150078, -0.033571600914001465, 0.003606431419029832, -0.015741126611828804, -0.022078195586800575, -0.018303513526916504, -0.04691999405622482, -0.05361431837081909, -0.02778891660273075, 0.005632017273455858, 0.02863888442516327, 0.02833523415029049, -0.04042055457830429, 0.00696762977167964, -0.009758252650499344, 0.055034101009368896, -0.009651088155806065, 0.002807909157127142, -0.01743357442319393, 0.008778439834713936, 0.03705498203635216, -0.0076759932562708855, -0.010357935912907124, 0.01126005221158266, 0.03215317055583, -0.0012420351849868894, -0.015679871663451195, -0.012974651530385017, 0.0010914915474131703, 0.032943543046712875, -0.04775102809071541, 0.0017808234551921487, -0.05074360966682434, 0.009402832016348839, -0.03230781480669975, 0.0012087400536984205, 0.019930565729737282, -0.03608100116252899, -0.00949157401919365, 0.033880386501550674, 0.04196814447641373, 0.012891502119600773, -0.04837322235107422, 0.02934437431395054, -0.015553894452750683, -0.009570370428264141, 0.003955236170440912, -0.010412238538265228, -0.0562208890914917, 0.006544443313032389, 0.05268844962120056, 0.001863365527242422, 0.019454453140497208, -0.039513349533081055, 0.05166773125529289, -0.046563770622015, 0.02636207826435566, -0.02376590110361576, 0.009518365375697613, 0.013971085660159588, 0.057464439421892166, 0.05471845716238022, 0.01041585486382246, 0.05419242009520531, -0.016470974311232567, -0.0032879647333174944, 0.008863489143550396, 0.008219679817557335, -0.035515476018190384, 0.021969066932797432, -0.0041282642632722855, 0.005774840712547302, -0.02809044159948826, -0.005361391231417656, 0.007495024241507053, -0.0057109035551548, 0.01730925776064396, -0.03775831311941147, -0.052956562489271164, 0.04054269939661026, 0.020397448912262917, 0.03516392782330513, 0.01747128926217556, 0.028469229117035866, -0.0024047924671322107, 0.057772573083639145, 0.00548475282266736, -0.01868245378136635, -0.04603181779384613, 0.030031532049179077, -0.034315839409828186, -0.03412725031375885, -0.016298193484544754, 0.03675681725144386, 0.04071827232837677, 0.014035921543836594, -0.00962070096284151, -0.04644865542650223, 0.05004581809043884, -0.018543506041169167, 0.011022730730473995, 0.041591987013816833, -0.023034311830997467, 0.029196811839938164, 0.033683326095342636, 0.0382998026907444, -0.013651891611516476, -0.012506913393735886, -0.05002627149224281, -0.03298866003751755, 0.014142566360533237, -0.02464771643280983, -0.01138273999094963, 0.00265908963046968, -0.007745192386209965, 0.020618636161088943, 0.03897343948483467, -0.03742474317550659, -0.028446512296795845, -0.037964098155498505, -0.005018702708184719, 0.006448774132877588, -0.0020355822052806616, -0.0016930075362324715, 0.020735355094075203, 0.0013406699290499091, -5.72543176531326e-05, -0.0008792323642410338, 0.03635728731751442, -0.024709496647119522, 0.03356824815273285, 0.01411818340420723, 0.021162647753953934, -0.03732245787978172, -0.0245253574103117, -0.04318726807832718, -0.028689976781606674, -0.05774204432964325, -0.01746329478919506, -0.013423054479062557, 0.025747356936335564, 0.007323284633457661, 0.0369393490254879, -0.012364847585558891, 0.0008021435351110995, -0.03235673904418945, 0.013485826551914215, -0.04189653694629669, -0.009087073616683483, 0.01803736761212349, 0.01601961813867092, 0.03956545144319534, -0.01826206035912037, -0.018553731963038445, 0.01072897482663393, 0.00905514694750309, 0.04076926037669182, -0.01372615247964859, -0.01889181323349476, 0.02843223512172699, 0.04313255473971367, 0.021936291828751564, 0.027302956208586693, 0.07662682980298996, 0.024358419701457024, -0.028681544587016106, -0.030862396582961082, 0.04137314483523369, -0.038271158933639526, 0.01889515481889248, 0.027496593073010445, 0.0033566381316632032, -0.018043797463178635, -0.01223937701433897, 0.014647184871137142, 0.000986723112873733, -0.028554223477840424, -0.0034745903685688972, 0.01052470039576292, -0.016345318406820297, -0.04543493315577507, -0.008629119955003262, 0.02350042015314102, -0.07497122883796692, -0.09333416074514389, -0.013478739187121391, 0.0465022549033165, 0.033254045993089676, -0.019434940069913864, -0.04726773872971535, -0.019127847626805305, -0.02347780205309391, 0.03149687871336937, -0.018412986770272255, -0.009514671750366688, 0.03280121833086014, -0.003494572127237916, 0.035785023123025894, 0.01559164747595787, 0.03386124595999718, -0.020563751459121704, 0.04117666557431221, 0.018134580925107002, 0.016112880781292915, 0.0149987218901515, 0.026129700243473053, -0.06221986934542656, -0.03463554382324219, -0.014797398820519447, -0.002937157405540347, -0.027149679139256477, 0.00551439868286252, 0.02236260659992695, 0.028016304597258568, -0.039357900619506836, -0.0012824592413380742, 0.033532969653606415, -0.019685689359903336, -0.02968914620578289, 0.008032700978219509, 0.0033295501489192247, 0.004048054106533527, 0.0007829699316062033, -0.05059566721320152, 0.03831220790743828, 0.012081854976713657, -0.03300689533352852, -0.008661922067403793, 0.0030237992759793997, 0.03529462218284607, 0.02202337421476841, -0.01643659919500351, 0.00325678288936615, -0.0463593527674675, 0.014915351755917072, 0.0021162284538149834, -0.0022992719896137714, 0.037289708852767944, 0.0043532708659768105, 0.011556888930499554, -0.01238260604441166, -0.022088445723056793, -0.021396175026893616, -0.05871274322271347, -0.04250194504857063, -0.03990599513053894, -0.04733625054359436, -0.01671014353632927, -0.0264979787170887, 0.00042254108120687306, -0.040944647043943405, -0.034471988677978516, 0.001803530496545136, 0.0030127440113574266, 0.01185961626470089, 0.010280100628733635, 0.018705839291214943, -0.046099454164505005, -0.0006373831420205534, -0.0025192329194396734, 0.0013139339862391353, -0.01061922311782837, -0.010890873149037361, -0.026706401258707047, 0.0048998515121638775, 0.0008673614356666803, 0.12500207126140594, 0.035378120839595795, 0.01555967889726162, 0.03246662765741348, -0.04096321016550064, -0.10290917754173279, -0.016405006870627403, 0.02850564941763878, 0.001733966637402773, -0.027842896059155464, 0.049256857484579086, 0.013104796409606934, -0.04877452924847603, -0.00785935390740633, -0.007043424993753433, -0.0010466609383001924, -0.08489374816417694, 0.019021926447749138, 0.03503376618027687, 0.012422761879861355, 0.014212812297046185, -0.04257015883922577, -0.020450087264180183, -0.034763626754283905, -0.019048411399126053, 0.02862534672021866, -0.03179056569933891, 0.01598776876926422, -0.04451661556959152, -0.0379084013402462, -0.03805755451321602, 0.013894716277718544, 0.03199012577533722, -0.005392575636506081, 0.010153104551136494, 0.002660730155184865, 0.01958044245839119, -0.0017289607785642147, 0.044638436287641525, -0.036546528339385986, 0.009067390114068985, 0.08472247421741486, -0.022485530003905296, 0.022875690832734108, -0.04286050796508789, 0.009576781652867794, 0.03219640627503395, -0.003395180217921734, 0.010878424160182476, 0.008652258664369583, -0.0202829260379076, -0.0380745492875576, 0.029931843280792236, -0.05790255591273308, -0.007443787530064583, -0.033995576202869415, 0.043346043676137924, 0.015367066487669945, -0.006123868282884359, -0.016030211001634598, 0.003210477065294981, -0.0051438030786812305, -0.000768096128012985, 0.05958184972405434, 0.01721530221402645, -0.025117885321378708, 0.036243926733732224, -0.027813469991087914, 0.0412181094288826, -0.026680080220103264, 0.030387597158551216, -0.015830039978027344, 0.0016497360775247216, -0.013880886137485504, 0.022699669003486633, -0.016126031056046486, -0.0569947175681591, -0.010599902831017971, 0.051169253885746, 0.04299585893750191, -0.02072947844862938, -0.01068701222538948, -0.005132981110364199, 0.0224038977175951, -0.09075092524290085, 0.007756548468023539, 0.03372796252369881, -0.009069729596376419, -0.026196923106908798, -0.02801424078643322, -0.006210769526660442, -0.04495944082736969, -0.03466067835688591, -0.04214796796441078, 0.1960163116455078, -0.007002056576311588, 0.07848107814788818, -0.02194841206073761, 0.005190040450543165, 0.006292321719229221, -0.0034957416355609894, 0.010815131478011608, 0.008739441633224487, 0.04872861132025719, -0.04116936773061752, 0.04250681772828102, 0.029949083924293518, -0.027655920013785362, 0.04056083783507347, 0.04280070215463638, 0.012767897918820381, 0.04974594712257385, 0.03229832276701927, 0.023585785180330276, 0.030061792582273483, -0.04903380572795868, -0.01666397601366043, 0.021374646574258804, -0.07144813984632492, -0.03647425398230553, 0.0046022930182516575, 0.01946653239428997, -0.0337994322180748, 0.03761228546500206, -0.02562328241765499, -0.005850119050592184, -0.04721837490797043, -0.015414235182106495, 0.009442954324185848, 0.06361686438322067, 0.01865127682685852, 0.0008379004430025816, 0.04184187203645706, -0.001689912867732346, -0.028755437582731247, -0.002702444326132536, -0.010602171532809734, 0.034670423716306686, -0.03272167593240738, 0.023411180824041367, 0.043637316673994064, -0.038686759769916534, -0.010032105259597301, -0.0016437640879303217, 0.024636350572109222, 0.04874482750892639, -0.016473283991217613, -0.019824957475066185, -0.04349886253476143, -0.0319313146173954, -0.03411446884274483, -0.03715398535132408, -0.017896683886647224, 0.022312650457024574, 0.033509012311697006, -0.02136753872036934, -0.029987094923853874, -0.025576403364539146, 0.03572353348135948, 0.007047314662486315, -0.03414519131183624, -0.023194650188088417, -0.035520169883966446, -0.036492180079221725, -0.04768900200724602, -0.03619759902358055, -0.014571713283658028, 0.004935489036142826, 0.0026122296694666147, -0.03436316177248955, -0.02883937396109104, 0.05406982824206352, 0.00956818275153637, -0.016339076682925224, 0.0034127847757190466, -0.023218728601932526, -0.052036456763744354, 0.019841160625219345, 0.02393360063433647, 0.006827439647167921, 0.012125291861593723, 0.006846096366643906, -0.02441544272005558, 0.009078317321836948, 0.038404680788517, 0.026151681318879128, 0.03640804439783096, 0.031826626509428024, -0.0017069749301299453, -0.05976970121264458, 0.034305207431316376, 0.00950529519468546, -0.013295181095600128, -0.0052186353132128716, 0.030298013240098953, 0.00617311941459775, -0.009390083141624928, -0.00015329496818594635, 0.007628089282661676, -0.010117248632013798, 0.018492847681045532, 0.038166020065546036, -0.024009453132748604, -0.00922995526343584, 0.029747556895017624, -0.008878047578036785, 0.01734616793692112, -0.0367424450814724, 0.057684943079948425, -0.005767464637756348, 0.021208660677075386, -0.042138148099184036, 0.031019393354654312, 0.04039868339896202, 0.006185890641063452, 0.028646176680922508, -0.06934434920549393, 0.05195002630352974, -0.02950160764157772, 0.03282203525304794, -0.029705334454774857, -0.03978879749774933, 0.06720519065856934, 0.011033017188310623, 0.002754253800958395, -0.006915167905390263, -0.023113837465643883, 0.028291961178183556, 0.011546464636921883, -0.00901288352906704, 0.04385794326663017, -0.01359904557466507, -0.01977524720132351, 0.017604678869247437, -0.01378345675766468, 0.030347250401973724, -0.026538942009210587, -0.00167564966250211, 0.013538632541894913, 0.010653940960764885, -0.048636700958013535, -0.04405249282717705, -0.016703329980373383, -0.0050411345437169075, 0.02518824115395546, -0.020779278129339218, 0.0258733332157135, 0.0045102909207344055, -0.021352771669626236, -0.045230135321617126, 0.015782270580530167, 0.026353200897574425, 0.058313604444265366, 0.004141068086028099, -0.039088502526283264, 0.001556252595037222, 0.011932806111872196, 0.11904878169298172, 0.033553559333086014, 0.06120193749666214, -0.016766496002674103, 0.03813543543219566, 0.05571851134300232, 0.026997072622179985, -0.027948379516601562, -0.06750857084989548, 0.023936307057738304, -0.008540082722902298, 0.037308622151613235, -0.02472047321498394, 0.0020298429299145937, 0.024313732981681824, -0.02837255597114563, 0.011360268108546734, 0.0023133254144340754, 0.012818108312785625, 0.057000767439603806, -0.03791367635130882, -0.024062789976596832, -0.012510868720710278, -0.008257390931248665, -0.028619827702641487, -0.022424090653657913, -0.003050311468541622, 0.007752546574920416, 0.08237087726593018, -0.036300916224718094, 0.017307085916399956, -0.047814320772886276, 0.006854063831269741, -0.021447060629725456, 0.028072990477085114, -0.0014409718569368124, -0.014427167363464832, -0.018695926293730736, -0.012357867322862148, 0.004260540474206209, -0.017282303422689438, -0.030889129266142845, -0.013110848143696785, 9.165889059659094e-05, 0.02285938523709774, 0.03742866963148117, -0.002434834372252226, -0.0013199030654504895, -0.008637404069304466, 0.009965676814317703, 0.025102265179157257, 0.05046438053250313, 0.037155840545892715, -0.021620960906147957, 0.032579485327005386, 0.024093106389045715, -0.030001383274793625, 0.030215414240956306, 0.020916853100061417, 0.019294874742627144, -0.041022516787052155, -0.04435320198535919, -0.021608565002679825, 0.01311053428798914, 0.04516588896512985, -0.01701301336288452, -0.016314607113599777, 0.005019530653953552, -0.06067483872175217, -0.0058561586774885654, -0.04656720906496048, -0.0332709401845932, -0.01555816363543272, 0.0226540919393301, 0.019746342673897743, 0.02808917500078678, -0.025416197255253792, 0.0020021137315779924, -0.026287050917744637, -0.005636858753859997, 0.02026056870818138, -0.005654484964907169, 0.010661512613296509, -0.0591118261218071, 0.011481641791760921, 0.05597987025976181, 0.01101526990532875, 0.0017719463212415576, -0.05381700396537781, 0.03346671909093857, 0.07651646435260773, -0.021014569327235222, -0.022385377436876297, 0.020695975050330162, -0.024338023737072945, -0.03423454239964485, -0.05370199307799339, 0.011303598061203957, 0.011108026839792728, -0.00299438857473433, 0.019177034497261047, -0.0221250057220459, 0.012799789197742939, 0.02372785471379757, -0.012322654016315937, -0.00977990310639143, -0.05414976179599762, 0.053887154906988144, -0.027807986363768578, -0.03628681227564812, -0.07051753252744675, 0.0779040977358818, 0.028932208195328712, -0.058645401149988174, -0.04836438596248627, -0.025955356657505035, -0.023175662383437157, -0.019603915512561798, 0.055607788264751434, 0.010540940798819065, -0.00037524718209169805, 0.012867874465882778, 0.03925188258290291, -0.01780129037797451, 0.054127782583236694, -0.00046220808872021735, -0.018675507977604866, -0.04195721819996834, 0.026604151353240013, -0.03188481554389, -0.00048782327212393284, -0.032921720296144485, -0.03413674235343933, -0.041232556104660034, -0.04582219198346138, -0.004212368279695511, -0.03272117301821709, 0.02556561678647995, -0.012280131690204144, -0.053744565695524216, -0.04579470679163933, 0.014250689186155796, 0.01791495643556118, -0.026324748992919922, -0.030796075239777565, 0.03267897665500641, 0.05176397040486336, -0.024869630113244057, -0.03639117628335953, 0.0343601256608963, 0.029866471886634827, -0.009770642034709454, 0.016038216650485992, 0.023168176412582397, 0.014666127972304821, -0.02651645988225937, 0.04621816799044609, -0.04958206042647362, -0.00488724559545517, -0.0037285122089087963, -0.0013904996449127793, 0.01662372425198555, 0.024175547063350677, 0.06282856315374374, 0.01964646577835083, 0.002351440954953432, 0.05076950788497925, 0.002185371471568942, -0.0017196161206811666, -0.0588209442794323, -0.02601316012442112, -0.02726067788898945, -0.050770170986652374, -0.02710800990462303, 0.005092595238238573, -0.02391873486340046, -0.028063081204891205, -0.032420504838228226, 0.015142583288252354, 0.04101477190852165, 0.0011529483599588275, 0.05544362589716911, 0.00905563309788704, 0.0011594488751143217, 0.018242094665765762, 0.0022852704860270023, 0.0008514836663380265, -0.024628110229969025, 0.04126991331577301, -0.031166980043053627, -0.01790751703083515, -0.0421261340379715, 0.010301042348146439, -0.007673604413866997, 0.0314345546066761, 0.006354377605021, -0.023781416937708855, -0.029574256390333176, -0.007925041951239109, 0.011646676808595657, 0.010790777392685413, -0.04179845005273819, 0.014921743422746658, -0.022279562428593636, 0.019133899360895157, -0.022594526410102844, 0.025626804679632187, -0.01966877467930317, 0.018419988453388214, -0.0584004744887352, -0.012802161276340485, -0.03805321827530861, 0.029323259368538857, -0.017434755340218544, -0.02431466430425644, 0.017059922218322754, 0.015384068712592125, -0.0016347402706742287, -0.0496821291744709, -0.03792784363031387, 0.007629769388586283, 0.014534748159348965, 0.019416525959968567, 0.011909029446542263, 0.03101445361971855, 0.036927368491888046, 0.018438460305333138, -0.006986340507864952, 0.03233074024319649, -0.06342506408691406, -0.04356357827782631, -0.08573853969573975, 0.01676410809159279, -0.0003750951436813921, -0.04333748295903206, -0.048499640077352524, -0.04831182211637497, -0.0306136105209589, 0.039664436131715775, 0.04333198815584183, -0.003007374005392194, -0.007858694531023502, 0.008036212995648384, 0.01884206384420395, 0.009073195978999138, 0.02102877013385296, 0.03195536509156227, 0.031426724046468735, 0.009784316644072533, -0.010526545345783234, -0.004544563125818968, 0.00220573996193707, -0.04410022497177124, -0.0022708068136125803, -0.014187108725309372, 0.04112731292843819, 0.02077585458755493, 0.044548340141773224, 0.0008502204436808825, -0.03178059309720993, -0.06568334251642227, -0.0348757803440094, -0.0058580199256539345, 0.025777755305171013, 0.029448658227920532, -0.05295421555638313, 0.026007724925875664, 0.013502683490514755, -0.010085184127092361, -0.009799730032682419, 0.040994204580783844, -0.02547578513622284, 0.027117175981402397, -0.03375263139605522, -0.009486520662903786, -0.030409516766667366, 0.06153400242328644, 0.028106890618801117, -0.037161197513341904, 0.011478862725198269, -0.04376273974776268, -0.028433706611394882, -0.003989993594586849, 0.0087245162576437, 0.05541117861866951, 0.030257774516940117, 0.05492856726050377, 0.048597339540719986, -0.012934998609125614, 0.013555807992815971, 0.05817943438887596, 0.0028060530312359333, -0.018902502954006195, -0.04550375044345856, -0.01990349218249321, -0.008316484279930592, 0.005077019799500704, -0.05227413401007652, -0.004129335749894381, -0.019028780981898308, 0.029180480167269707, -0.007350978907197714, -0.010647213086485863, 0.022228730842471123, 0.02486143819987774, 0.03851701319217682, -0.04721980541944504, -0.0018363251583650708, 0.009381643496453762, 0.004214494489133358, 0.005124508403241634, -0.03052344359457493, -0.03818720579147339, 0.03901052474975586, -0.010421937331557274, -0.02039405331015587, 0.02356400340795517, -0.0017059409292414784, -0.036091648042201996, -0.016779815778136253, 0.03018367663025856, -0.0162077434360981, -0.0035912632010877132, -0.0004928933340124786, -0.012835568748414516, -0.03527308255434036, -0.008785190060734749, -0.04896680265665054, -0.0283191055059433, 0.026206091046333313, 0.005276165436953306, 0.005623361561447382, -0.00289132259786129, -0.017502864822745323, -0.017668070271611214, -0.001266848179511726, 0.031633030623197556, 0.0321350060403347, -0.042978253215551376, 0.029468555003404617, -0.07748807966709137, -0.08765023201704025, -0.02630561962723732, -0.022144684568047523, -0.03193264827132225, -0.038843605667352676, -0.004247059114277363, 0.016444554552435875, 0.019418736919760704, -0.01869790442287922, 0.033066172152757645, -0.018216010183095932, -0.031666435301303864, 0.042443566024303436, -0.023607132956385612, 0.015648718923330307, 0.003511657239869237, 0.008623389527201653, -0.05522444471716881, 0.02623380534350872, -0.029081735759973526, 0.02698095515370369, -0.012880004942417145, 0.02215524949133396, 0.019444432109594345, -0.022844113409519196, -0.003970939200371504, -0.022311465814709663, 0.10365666449069977, 0.034027229994535446, 0.010799597948789597, -0.004309540614485741, -0.03346006199717522, -0.01015161257237196, -0.008754185400903225, -0.028068818151950836, 0.027517184615135193, -0.045389074832201004, -0.04681917279958725, -2.2018335585016757e-05, -0.02873457968235016, 0.011958586052060127, 0.010734711773693562, -0.02932744473218918, 0.029244443401694298, 0.006435398478060961, 0.05228646844625473, 0.033985503017902374, -0.04443152993917465, 0.00984129961580038, 0.022847214713692665, -0.0024622143246233463, -0.0014102811692282557, -0.006554908584803343, 0.042745258659124374, 0.0015959605807438493, -0.031529635190963745, 0.009780889376997948, 0.024168068543076515, -0.01720409467816353, -0.04901133105158806, 0.013386384584009647, 0.051487501710653305, -0.06614044308662415, 0.03582768142223358, 0.020877648144960403, 0.01943914033472538, 0.05195533484220505, -0.005636986810714006, 0.045187026262283325, 0.048029717057943344, 0.009427491575479507, 0.032323043793439865, -2.5403618565178476e-05, 0.022123180329799652, 0.022497108206152916, 0.028748702257871628, 0.04076307266950607, 0.006492413114756346, -0.03501565754413605, 0.01813710667192936, -0.014571843668818474, 0.008280294016003609, -0.01303158514201641, 0.033140454441308975, 0.04495852068066597, -0.008919328451156616, -0.01037792768329382, 0.0038722066674381495, 0.00024949386715888977, -0.008418447338044643, 0.015744730830192566, 0.0038681409787386656, 0.00555327208712697, -0.01981564424932003, -0.03962080925703049, -0.017224330455064774, -0.02535114996135235, 0.007650145795196295, -0.010593407787382603, 0.015373404137790203, 0.047209084033966064, -0.030018148943781853, 0.010397962294518948, 0.03498591110110283, 0.008841019123792648, 0.02064027264714241, 0.005472169257700443, -0.01735800877213478, 0.0007456594030372798, 0.012518711388111115, 0.013506649993360043, 0.026263156905770302, -0.015848634764552116, -0.013781176880002022, -0.018981022760272026, -0.015848388895392418, -0.018905187025666237, 0.01872623711824417, -0.03498690202832222, -0.04002830758690834, 0.0006614553858526051, -0.001346271950751543, 0.02037632465362549, 0.0016392029356211424, 0.0015885384054854512, -0.02956683374941349, 0.02266690321266651, -0.027083950117230415, -0.007485436741262674, 0.029722781851887703, 0.027818463742733, -0.013537534512579441, -0.0096128536388278, 0.028522824868559837], 'query_similarity_score': 0.8566655135031781})]"
      ]
     },
     "execution_count": 10,
     "metadata": {},
     "output_type": "execute_result"
    }
   ],
   "source": [
    "from langchain.retrievers import ContextualCompressionRetriever\n",
    "from langchain.retrievers.document_compressors import EmbeddingsFilter\n",
    "\n",
    "embeddings = get_embedding()\n",
    "embeddings_filter = EmbeddingsFilter(embeddings=embeddings, similarity_threshold=0.80)\n",
    "compression_retriever = ContextualCompressionRetriever(\n",
    "    base_compressor=embeddings_filter, base_retriever=test_retriver\n",
    ")\n",
    "compression_retriever.invoke(querry)"
   ]
  }
 ],
 "metadata": {
  "kernelspec": {
   "display_name": "llm",
   "language": "python",
   "name": "python3"
  },
  "language_info": {
   "codemirror_mode": {
    "name": "ipython",
    "version": 3
   },
   "file_extension": ".py",
   "mimetype": "text/x-python",
   "name": "python",
   "nbconvert_exporter": "python",
   "pygments_lexer": "ipython3",
   "version": "3.12.4"
  }
 },
 "nbformat": 4,
 "nbformat_minor": 2
}
